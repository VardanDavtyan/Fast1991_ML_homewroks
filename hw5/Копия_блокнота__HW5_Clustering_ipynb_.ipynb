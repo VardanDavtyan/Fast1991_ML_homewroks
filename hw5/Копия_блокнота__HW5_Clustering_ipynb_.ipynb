{
  "nbformat": 4,
  "nbformat_minor": 0,
  "metadata": {
    "colab": {
      "provenance": []
    },
    "kernelspec": {
      "name": "python3",
      "display_name": "Python 3"
    },
    "language_info": {
      "name": "python"
    }
  },
  "cells": [
    {
      "cell_type": "markdown",
      "metadata": {
        "id": "qLDsaF5obCP0"
      },
      "source": [
        "# Mounting Google Drive\n",
        "\n",
        "1. Create a folder named ``ML`` in your drive\n",
        "\n",
        "2. Upload the compressed file ``hw9.zip`` into that folder\n",
        "\n",
        "3. Run the below code snippet and follow the instructions to give access to Colab"
      ]
    },
    {
      "cell_type": "code",
      "metadata": {
        "id": "SUE2oiKVb1FQ",
        "colab": {
          "base_uri": "https://localhost:8080/",
          "height": 345
        },
        "outputId": "106302e3-3b81-4e73-9c04-ed0ad91b64a7"
      },
      "source": [
        "from google.colab import drive\n",
        "drive.mount('/content/drive')"
      ],
      "execution_count": 33,
      "outputs": [
        {
          "output_type": "error",
          "ename": "KeyboardInterrupt",
          "evalue": "ignored",
          "traceback": [
            "\u001b[0;31m---------------------------------------------------------------------------\u001b[0m",
            "\u001b[0;31mKeyboardInterrupt\u001b[0m                         Traceback (most recent call last)",
            "\u001b[0;32m<ipython-input-33-d5df0069828e>\u001b[0m in \u001b[0;36m<cell line: 2>\u001b[0;34m()\u001b[0m\n\u001b[1;32m      1\u001b[0m \u001b[0;32mfrom\u001b[0m \u001b[0mgoogle\u001b[0m\u001b[0;34m.\u001b[0m\u001b[0mcolab\u001b[0m \u001b[0;32mimport\u001b[0m \u001b[0mdrive\u001b[0m\u001b[0;34m\u001b[0m\u001b[0;34m\u001b[0m\u001b[0m\n\u001b[0;32m----> 2\u001b[0;31m \u001b[0mdrive\u001b[0m\u001b[0;34m.\u001b[0m\u001b[0mmount\u001b[0m\u001b[0;34m(\u001b[0m\u001b[0;34m'/content/drive'\u001b[0m\u001b[0;34m)\u001b[0m\u001b[0;34m\u001b[0m\u001b[0;34m\u001b[0m\u001b[0m\n\u001b[0m",
            "\u001b[0;32m/usr/local/lib/python3.10/dist-packages/google/colab/drive.py\u001b[0m in \u001b[0;36mmount\u001b[0;34m(mountpoint, force_remount, timeout_ms, readonly)\u001b[0m\n\u001b[1;32m    101\u001b[0m \u001b[0;32mdef\u001b[0m \u001b[0mmount\u001b[0m\u001b[0;34m(\u001b[0m\u001b[0mmountpoint\u001b[0m\u001b[0;34m,\u001b[0m \u001b[0mforce_remount\u001b[0m\u001b[0;34m=\u001b[0m\u001b[0;32mFalse\u001b[0m\u001b[0;34m,\u001b[0m \u001b[0mtimeout_ms\u001b[0m\u001b[0;34m=\u001b[0m\u001b[0;36m120000\u001b[0m\u001b[0;34m,\u001b[0m \u001b[0mreadonly\u001b[0m\u001b[0;34m=\u001b[0m\u001b[0;32mFalse\u001b[0m\u001b[0;34m)\u001b[0m\u001b[0;34m:\u001b[0m\u001b[0;34m\u001b[0m\u001b[0;34m\u001b[0m\u001b[0m\n\u001b[1;32m    102\u001b[0m   \u001b[0;34m\"\"\"Mount your Google Drive at the specified mountpoint path.\"\"\"\u001b[0m\u001b[0;34m\u001b[0m\u001b[0;34m\u001b[0m\u001b[0m\n\u001b[0;32m--> 103\u001b[0;31m   return _mount(\n\u001b[0m\u001b[1;32m    104\u001b[0m       \u001b[0mmountpoint\u001b[0m\u001b[0;34m,\u001b[0m\u001b[0;34m\u001b[0m\u001b[0;34m\u001b[0m\u001b[0m\n\u001b[1;32m    105\u001b[0m       \u001b[0mforce_remount\u001b[0m\u001b[0;34m=\u001b[0m\u001b[0mforce_remount\u001b[0m\u001b[0;34m,\u001b[0m\u001b[0;34m\u001b[0m\u001b[0;34m\u001b[0m\u001b[0m\n",
            "\u001b[0;32m/usr/local/lib/python3.10/dist-packages/google/colab/drive.py\u001b[0m in \u001b[0;36m_mount\u001b[0;34m(mountpoint, force_remount, timeout_ms, ephemeral, readonly)\u001b[0m\n\u001b[1;32m    130\u001b[0m   )\n\u001b[1;32m    131\u001b[0m   \u001b[0;32mif\u001b[0m \u001b[0mephemeral\u001b[0m\u001b[0;34m:\u001b[0m\u001b[0;34m\u001b[0m\u001b[0;34m\u001b[0m\u001b[0m\n\u001b[0;32m--> 132\u001b[0;31m     _message.blocking_request(\n\u001b[0m\u001b[1;32m    133\u001b[0m         \u001b[0;34m'request_auth'\u001b[0m\u001b[0;34m,\u001b[0m \u001b[0mrequest\u001b[0m\u001b[0;34m=\u001b[0m\u001b[0;34m{\u001b[0m\u001b[0;34m'authType'\u001b[0m\u001b[0;34m:\u001b[0m \u001b[0;34m'dfs_ephemeral'\u001b[0m\u001b[0;34m}\u001b[0m\u001b[0;34m,\u001b[0m \u001b[0mtimeout_sec\u001b[0m\u001b[0;34m=\u001b[0m\u001b[0;32mNone\u001b[0m\u001b[0;34m\u001b[0m\u001b[0;34m\u001b[0m\u001b[0m\n\u001b[1;32m    134\u001b[0m     )\n",
            "\u001b[0;32m/usr/local/lib/python3.10/dist-packages/google/colab/_message.py\u001b[0m in \u001b[0;36mblocking_request\u001b[0;34m(request_type, request, timeout_sec, parent)\u001b[0m\n\u001b[1;32m    174\u001b[0m       \u001b[0mrequest_type\u001b[0m\u001b[0;34m,\u001b[0m \u001b[0mrequest\u001b[0m\u001b[0;34m,\u001b[0m \u001b[0mparent\u001b[0m\u001b[0;34m=\u001b[0m\u001b[0mparent\u001b[0m\u001b[0;34m,\u001b[0m \u001b[0mexpect_reply\u001b[0m\u001b[0;34m=\u001b[0m\u001b[0;32mTrue\u001b[0m\u001b[0;34m\u001b[0m\u001b[0;34m\u001b[0m\u001b[0m\n\u001b[1;32m    175\u001b[0m   )\n\u001b[0;32m--> 176\u001b[0;31m   \u001b[0;32mreturn\u001b[0m \u001b[0mread_reply_from_input\u001b[0m\u001b[0;34m(\u001b[0m\u001b[0mrequest_id\u001b[0m\u001b[0;34m,\u001b[0m \u001b[0mtimeout_sec\u001b[0m\u001b[0;34m)\u001b[0m\u001b[0;34m\u001b[0m\u001b[0;34m\u001b[0m\u001b[0m\n\u001b[0m",
            "\u001b[0;32m/usr/local/lib/python3.10/dist-packages/google/colab/_message.py\u001b[0m in \u001b[0;36mread_reply_from_input\u001b[0;34m(message_id, timeout_sec)\u001b[0m\n\u001b[1;32m     94\u001b[0m     \u001b[0mreply\u001b[0m \u001b[0;34m=\u001b[0m \u001b[0m_read_next_input_message\u001b[0m\u001b[0;34m(\u001b[0m\u001b[0;34m)\u001b[0m\u001b[0;34m\u001b[0m\u001b[0;34m\u001b[0m\u001b[0m\n\u001b[1;32m     95\u001b[0m     \u001b[0;32mif\u001b[0m \u001b[0mreply\u001b[0m \u001b[0;34m==\u001b[0m \u001b[0m_NOT_READY\u001b[0m \u001b[0;32mor\u001b[0m \u001b[0;32mnot\u001b[0m \u001b[0misinstance\u001b[0m\u001b[0;34m(\u001b[0m\u001b[0mreply\u001b[0m\u001b[0;34m,\u001b[0m \u001b[0mdict\u001b[0m\u001b[0;34m)\u001b[0m\u001b[0;34m:\u001b[0m\u001b[0;34m\u001b[0m\u001b[0;34m\u001b[0m\u001b[0m\n\u001b[0;32m---> 96\u001b[0;31m       \u001b[0mtime\u001b[0m\u001b[0;34m.\u001b[0m\u001b[0msleep\u001b[0m\u001b[0;34m(\u001b[0m\u001b[0;36m0.025\u001b[0m\u001b[0;34m)\u001b[0m\u001b[0;34m\u001b[0m\u001b[0;34m\u001b[0m\u001b[0m\n\u001b[0m\u001b[1;32m     97\u001b[0m       \u001b[0;32mcontinue\u001b[0m\u001b[0;34m\u001b[0m\u001b[0;34m\u001b[0m\u001b[0m\n\u001b[1;32m     98\u001b[0m     if (\n",
            "\u001b[0;31mKeyboardInterrupt\u001b[0m: "
          ]
        }
      ]
    },
    {
      "cell_type": "markdown",
      "metadata": {
        "id": "rTBAkQWge9pP"
      },
      "source": [
        "4. We will change our current directory, so that it is easier to import the necessary files from our drive. To do so, just run the below code cell"
      ]
    },
    {
      "cell_type": "code",
      "metadata": {
        "id": "aogm6VrzcWm4"
      },
      "source": [
        "cd drive/MyDrive/ML"
      ],
      "execution_count": null,
      "outputs": []
    },
    {
      "cell_type": "markdown",
      "metadata": {
        "id": "mysjIuuAfRPM"
      },
      "source": [
        "5. Now that we are in the desired location, we can unzip the compressed file.\n",
        "\n",
        "  **Note that this step needs to be done only once**"
      ]
    },
    {
      "cell_type": "code",
      "metadata": {
        "id": "GI8jHqGwfQMd"
      },
      "source": [
        "!unzip hw9.zip"
      ],
      "execution_count": null,
      "outputs": []
    },
    {
      "cell_type": "code",
      "metadata": {
        "id": "_kKhyQ047zP1",
        "colab": {
          "base_uri": "https://localhost:8080/"
        },
        "outputId": "178c5017-93a3-45ec-a705-9d47e5cfa723"
      },
      "source": [
        "import pandas as pd\n",
        "import numpy as np\n",
        "import matplotlib.pyplot as plt\n",
        "import sklearn.datasets\n",
        "\n",
        "plt.style.use('seaborn-whitegrid') # Plot style\n",
        "\n",
        "%load_ext autoreload\n",
        "%autoreload 2"
      ],
      "execution_count": 34,
      "outputs": [
        {
          "output_type": "stream",
          "name": "stdout",
          "text": [
            "The autoreload extension is already loaded. To reload it, use:\n",
            "  %reload_ext autoreload\n"
          ]
        },
        {
          "output_type": "stream",
          "name": "stderr",
          "text": [
            "<ipython-input-34-31d407800f8e>:6: MatplotlibDeprecationWarning: The seaborn styles shipped by Matplotlib are deprecated since 3.6, as they no longer correspond to the styles shipped by seaborn. However, they will remain available as 'seaborn-v0_8-<style>'. Alternatively, directly use the seaborn API instead.\n",
            "  plt.style.use('seaborn-whitegrid') # Plot style\n"
          ]
        }
      ]
    },
    {
      "cell_type": "markdown",
      "metadata": {
        "id": "mW38fce-7zVP"
      },
      "source": [
        "# K-Means\n",
        "\n",
        "Explore the visualization of the K-means algorithm at [this website](https://www.naftaliharris.com/blog/visualizing-k-means-clustering).\n",
        "\n",
        "Note that you must click on the buttons `Update Centroids` and `Reassign Points` multiple times, until convergence (until there are no changes in the contents of clusters).\n",
        "\n",
        "For example, at this website run K-means on the `Uniform dataset` initializing with `K=4` randomly chosen cluster centers."
      ]
    },
    {
      "cell_type": "markdown",
      "metadata": {
        "id": "5URZmXJX7zaX"
      },
      "source": [
        "**Problem1.(5 points)** Try to cluster the `Smiley Face` dataset on the same website by choosing initial cluster centers manually.\n",
        "\n",
        "Is it possible to choose the centers such that there would be `one cluster` which only contains the `left eye` of the smiley?"
      ]
    },
    {
      "cell_type": "markdown",
      "metadata": {
        "id": "O-DIiCne7zfp"
      },
      "source": [
        "**Answer:**"
      ]
    },
    {
      "cell_type": "markdown",
      "metadata": {
        "id": "3HsR_lcD7zkZ"
      },
      "source": [
        "**Problem2. (10 points)** Complete the `KMeans` algorithm in `clustering.py` script and use it to find `2, 3` and `4` clusters on the toy data defined below."
      ]
    },
    {
      "cell_type": "code",
      "metadata": {
        "id": "haenPetM8UJp"
      },
      "source": [
        "from clustering import KMeans"
      ],
      "execution_count": 35,
      "outputs": []
    },
    {
      "cell_type": "code",
      "metadata": {
        "id": "mpLcmtTI7zpE",
        "colab": {
          "base_uri": "https://localhost:8080/",
          "height": 332
        },
        "outputId": "5acaca71-b7f3-48c8-92d0-9fb457556b2b"
      },
      "source": [
        "data = pd.DataFrame(\n",
        "    {'ID':['P1','P2','P3','P4','P5','P6','P7','P8','P9'],\n",
        "    'x':[0,1,4,2,0,1,3,7,6],\n",
        "    'y':[1,1,0,3,5,6,6,4,8]})\n",
        "data"
      ],
      "execution_count": 36,
      "outputs": [
        {
          "output_type": "execute_result",
          "data": {
            "text/plain": [
              "   ID  x  y\n",
              "0  P1  0  1\n",
              "1  P2  1  1\n",
              "2  P3  4  0\n",
              "3  P4  2  3\n",
              "4  P5  0  5\n",
              "5  P6  1  6\n",
              "6  P7  3  6\n",
              "7  P8  7  4\n",
              "8  P9  6  8"
            ],
            "text/html": [
              "\n",
              "  <div id=\"df-c92a2df7-56a2-49dc-8333-24a70204fd5b\">\n",
              "    <div class=\"colab-df-container\">\n",
              "      <div>\n",
              "<style scoped>\n",
              "    .dataframe tbody tr th:only-of-type {\n",
              "        vertical-align: middle;\n",
              "    }\n",
              "\n",
              "    .dataframe tbody tr th {\n",
              "        vertical-align: top;\n",
              "    }\n",
              "\n",
              "    .dataframe thead th {\n",
              "        text-align: right;\n",
              "    }\n",
              "</style>\n",
              "<table border=\"1\" class=\"dataframe\">\n",
              "  <thead>\n",
              "    <tr style=\"text-align: right;\">\n",
              "      <th></th>\n",
              "      <th>ID</th>\n",
              "      <th>x</th>\n",
              "      <th>y</th>\n",
              "    </tr>\n",
              "  </thead>\n",
              "  <tbody>\n",
              "    <tr>\n",
              "      <th>0</th>\n",
              "      <td>P1</td>\n",
              "      <td>0</td>\n",
              "      <td>1</td>\n",
              "    </tr>\n",
              "    <tr>\n",
              "      <th>1</th>\n",
              "      <td>P2</td>\n",
              "      <td>1</td>\n",
              "      <td>1</td>\n",
              "    </tr>\n",
              "    <tr>\n",
              "      <th>2</th>\n",
              "      <td>P3</td>\n",
              "      <td>4</td>\n",
              "      <td>0</td>\n",
              "    </tr>\n",
              "    <tr>\n",
              "      <th>3</th>\n",
              "      <td>P4</td>\n",
              "      <td>2</td>\n",
              "      <td>3</td>\n",
              "    </tr>\n",
              "    <tr>\n",
              "      <th>4</th>\n",
              "      <td>P5</td>\n",
              "      <td>0</td>\n",
              "      <td>5</td>\n",
              "    </tr>\n",
              "    <tr>\n",
              "      <th>5</th>\n",
              "      <td>P6</td>\n",
              "      <td>1</td>\n",
              "      <td>6</td>\n",
              "    </tr>\n",
              "    <tr>\n",
              "      <th>6</th>\n",
              "      <td>P7</td>\n",
              "      <td>3</td>\n",
              "      <td>6</td>\n",
              "    </tr>\n",
              "    <tr>\n",
              "      <th>7</th>\n",
              "      <td>P8</td>\n",
              "      <td>7</td>\n",
              "      <td>4</td>\n",
              "    </tr>\n",
              "    <tr>\n",
              "      <th>8</th>\n",
              "      <td>P9</td>\n",
              "      <td>6</td>\n",
              "      <td>8</td>\n",
              "    </tr>\n",
              "  </tbody>\n",
              "</table>\n",
              "</div>\n",
              "      <button class=\"colab-df-convert\" onclick=\"convertToInteractive('df-c92a2df7-56a2-49dc-8333-24a70204fd5b')\"\n",
              "              title=\"Convert this dataframe to an interactive table.\"\n",
              "              style=\"display:none;\">\n",
              "        \n",
              "  <svg xmlns=\"http://www.w3.org/2000/svg\" height=\"24px\"viewBox=\"0 0 24 24\"\n",
              "       width=\"24px\">\n",
              "    <path d=\"M0 0h24v24H0V0z\" fill=\"none\"/>\n",
              "    <path d=\"M18.56 5.44l.94 2.06.94-2.06 2.06-.94-2.06-.94-.94-2.06-.94 2.06-2.06.94zm-11 1L8.5 8.5l.94-2.06 2.06-.94-2.06-.94L8.5 2.5l-.94 2.06-2.06.94zm10 10l.94 2.06.94-2.06 2.06-.94-2.06-.94-.94-2.06-.94 2.06-2.06.94z\"/><path d=\"M17.41 7.96l-1.37-1.37c-.4-.4-.92-.59-1.43-.59-.52 0-1.04.2-1.43.59L10.3 9.45l-7.72 7.72c-.78.78-.78 2.05 0 2.83L4 21.41c.39.39.9.59 1.41.59.51 0 1.02-.2 1.41-.59l7.78-7.78 2.81-2.81c.8-.78.8-2.07 0-2.86zM5.41 20L4 18.59l7.72-7.72 1.47 1.35L5.41 20z\"/>\n",
              "  </svg>\n",
              "      </button>\n",
              "      \n",
              "  <style>\n",
              "    .colab-df-container {\n",
              "      display:flex;\n",
              "      flex-wrap:wrap;\n",
              "      gap: 12px;\n",
              "    }\n",
              "\n",
              "    .colab-df-convert {\n",
              "      background-color: #E8F0FE;\n",
              "      border: none;\n",
              "      border-radius: 50%;\n",
              "      cursor: pointer;\n",
              "      display: none;\n",
              "      fill: #1967D2;\n",
              "      height: 32px;\n",
              "      padding: 0 0 0 0;\n",
              "      width: 32px;\n",
              "    }\n",
              "\n",
              "    .colab-df-convert:hover {\n",
              "      background-color: #E2EBFA;\n",
              "      box-shadow: 0px 1px 2px rgba(60, 64, 67, 0.3), 0px 1px 3px 1px rgba(60, 64, 67, 0.15);\n",
              "      fill: #174EA6;\n",
              "    }\n",
              "\n",
              "    [theme=dark] .colab-df-convert {\n",
              "      background-color: #3B4455;\n",
              "      fill: #D2E3FC;\n",
              "    }\n",
              "\n",
              "    [theme=dark] .colab-df-convert:hover {\n",
              "      background-color: #434B5C;\n",
              "      box-shadow: 0px 1px 3px 1px rgba(0, 0, 0, 0.15);\n",
              "      filter: drop-shadow(0px 1px 2px rgba(0, 0, 0, 0.3));\n",
              "      fill: #FFFFFF;\n",
              "    }\n",
              "  </style>\n",
              "\n",
              "      <script>\n",
              "        const buttonEl =\n",
              "          document.querySelector('#df-c92a2df7-56a2-49dc-8333-24a70204fd5b button.colab-df-convert');\n",
              "        buttonEl.style.display =\n",
              "          google.colab.kernel.accessAllowed ? 'block' : 'none';\n",
              "\n",
              "        async function convertToInteractive(key) {\n",
              "          const element = document.querySelector('#df-c92a2df7-56a2-49dc-8333-24a70204fd5b');\n",
              "          const dataTable =\n",
              "            await google.colab.kernel.invokeFunction('convertToInteractive',\n",
              "                                                     [key], {});\n",
              "          if (!dataTable) return;\n",
              "\n",
              "          const docLinkHtml = 'Like what you see? Visit the ' +\n",
              "            '<a target=\"_blank\" href=https://colab.research.google.com/notebooks/data_table.ipynb>data table notebook</a>'\n",
              "            + ' to learn more about interactive tables.';\n",
              "          element.innerHTML = '';\n",
              "          dataTable['output_type'] = 'display_data';\n",
              "          await google.colab.output.renderOutput(dataTable, element);\n",
              "          const docLink = document.createElement('div');\n",
              "          docLink.innerHTML = docLinkHtml;\n",
              "          element.appendChild(docLink);\n",
              "        }\n",
              "      </script>\n",
              "    </div>\n",
              "  </div>\n",
              "  "
            ]
          },
          "metadata": {},
          "execution_count": 36
        }
      ]
    },
    {
      "cell_type": "code",
      "metadata": {
        "id": "RAG1wa_H9i8q",
        "colab": {
          "base_uri": "https://localhost:8080/",
          "height": 691
        },
        "outputId": "8752ab06-bc1c-4e1f-e541-8c0a8ad173f1"
      },
      "source": [
        "plt.rcParams['figure.figsize'] = [8, 8]\n",
        "plt.scatter(data['x'], data['y'])\n",
        "plt.xlabel('x')\n",
        "plt.ylabel('y')\n",
        "\n",
        "# adding text next to the points\n",
        "for i, label in enumerate(data['ID']):\n",
        "    x = data['x'][i]+0.1\n",
        "    y = data['y'][i]\n",
        "    plt.annotate(label,(x,y))"
      ],
      "execution_count": 37,
      "outputs": [
        {
          "output_type": "display_data",
          "data": {
            "text/plain": [
              "<Figure size 800x800 with 1 Axes>"
            ],
            "image/png": "[encoded data removed]"
          },
          "metadata": {}
        }
      ]
    },
    {
      "cell_type": "code",
      "metadata": {
        "id": "GxJgD-zv9khX"
      },
      "source": [
        "def plot_data(X, model):\n",
        "  \"\"\"\n",
        "  Helper function to plot the data points\n",
        "  in the toy dataset and also plots the centroids\n",
        "  using the fitted model\n",
        "  \"\"\"\n",
        "  plt.figure(figsize=(8, 6))\n",
        "  for i in range(model.k):\n",
        "    plt.scatter(data.loc[model.labels == i, 'x'],\n",
        "             data.loc[model.labels == i, 'y'],\n",
        "             marker='o' , label=f'{i}')\n",
        "    plt.plot(model.centroids[i][0],\n",
        "             model.centroids[i][1],\n",
        "             marker='*', markersize=12)\n",
        "\n",
        "  # adding text next to the points\n",
        "  for i, label in enumerate(data['ID']):\n",
        "    x = data['x'][i]+0.1\n",
        "    y = data['y'][i]\n",
        "    plt.annotate(label,(x,y))\n",
        "\n",
        "  plt.legend()\n",
        "  plt.show()"
      ],
      "execution_count": 38,
      "outputs": []
    },
    {
      "cell_type": "markdown",
      "metadata": {
        "id": "9gmjE05J9u_Y"
      },
      "source": [
        "For each number of clusters ($K$) run the algorithm several times and plot the results, to see how whether the clusters differ during each run."
      ]
    },
    {
      "cell_type": "code",
      "metadata": {
        "id": "WlWgV1JtmQve",
        "colab": {
          "base_uri": "https://localhost:8080/",
          "height": 534
        },
        "outputId": "74b09fd4-809c-41d9-b08a-a3a3bc4561a6"
      },
      "source": [
        "model = KMeans(k=2, tol=0.001)\n",
        "model.fit(data[['x', 'y']])\n",
        "plot_data(data, model)"
      ],
      "execution_count": 39,
      "outputs": [
        {
          "output_type": "stream",
          "name": "stdout",
          "text": [
            "Converged in 4 steps\n"
          ]
        },
        {
          "output_type": "display_data",
          "data": {
            "text/plain": [
              "<Figure size 800x600 with 1 Axes>"
            ],
            "image/png": "[encoded data removed]"
          },
          "metadata": {}
        }
      ]
    },
    {
      "cell_type": "code",
      "metadata": {
        "id": "QlAHxKesgC-7",
        "colab": {
          "base_uri": "https://localhost:8080/",
          "height": 534
        },
        "outputId": "4b45edc3-4e8a-4c73-fb01-906c36b4c5fe"
      },
      "source": [
        "model = KMeans(k=3, tol=0.001)\n",
        "model.fit(data[['x', 'y']])\n",
        "plot_data(data, model)"
      ],
      "execution_count": 40,
      "outputs": [
        {
          "output_type": "stream",
          "name": "stdout",
          "text": [
            "Converged in 4 steps\n"
          ]
        },
        {
          "output_type": "display_data",
          "data": {
            "text/plain": [
              "<Figure size 800x600 with 1 Axes>"
            ],
            "image/png": "[encoded data removed]"
          },
          "metadata": {}
        }
      ]
    },
    {
      "cell_type": "code",
      "metadata": {
        "id": "xUpKUUADHHdh",
        "colab": {
          "base_uri": "https://localhost:8080/",
          "height": 534
        },
        "outputId": "513b2cf1-8833-498c-ae12-1ced65cbbe6c"
      },
      "source": [
        "model = KMeans(k=4, tol=0.001)\n",
        "model.fit(data[['x', 'y']])\n",
        "plot_data(data, model)"
      ],
      "execution_count": 41,
      "outputs": [
        {
          "output_type": "stream",
          "name": "stdout",
          "text": [
            "Converged in 4 steps\n"
          ]
        },
        {
          "output_type": "display_data",
          "data": {
            "text/plain": [
              "<Figure size 800x600 with 1 Axes>"
            ],
            "image/png": "[encoded data removed]"
          },
          "metadata": {}
        }
      ]
    },
    {
      "cell_type": "markdown",
      "metadata": {
        "id": "dTtiakOJ-xa8"
      },
      "source": [
        "**Question:** What happened when you executed the algorithm for several times for each of the cases?"
      ]
    },
    {
      "cell_type": "markdown",
      "metadata": {
        "id": "dQosprK4_A27"
      },
      "source": [
        "**Answer:**"
      ]
    },
    {
      "cell_type": "markdown",
      "metadata": {
        "id": "bAmBxCln_CnM"
      },
      "source": [
        "# Hierarchical Clustering\n",
        "\n",
        "**Problem3. (5 points)** Perform hierarchical clustering of the toy dataset introduced above. Calculate distances between instances using Euclidean distance in the 2-dimensional space determined by features `x` and `y`. For calculating distances between clusters use `single linkage` method. Each time when you merge two clusters (even if they consist of only a single instance) report the following\n",
        "\n",
        "* List of instance IDs in one cluster\n",
        "* List of instance IDs in the other cluster\n",
        "* Distance between these clusters\n",
        "\n",
        "Sometimes there can be alternatives with the same distances, in such case just decide randomly which of the alternatives to choose. Do this steps manually on paper (without programming) take a photo of the work and attach it with this homework.\n",
        "\n",
        "For example, the first three clusters will be\n",
        "\n",
        "$$[P1] + [P2] \\ \\rightarrow \\   d=\\sqrt{(0-1)^2+(1-1)^2}=\\sqrt{1}=1$$\n",
        "$$[P5] + [P6] \\ \\rightarrow \\   d=\\sqrt{(0-1)^2+(5-6)^2}=\\sqrt{2} \\approx 1.41$$\n",
        "$$[P5,P6] + [P7] \\ \\rightarrow \\   d=\\sqrt{(1-3)^2+(6-6)^2}=\\sqrt{4} = 2$$\n",
        "\n",
        "Continue forming the clusters.\n",
        "\n"
      ]
    },
    {
      "cell_type": "markdown",
      "metadata": {
        "id": "pPOnZQ-U_rpL"
      },
      "source": [
        "**Problem4: (5 points)**  After finishing the above, do the same with `complete linkage` method and report the results similarly.\n",
        "\n",
        "In this case the first three clusters will be\n",
        "\n",
        "$$[P1] + [P2] \\ \\rightarrow \\   d=\\sqrt{(0-1)^2+(1-1)^2}=\\sqrt{1}=1$$\n",
        "$$[P5] + [P6] \\ \\rightarrow \\   d=\\sqrt{(0-1)^2+(5-6)^2}=\\sqrt{2} \\approx 1.41$$\n",
        "$$[P2,P1] + [P4] \\ \\rightarrow \\   d=\\sqrt{(0-2)^2+(1-3)^2}=\\sqrt{8} \\approx 2.83$$\n",
        "\n",
        "Continue forming the clusters."
      ]
    },
    {
      "cell_type": "markdown",
      "metadata": {
        "id": "7Fqo3Day_sDg"
      },
      "source": [
        "Now we will draw the dendrograms of both clusterings.\n",
        "\n",
        "The code for drawing a dendrogram of the clustering from the Task 1 and 2 are written below. You can also check your answers in those tasks with the resulting dendrograms.\n"
      ]
    },
    {
      "cell_type": "code",
      "metadata": {
        "id": "Ni94I8Cs_sIt",
        "colab": {
          "base_uri": "https://localhost:8080/",
          "height": 402
        },
        "outputId": "1ab08296-8fbc-4b21-cf35-b28a5c6eeb30"
      },
      "source": [
        "from scipy.cluster import hierarchy\n",
        "plt.rcParams['figure.figsize'] = [15, 8]\n",
        "\n",
        "single = hierarchy.linkage(data[['x','y']], 'single')\n",
        "plt.subplot(1,2,1)\n",
        "plt.title('Single linkage')\n",
        "single_dm = hierarchy.dendrogram(single, labels=data.ID.tolist(), color_threshold=0)\n",
        "\n",
        "complete = hierarchy.linkage(data[['x','y']], 'complete')\n",
        "plt.subplot(1,2,2)\n",
        "plt.title('Complete linkage')\n",
        "complete_dm = hierarchy.dendrogram(complete, labels=data.ID.tolist(), color_threshold=0)\n",
        "\n",
        "plt.show()"
      ],
      "execution_count": 42,
      "outputs": [
        {
          "output_type": "display_data",
          "data": {
            "text/plain": [
              "<Figure size 1500x800 with 2 Axes>"
            ],
            "image/png": "[encoded data removed]"
          },
          "metadata": {}
        }
      ]
    },
    {
      "cell_type": "markdown",
      "metadata": {
        "id": "JGVlSrtSAvZn"
      },
      "source": [
        "**Problem5. (5 points)** For this task you should\n",
        "\n",
        "* find a subcluster in the single linkage dendrogram such that none of the subclusters in the complete linkage dendrogram consists of exactly the same set of instances.\n",
        "\n",
        "* find a subcluster in the complete linkage dendrogram such that none of the subclusters in the single linkage dendrogram consists of exactly the same set of instances.\n"
      ]
    },
    {
      "cell_type": "markdown",
      "metadata": {
        "id": "A_N4AfVP_sNX"
      },
      "source": [
        "**Answer:**"
      ]
    },
    {
      "cell_type": "markdown",
      "metadata": {
        "id": "t8Fvs7ov_sRr"
      },
      "source": [
        "**Problem6. (10 points)** Complete the `HierarchicalClustering` algorithm in `clustering.py` script and show that you are getting the same result as above (you don't have to draw a dendrogram)."
      ]
    },
    {
      "cell_type": "code",
      "metadata": {
        "id": "noMTmBhcBDwb"
      },
      "source": [
        "from clustering import HierarchicalClustering\n",
        "\n",
        "def euclidean(point, data):\n",
        "  return np.sqrt(np.sum((point - data)**2, axis=1))\n",
        "\n",
        "model = HierarchicalClustering(nr_clusters=2, diss_func=euclidean, linkage='single')\n",
        "single = model.fit(data[['x', 'y']])\n"
      ],
      "execution_count": 49,
      "outputs": []
    },
    {
      "cell_type": "code",
      "source": [
        "single_dm = hierarchy.dendrogram(single, labels=data.ID.tolist(), color_threshold=0)"
      ],
      "metadata": {
        "colab": {
          "base_uri": "https://localhost:8080/",
          "height": 356
        },
        "id": "EiJhu7jydMIq",
        "outputId": "a0aefef4-07f6-449d-878a-8738aa6a46ac"
      },
      "execution_count": 50,
      "outputs": [
        {
          "output_type": "error",
          "ename": "IndexError",
          "evalue": "ignored",
          "traceback": [
            "\u001b[0;31m---------------------------------------------------------------------------\u001b[0m",
            "\u001b[0;31mIndexError\u001b[0m                                Traceback (most recent call last)",
            "\u001b[0;32m<ipython-input-50-13a84d0caf1d>\u001b[0m in \u001b[0;36m<cell line: 1>\u001b[0;34m()\u001b[0m\n\u001b[0;32m----> 1\u001b[0;31m \u001b[0msingle_dm\u001b[0m \u001b[0;34m=\u001b[0m \u001b[0mhierarchy\u001b[0m\u001b[0;34m.\u001b[0m\u001b[0mdendrogram\u001b[0m\u001b[0;34m(\u001b[0m\u001b[0msingle\u001b[0m\u001b[0;34m,\u001b[0m \u001b[0mlabels\u001b[0m\u001b[0;34m=\u001b[0m\u001b[0mdata\u001b[0m\u001b[0;34m.\u001b[0m\u001b[0mID\u001b[0m\u001b[0;34m.\u001b[0m\u001b[0mtolist\u001b[0m\u001b[0;34m(\u001b[0m\u001b[0;34m)\u001b[0m\u001b[0;34m,\u001b[0m \u001b[0mcolor_threshold\u001b[0m\u001b[0;34m=\u001b[0m\u001b[0;36m0\u001b[0m\u001b[0;34m)\u001b[0m\u001b[0;34m\u001b[0m\u001b[0;34m\u001b[0m\u001b[0m\n\u001b[0m",
            "\u001b[0;32m/usr/local/lib/python3.10/dist-packages/scipy/cluster/hierarchy.py\u001b[0m in \u001b[0;36mdendrogram\u001b[0;34m(Z, p, truncate_mode, color_threshold, get_leaves, orientation, labels, count_sort, distance_sort, show_leaf_counts, no_plot, no_labels, leaf_font_size, leaf_rotation, leaf_label_func, show_contracted, link_color_func, ax, above_threshold_color)\u001b[0m\n\u001b[1;32m   3302\u001b[0m                          \"'bottom', or 'right'\")\n\u001b[1;32m   3303\u001b[0m \u001b[0;34m\u001b[0m\u001b[0m\n\u001b[0;32m-> 3304\u001b[0;31m     \u001b[0;32mif\u001b[0m \u001b[0mlabels\u001b[0m \u001b[0;32mis\u001b[0m \u001b[0;32mnot\u001b[0m \u001b[0;32mNone\u001b[0m \u001b[0;32mand\u001b[0m \u001b[0mZ\u001b[0m\u001b[0;34m.\u001b[0m\u001b[0mshape\u001b[0m\u001b[0;34m[\u001b[0m\u001b[0;36m0\u001b[0m\u001b[0;34m]\u001b[0m \u001b[0;34m+\u001b[0m \u001b[0;36m1\u001b[0m \u001b[0;34m!=\u001b[0m \u001b[0mlen\u001b[0m\u001b[0;34m(\u001b[0m\u001b[0mlabels\u001b[0m\u001b[0;34m)\u001b[0m\u001b[0;34m:\u001b[0m\u001b[0;34m\u001b[0m\u001b[0;34m\u001b[0m\u001b[0m\n\u001b[0m\u001b[1;32m   3305\u001b[0m         \u001b[0;32mraise\u001b[0m \u001b[0mValueError\u001b[0m\u001b[0;34m(\u001b[0m\u001b[0;34m\"Dimensions of Z and labels must be consistent.\"\u001b[0m\u001b[0;34m)\u001b[0m\u001b[0;34m\u001b[0m\u001b[0;34m\u001b[0m\u001b[0m\n\u001b[1;32m   3306\u001b[0m \u001b[0;34m\u001b[0m\u001b[0m\n",
            "\u001b[0;31mIndexError\u001b[0m: tuple index out of range"
          ]
        }
      ]
    },
    {
      "cell_type": "markdown",
      "metadata": {
        "id": "IN_gdZnpBONI"
      },
      "source": [
        "**Problem7. (10 points)** Implement the `DBSCAN` algorithm in `clustering.py` script and run it on the same toy example with different hyperparameters."
      ]
    },
    {
      "cell_type": "code",
      "metadata": {
        "id": "OTBwspW3BFFT"
      },
      "source": [
        "# YOUR CODE HERE"
      ],
      "execution_count": null,
      "outputs": []
    }
  ]
}