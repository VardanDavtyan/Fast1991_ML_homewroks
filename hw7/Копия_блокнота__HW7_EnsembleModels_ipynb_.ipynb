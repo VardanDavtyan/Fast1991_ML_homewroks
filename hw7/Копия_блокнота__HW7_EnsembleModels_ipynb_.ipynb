{
  "cells": [
    {
      "cell_type": "markdown",
      "metadata": {
        "id": "M-wSv3eLQ3_9"
      },
      "source": [
        "# Mounting Google Drive\n",
        "\n",
        "1. Create a folder named ``ML`` in your drive\n",
        "\n",
        "2. Upload the compressed file ``hw4.zip`` into that folder\n",
        "\n",
        "3. Run the below code snippet and follow the instructions to give access to Colab"
      ]
    },
    {
      "cell_type": "code",
      "execution_count": null,
      "metadata": {
        "id": "5ARomD2YQ4AA"
      },
      "outputs": [],
      "source": [
        "from google.colab import drive\n",
        "drive.mount('/content/drive')"
      ]
    },
    {
      "cell_type": "markdown",
      "metadata": {
        "id": "-OClJrYpQ4AC"
      },
      "source": [
        "4. We will change our current directory, so that it is easier to import the necessary files from our drive. To do so, just run the below code cell"
      ]
    },
    {
      "cell_type": "code",
      "execution_count": null,
      "metadata": {
        "id": "v-MzMwsCQ4AD"
      },
      "outputs": [],
      "source": [
        "cd drive/MyDrive/ML"
      ]
    },
    {
      "cell_type": "markdown",
      "metadata": {
        "id": "2xg5sKz5Q4AF"
      },
      "source": [
        "5. Now that we are in the desired location, we can unzip the compressed file.\n",
        "\n",
        "  **Note that this step needs to be done only once**"
      ]
    },
    {
      "cell_type": "code",
      "execution_count": null,
      "metadata": {
        "id": "K4zCrfT9Q4AG"
      },
      "outputs": [],
      "source": [
        "!unzip hw4.zip"
      ]
    },
    {
      "cell_type": "markdown",
      "metadata": {
        "id": "gFV6hU9rQ4AH"
      },
      "source": [
        "6. Run the below code snippet to import all the necessary libraries, as well as the module(``bagging.py``), which you will fill in soon."
      ]
    },
    {
      "cell_type": "code",
      "execution_count": 24,
      "metadata": {
        "id": "xlKA66WlQ4AI",
        "outputId": "f789a68c-0be9-41c5-9b14-9cbe284ddd93",
        "colab": {
          "base_uri": "https://localhost:8080/"
        }
      },
      "outputs": [
        {
          "output_type": "stream",
          "name": "stdout",
          "text": [
            "The autoreload extension is already loaded. To reload it, use:\n",
            "  %reload_ext autoreload\n"
          ]
        },
        {
          "output_type": "stream",
          "name": "stderr",
          "text": [
            "<ipython-input-24-f895fb889f3a>:5: MatplotlibDeprecationWarning: The seaborn styles shipped by Matplotlib are deprecated since 3.6, as they no longer correspond to the styles shipped by seaborn. However, they will remain available as 'seaborn-v0_8-<style>'. Alternatively, directly use the seaborn API instead.\n",
            "  plt.style.use('seaborn-whitegrid') # Plot style\n"
          ]
        }
      ],
      "source": [
        "import pandas as pd\n",
        "import numpy as np\n",
        "import time\n",
        "import matplotlib.pyplot as plt\n",
        "plt.style.use('seaborn-whitegrid') # Plot style\n",
        "plt.rcParams['figure.figsize'] = (12.0, 8.0)\n",
        "\n",
        "from sklearn import datasets\n",
        "from sklearn.metrics import accuracy_score\n",
        "from sklearn.model_selection import train_test_split\n",
        "from sklearn.tree import DecisionTreeClassifier\n",
        "from sklearn.ensemble import RandomForestClassifier\n",
        "\n",
        "from bagging import Bagging, RandomForest\n",
        "\n",
        "%load_ext autoreload\n",
        "%autoreload 2"
      ]
    },
    {
      "cell_type": "markdown",
      "metadata": {
        "id": "-QXj1SCxQ4AJ"
      },
      "source": [
        "In this homework we will use a variation of the digits data. You can find the [here](https://archive.ics.uci.edu/ml/datasets/Optical+Recognition+of+Handwritten+Digits)."
      ]
    },
    {
      "cell_type": "code",
      "execution_count": 25,
      "metadata": {
        "colab": {
          "base_uri": "https://localhost:8080/"
        },
        "outputId": "112d05ca-ca7a-410c-9419-7251459d137f",
        "id": "RBm0V-roQ4AK"
      },
      "outputs": [
        {
          "output_type": "stream",
          "name": "stdout",
          "text": [
            "X shape: (360, 64)\n",
            "y shape: (360,)\n"
          ]
        }
      ],
      "source": [
        "data = datasets.load_digits(n_class=2)\n",
        "X = data.data\n",
        "y = data.target\n",
        "print('X shape:', X.shape)\n",
        "print('y shape:', y.shape)"
      ]
    },
    {
      "cell_type": "markdown",
      "metadata": {
        "id": "dS1-HsTzQ4AM"
      },
      "source": [
        "We will set a test set aside for final evaluation."
      ]
    },
    {
      "cell_type": "code",
      "execution_count": 26,
      "metadata": {
        "id": "K0QdUQymQ4AN"
      },
      "outputs": [],
      "source": [
        "X_train, X_test, y_train, y_test = train_test_split(X, y,\n",
        "                                                    test_size=20,\n",
        "                                                    random_state=0)\n",
        "\n"
      ]
    },
    {
      "cell_type": "code",
      "execution_count": 27,
      "metadata": {
        "colab": {
          "base_uri": "https://localhost:8080/"
        },
        "outputId": "d575e7fc-6186-440f-c73f-3adef25cec56",
        "id": "XChfEmZ7Q4AO"
      },
      "outputs": [
        {
          "output_type": "stream",
          "name": "stdout",
          "text": [
            "Train: (340,)\n",
            "Test: (20,)\n"
          ]
        }
      ],
      "source": [
        "print('Train:', y_train.shape)\n",
        "print('Test:', y_test.shape)"
      ]
    },
    {
      "cell_type": "markdown",
      "metadata": {
        "id": "tN9tCnNNSALV"
      },
      "source": [
        "As you may have noticed we have a small set of training data, which means that we should not put aside additional data for validation, instead we will use cross-validation."
      ]
    },
    {
      "cell_type": "markdown",
      "metadata": {
        "id": "0tzI5e-oJJlr"
      },
      "source": [
        "# Cross-Validation"
      ]
    },
    {
      "cell_type": "markdown",
      "metadata": {
        "id": "fEj62iV1JNZS"
      },
      "source": [
        "Until now we have evaluated our models based on their score on a hold-out test set. In this homework, you will need to implement your own cross-validation method inside the function below."
      ]
    },
    {
      "cell_type": "code",
      "execution_count": 28,
      "metadata": {
        "id": "FsVNlJTqJJBf"
      },
      "outputs": [],
      "source": [
        "def do_cross_validation(model, X_train, y_train, k, random_state):\n",
        "  \"\"\"\n",
        "  Computes the cross-validation accuracy score\n",
        "  :param model: model object that has fit and predict methods\n",
        "  :param X_train: nd array of size (nr_data_points, nr_features)\n",
        "  :param y_train: nd array of size (nr_data_points, )\n",
        "  :param k: int for the number of folds (usually k={1,5,10})\n",
        "  :param random_state: int for fixing the randomness in order to reproduce\n",
        "                       the same results\n",
        "  :returns: float of the cross-validation score\n",
        "  \"\"\"\n",
        "  # Hints: you need to\n",
        "  # 1. shuffle your data\n",
        "  # 2. split your data into k disjoint parts\n",
        "  # 3. for each of the k steps:\n",
        "  #       select k-1 parts for training\n",
        "  #      (you may need to concatenate your data)\n",
        "  #      and use the other part for testing\n",
        "  #      save the accuracy score (use sklearn's function) on the test set\n",
        "  #      in some data structure (e.g. list)\n",
        "  # 4. when you do the above procedure, you will have k accuracy scores\n",
        "  # your function should return the average of those numbers\n",
        "\n",
        "  nr_data_points = X_train.shape[0]\n",
        "  np.random.seed(random_state)\n",
        "  indices = np.arange(nr_data_points)\n",
        "  np.random.shuffle(indices)\n",
        "\n",
        "  # YOUR CODE HERE\n",
        "  nr_data_in_each_fold = nr_data_points // k\n",
        "  fold_indices = np.arange(0, nr_data_points+1, nr_data_in_each_fold)\n",
        "  scores = []\n",
        "  for k_ in range(k):\n",
        "    st = fold_indices[k_]\n",
        "    end = fold_indices[k_+1]\n",
        "    test_indices = indices[st:end]\n",
        "    x_te = X_train[test_indices, :]\n",
        "    y_te = y_train[test_indices]\n",
        "    train_indices = np.array(list(set(indices) - set(test_indices)))\n",
        "    x_tr = X_train[train_indices, :]\n",
        "    y_tr = y_train[train_indices]\n",
        "    model.fit(x_tr, y_tr)\n",
        "    preds = model.predict(x_te)\n",
        "    scores.append(accuracy_score(y_te, preds))\n",
        "  return np.mean(scores)"
      ]
    },
    {
      "cell_type": "markdown",
      "metadata": {
        "id": "bStU8M4MJNgQ"
      },
      "source": [
        "# Bagging"
      ]
    },
    {
      "cell_type": "markdown",
      "metadata": {
        "id": "ahkg4obBJNuH"
      },
      "source": [
        "Complete the incomplete parts in `bagging.py` script. For the base_estimator we will use the DecisionTreeClassifier from sklearn, but you can also use your own implementation if you want to.\n",
        "\n",
        "In order to check your implementation, make sure that your Bagging model is able to learn from data (even overfit on it) and result in almost perfect classification on this simple task. You should get above 99% CV accuracy with 20 models.\n",
        "\n"
      ]
    },
    {
      "cell_type": "code",
      "execution_count": 29,
      "metadata": {
        "id": "6qFA3YnUJN0C",
        "colab": {
          "base_uri": "https://localhost:8080/"
        },
        "outputId": "9c515bca-d0c1-45e3-c642-6349f0189f83"
      },
      "outputs": [
        {
          "output_type": "stream",
          "name": "stderr",
          "text": [
            "Model Training: 100% [-----------------------------------------] Time:  0:00:00\n",
            "/content/bagging.py:94: FutureWarning: Unlike other reduction functions (e.g. `skew`, `kurtosis`), the default behavior of `mode` typically preserves the axis it acts along. In SciPy 1.11.0, this behavior will change: the default value of `keepdims` will become False, the `axis` over which the statistic is taken will be eliminated, and the value None will no longer be accepted. Set `keepdims` to True or False to avoid this warning.\n",
            "  return mode(y_preds, axis=1)[0]\n",
            "Model Training: 100% [-----------------------------------------] Time:  0:00:00\n",
            "/content/bagging.py:94: FutureWarning: Unlike other reduction functions (e.g. `skew`, `kurtosis`), the default behavior of `mode` typically preserves the axis it acts along. In SciPy 1.11.0, this behavior will change: the default value of `keepdims` will become False, the `axis` over which the statistic is taken will be eliminated, and the value None will no longer be accepted. Set `keepdims` to True or False to avoid this warning.\n",
            "  return mode(y_preds, axis=1)[0]\n",
            "Model Training: 100% [-----------------------------------------] Time:  0:00:00\n",
            "/content/bagging.py:94: FutureWarning: Unlike other reduction functions (e.g. `skew`, `kurtosis`), the default behavior of `mode` typically preserves the axis it acts along. In SciPy 1.11.0, this behavior will change: the default value of `keepdims` will become False, the `axis` over which the statistic is taken will be eliminated, and the value None will no longer be accepted. Set `keepdims` to True or False to avoid this warning.\n",
            "  return mode(y_preds, axis=1)[0]\n",
            "Model Training: 100% [-----------------------------------------] Time:  0:00:00\n",
            "/content/bagging.py:94: FutureWarning: Unlike other reduction functions (e.g. `skew`, `kurtosis`), the default behavior of `mode` typically preserves the axis it acts along. In SciPy 1.11.0, this behavior will change: the default value of `keepdims` will become False, the `axis` over which the statistic is taken will be eliminated, and the value None will no longer be accepted. Set `keepdims` to True or False to avoid this warning.\n",
            "  return mode(y_preds, axis=1)[0]\n",
            "Model Training: 100% [-----------------------------------------] Time:  0:00:00\n",
            "/content/bagging.py:94: FutureWarning: Unlike other reduction functions (e.g. `skew`, `kurtosis`), the default behavior of `mode` typically preserves the axis it acts along. In SciPy 1.11.0, this behavior will change: the default value of `keepdims` will become False, the `axis` over which the statistic is taken will be eliminated, and the value None will no longer be accepted. Set `keepdims` to True or False to avoid this warning.\n",
            "  return mode(y_preds, axis=1)[0]\n",
            "Model Training: 100% [-----------------------------------------] Time:  0:00:00\n",
            "/content/bagging.py:94: FutureWarning: Unlike other reduction functions (e.g. `skew`, `kurtosis`), the default behavior of `mode` typically preserves the axis it acts along. In SciPy 1.11.0, this behavior will change: the default value of `keepdims` will become False, the `axis` over which the statistic is taken will be eliminated, and the value None will no longer be accepted. Set `keepdims` to True or False to avoid this warning.\n",
            "  return mode(y_preds, axis=1)[0]\n",
            "Model Training: 100% [-----------------------------------------] Time:  0:00:00\n",
            "/content/bagging.py:94: FutureWarning: Unlike other reduction functions (e.g. `skew`, `kurtosis`), the default behavior of `mode` typically preserves the axis it acts along. In SciPy 1.11.0, this behavior will change: the default value of `keepdims` will become False, the `axis` over which the statistic is taken will be eliminated, and the value None will no longer be accepted. Set `keepdims` to True or False to avoid this warning.\n",
            "  return mode(y_preds, axis=1)[0]\n",
            "Model Training: 100% [-----------------------------------------] Time:  0:00:00\n",
            "/content/bagging.py:94: FutureWarning: Unlike other reduction functions (e.g. `skew`, `kurtosis`), the default behavior of `mode` typically preserves the axis it acts along. In SciPy 1.11.0, this behavior will change: the default value of `keepdims` will become False, the `axis` over which the statistic is taken will be eliminated, and the value None will no longer be accepted. Set `keepdims` to True or False to avoid this warning.\n",
            "  return mode(y_preds, axis=1)[0]\n",
            "Model Training: 100% [-----------------------------------------] Time:  0:00:00\n",
            "/content/bagging.py:94: FutureWarning: Unlike other reduction functions (e.g. `skew`, `kurtosis`), the default behavior of `mode` typically preserves the axis it acts along. In SciPy 1.11.0, this behavior will change: the default value of `keepdims` will become False, the `axis` over which the statistic is taken will be eliminated, and the value None will no longer be accepted. Set `keepdims` to True or False to avoid this warning.\n",
            "  return mode(y_preds, axis=1)[0]\n",
            "Model Training: 100% [-----------------------------------------] Time:  0:00:00\n",
            "/content/bagging.py:94: FutureWarning: Unlike other reduction functions (e.g. `skew`, `kurtosis`), the default behavior of `mode` typically preserves the axis it acts along. In SciPy 1.11.0, this behavior will change: the default value of `keepdims` will become False, the `axis` over which the statistic is taken will be eliminated, and the value None will no longer be accepted. Set `keepdims` to True or False to avoid this warning.\n",
            "  return mode(y_preds, axis=1)[0]\n"
          ]
        },
        {
          "output_type": "stream",
          "name": "stdout",
          "text": [
            "CV accuracy is: 0.9911764705882353\n"
          ]
        }
      ],
      "source": [
        "model = Bagging(base_estimator=DecisionTreeClassifier, nr_estimators=20)\n",
        "cv_acc = do_cross_validation(model, X_train, y_train, k=10, random_state=0)\n",
        "print('CV accuracy is:', cv_acc)"
      ]
    },
    {
      "cell_type": "markdown",
      "metadata": {
        "id": "RZtmyGlRJN5S"
      },
      "source": [
        "Choose the best value for the number of models in the ensemble based on 10-fold cross-validation (keep the ``random_seed=0``). Plot a figure to show what happens with the CV accuracy when we change the number of models."
      ]
    },
    {
      "cell_type": "code",
      "execution_count": 30,
      "metadata": {
        "id": "xiPFZTUZJN-8",
        "colab": {
          "base_uri": "https://localhost:8080/"
        },
        "outputId": "550df29d-f1db-426a-a07b-60b15e4a4bb2"
      },
      "outputs": [
        {
          "output_type": "stream",
          "name": "stderr",
          "text": [
            "Model Training: 100% [-----------------------------------------] Time:  0:00:00\n",
            "/content/bagging.py:94: FutureWarning: Unlike other reduction functions (e.g. `skew`, `kurtosis`), the default behavior of `mode` typically preserves the axis it acts along. In SciPy 1.11.0, this behavior will change: the default value of `keepdims` will become False, the `axis` over which the statistic is taken will be eliminated, and the value None will no longer be accepted. Set `keepdims` to True or False to avoid this warning.\n",
            "  return mode(y_preds, axis=1)[0]\n",
            "Model Training: 100% [-----------------------------------------] Time:  0:00:00\n",
            "/content/bagging.py:94: FutureWarning: Unlike other reduction functions (e.g. `skew`, `kurtosis`), the default behavior of `mode` typically preserves the axis it acts along. In SciPy 1.11.0, this behavior will change: the default value of `keepdims` will become False, the `axis` over which the statistic is taken will be eliminated, and the value None will no longer be accepted. Set `keepdims` to True or False to avoid this warning.\n",
            "  return mode(y_preds, axis=1)[0]\n",
            "Model Training: 100% [-----------------------------------------] Time:  0:00:00\n",
            "/content/bagging.py:94: FutureWarning: Unlike other reduction functions (e.g. `skew`, `kurtosis`), the default behavior of `mode` typically preserves the axis it acts along. In SciPy 1.11.0, this behavior will change: the default value of `keepdims` will become False, the `axis` over which the statistic is taken will be eliminated, and the value None will no longer be accepted. Set `keepdims` to True or False to avoid this warning.\n",
            "  return mode(y_preds, axis=1)[0]\n",
            "Model Training: 100% [-----------------------------------------] Time:  0:00:00\n",
            "/content/bagging.py:94: FutureWarning: Unlike other reduction functions (e.g. `skew`, `kurtosis`), the default behavior of `mode` typically preserves the axis it acts along. In SciPy 1.11.0, this behavior will change: the default value of `keepdims` will become False, the `axis` over which the statistic is taken will be eliminated, and the value None will no longer be accepted. Set `keepdims` to True or False to avoid this warning.\n",
            "  return mode(y_preds, axis=1)[0]\n",
            "Model Training: 100% [-----------------------------------------] Time:  0:00:00\n",
            "/content/bagging.py:94: FutureWarning: Unlike other reduction functions (e.g. `skew`, `kurtosis`), the default behavior of `mode` typically preserves the axis it acts along. In SciPy 1.11.0, this behavior will change: the default value of `keepdims` will become False, the `axis` over which the statistic is taken will be eliminated, and the value None will no longer be accepted. Set `keepdims` to True or False to avoid this warning.\n",
            "  return mode(y_preds, axis=1)[0]\n",
            "Model Training: 100% [-----------------------------------------] Time:  0:00:00\n",
            "/content/bagging.py:94: FutureWarning: Unlike other reduction functions (e.g. `skew`, `kurtosis`), the default behavior of `mode` typically preserves the axis it acts along. In SciPy 1.11.0, this behavior will change: the default value of `keepdims` will become False, the `axis` over which the statistic is taken will be eliminated, and the value None will no longer be accepted. Set `keepdims` to True or False to avoid this warning.\n",
            "  return mode(y_preds, axis=1)[0]\n",
            "Model Training: 100% [-----------------------------------------] Time:  0:00:00\n",
            "/content/bagging.py:94: FutureWarning: Unlike other reduction functions (e.g. `skew`, `kurtosis`), the default behavior of `mode` typically preserves the axis it acts along. In SciPy 1.11.0, this behavior will change: the default value of `keepdims` will become False, the `axis` over which the statistic is taken will be eliminated, and the value None will no longer be accepted. Set `keepdims` to True or False to avoid this warning.\n",
            "  return mode(y_preds, axis=1)[0]\n",
            "Model Training: 100% [-----------------------------------------] Time:  0:00:00\n",
            "/content/bagging.py:94: FutureWarning: Unlike other reduction functions (e.g. `skew`, `kurtosis`), the default behavior of `mode` typically preserves the axis it acts along. In SciPy 1.11.0, this behavior will change: the default value of `keepdims` will become False, the `axis` over which the statistic is taken will be eliminated, and the value None will no longer be accepted. Set `keepdims` to True or False to avoid this warning.\n",
            "  return mode(y_preds, axis=1)[0]\n",
            "Model Training: 100% [-----------------------------------------] Time:  0:00:00\n",
            "/content/bagging.py:94: FutureWarning: Unlike other reduction functions (e.g. `skew`, `kurtosis`), the default behavior of `mode` typically preserves the axis it acts along. In SciPy 1.11.0, this behavior will change: the default value of `keepdims` will become False, the `axis` over which the statistic is taken will be eliminated, and the value None will no longer be accepted. Set `keepdims` to True or False to avoid this warning.\n",
            "  return mode(y_preds, axis=1)[0]\n",
            "Model Training: 100% [-----------------------------------------] Time:  0:00:00\n",
            "/content/bagging.py:94: FutureWarning: Unlike other reduction functions (e.g. `skew`, `kurtosis`), the default behavior of `mode` typically preserves the axis it acts along. In SciPy 1.11.0, this behavior will change: the default value of `keepdims` will become False, the `axis` over which the statistic is taken will be eliminated, and the value None will no longer be accepted. Set `keepdims` to True or False to avoid this warning.\n",
            "  return mode(y_preds, axis=1)[0]\n",
            "Model Training: 100% [-----------------------------------------] Time:  0:00:00\n",
            "/content/bagging.py:94: FutureWarning: Unlike other reduction functions (e.g. `skew`, `kurtosis`), the default behavior of `mode` typically preserves the axis it acts along. In SciPy 1.11.0, this behavior will change: the default value of `keepdims` will become False, the `axis` over which the statistic is taken will be eliminated, and the value None will no longer be accepted. Set `keepdims` to True or False to avoid this warning.\n",
            "  return mode(y_preds, axis=1)[0]\n",
            "Model Training: 100% [-----------------------------------------] Time:  0:00:00\n",
            "/content/bagging.py:94: FutureWarning: Unlike other reduction functions (e.g. `skew`, `kurtosis`), the default behavior of `mode` typically preserves the axis it acts along. In SciPy 1.11.0, this behavior will change: the default value of `keepdims` will become False, the `axis` over which the statistic is taken will be eliminated, and the value None will no longer be accepted. Set `keepdims` to True or False to avoid this warning.\n",
            "  return mode(y_preds, axis=1)[0]\n",
            "Model Training: 100% [-----------------------------------------] Time:  0:00:00\n",
            "/content/bagging.py:94: FutureWarning: Unlike other reduction functions (e.g. `skew`, `kurtosis`), the default behavior of `mode` typically preserves the axis it acts along. In SciPy 1.11.0, this behavior will change: the default value of `keepdims` will become False, the `axis` over which the statistic is taken will be eliminated, and the value None will no longer be accepted. Set `keepdims` to True or False to avoid this warning.\n",
            "  return mode(y_preds, axis=1)[0]\n",
            "Model Training: 100% [-----------------------------------------] Time:  0:00:00\n",
            "/content/bagging.py:94: FutureWarning: Unlike other reduction functions (e.g. `skew`, `kurtosis`), the default behavior of `mode` typically preserves the axis it acts along. In SciPy 1.11.0, this behavior will change: the default value of `keepdims` will become False, the `axis` over which the statistic is taken will be eliminated, and the value None will no longer be accepted. Set `keepdims` to True or False to avoid this warning.\n",
            "  return mode(y_preds, axis=1)[0]\n",
            "Model Training: 100% [-----------------------------------------] Time:  0:00:00\n",
            "/content/bagging.py:94: FutureWarning: Unlike other reduction functions (e.g. `skew`, `kurtosis`), the default behavior of `mode` typically preserves the axis it acts along. In SciPy 1.11.0, this behavior will change: the default value of `keepdims` will become False, the `axis` over which the statistic is taken will be eliminated, and the value None will no longer be accepted. Set `keepdims` to True or False to avoid this warning.\n",
            "  return mode(y_preds, axis=1)[0]\n",
            "Model Training: 100% [-----------------------------------------] Time:  0:00:00\n",
            "/content/bagging.py:94: FutureWarning: Unlike other reduction functions (e.g. `skew`, `kurtosis`), the default behavior of `mode` typically preserves the axis it acts along. In SciPy 1.11.0, this behavior will change: the default value of `keepdims` will become False, the `axis` over which the statistic is taken will be eliminated, and the value None will no longer be accepted. Set `keepdims` to True or False to avoid this warning.\n",
            "  return mode(y_preds, axis=1)[0]\n",
            "Model Training: 100% [-----------------------------------------] Time:  0:00:00\n",
            "/content/bagging.py:94: FutureWarning: Unlike other reduction functions (e.g. `skew`, `kurtosis`), the default behavior of `mode` typically preserves the axis it acts along. In SciPy 1.11.0, this behavior will change: the default value of `keepdims` will become False, the `axis` over which the statistic is taken will be eliminated, and the value None will no longer be accepted. Set `keepdims` to True or False to avoid this warning.\n",
            "  return mode(y_preds, axis=1)[0]\n",
            "Model Training: 100% [-----------------------------------------] Time:  0:00:00\n",
            "/content/bagging.py:94: FutureWarning: Unlike other reduction functions (e.g. `skew`, `kurtosis`), the default behavior of `mode` typically preserves the axis it acts along. In SciPy 1.11.0, this behavior will change: the default value of `keepdims` will become False, the `axis` over which the statistic is taken will be eliminated, and the value None will no longer be accepted. Set `keepdims` to True or False to avoid this warning.\n",
            "  return mode(y_preds, axis=1)[0]\n",
            "Model Training: 100% [-----------------------------------------] Time:  0:00:00\n",
            "/content/bagging.py:94: FutureWarning: Unlike other reduction functions (e.g. `skew`, `kurtosis`), the default behavior of `mode` typically preserves the axis it acts along. In SciPy 1.11.0, this behavior will change: the default value of `keepdims` will become False, the `axis` over which the statistic is taken will be eliminated, and the value None will no longer be accepted. Set `keepdims` to True or False to avoid this warning.\n",
            "  return mode(y_preds, axis=1)[0]\n",
            "Model Training:   0% [                                         ] ETA:  --:--:--"
          ]
        },
        {
          "output_type": "stream",
          "name": "stdout",
          "text": [
            "CV accuracy is: 0.9882352941176471\n"
          ]
        },
        {
          "output_type": "stream",
          "name": "stderr",
          "text": [
            "Model Training: 100% [-----------------------------------------] Time:  0:00:00\n",
            "/content/bagging.py:94: FutureWarning: Unlike other reduction functions (e.g. `skew`, `kurtosis`), the default behavior of `mode` typically preserves the axis it acts along. In SciPy 1.11.0, this behavior will change: the default value of `keepdims` will become False, the `axis` over which the statistic is taken will be eliminated, and the value None will no longer be accepted. Set `keepdims` to True or False to avoid this warning.\n",
            "  return mode(y_preds, axis=1)[0]\n",
            "Model Training: 100% [-----------------------------------------] Time:  0:00:00\n",
            "/content/bagging.py:94: FutureWarning: Unlike other reduction functions (e.g. `skew`, `kurtosis`), the default behavior of `mode` typically preserves the axis it acts along. In SciPy 1.11.0, this behavior will change: the default value of `keepdims` will become False, the `axis` over which the statistic is taken will be eliminated, and the value None will no longer be accepted. Set `keepdims` to True or False to avoid this warning.\n",
            "  return mode(y_preds, axis=1)[0]\n",
            "Model Training: 100% [-----------------------------------------] Time:  0:00:00\n",
            "/content/bagging.py:94: FutureWarning: Unlike other reduction functions (e.g. `skew`, `kurtosis`), the default behavior of `mode` typically preserves the axis it acts along. In SciPy 1.11.0, this behavior will change: the default value of `keepdims` will become False, the `axis` over which the statistic is taken will be eliminated, and the value None will no longer be accepted. Set `keepdims` to True or False to avoid this warning.\n",
            "  return mode(y_preds, axis=1)[0]\n",
            "Model Training: 100% [-----------------------------------------] Time:  0:00:00\n",
            "/content/bagging.py:94: FutureWarning: Unlike other reduction functions (e.g. `skew`, `kurtosis`), the default behavior of `mode` typically preserves the axis it acts along. In SciPy 1.11.0, this behavior will change: the default value of `keepdims` will become False, the `axis` over which the statistic is taken will be eliminated, and the value None will no longer be accepted. Set `keepdims` to True or False to avoid this warning.\n",
            "  return mode(y_preds, axis=1)[0]\n",
            "Model Training: 100% [-----------------------------------------] Time:  0:00:00\n",
            "/content/bagging.py:94: FutureWarning: Unlike other reduction functions (e.g. `skew`, `kurtosis`), the default behavior of `mode` typically preserves the axis it acts along. In SciPy 1.11.0, this behavior will change: the default value of `keepdims` will become False, the `axis` over which the statistic is taken will be eliminated, and the value None will no longer be accepted. Set `keepdims` to True or False to avoid this warning.\n",
            "  return mode(y_preds, axis=1)[0]\n",
            "Model Training: 100% [-----------------------------------------] Time:  0:00:00\n",
            "/content/bagging.py:94: FutureWarning: Unlike other reduction functions (e.g. `skew`, `kurtosis`), the default behavior of `mode` typically preserves the axis it acts along. In SciPy 1.11.0, this behavior will change: the default value of `keepdims` will become False, the `axis` over which the statistic is taken will be eliminated, and the value None will no longer be accepted. Set `keepdims` to True or False to avoid this warning.\n",
            "  return mode(y_preds, axis=1)[0]\n",
            "Model Training: 100% [-----------------------------------------] Time:  0:00:00\n",
            "/content/bagging.py:94: FutureWarning: Unlike other reduction functions (e.g. `skew`, `kurtosis`), the default behavior of `mode` typically preserves the axis it acts along. In SciPy 1.11.0, this behavior will change: the default value of `keepdims` will become False, the `axis` over which the statistic is taken will be eliminated, and the value None will no longer be accepted. Set `keepdims` to True or False to avoid this warning.\n",
            "  return mode(y_preds, axis=1)[0]\n",
            "Model Training:   0% [                                         ] ETA:  --:--:--"
          ]
        },
        {
          "output_type": "stream",
          "name": "stdout",
          "text": [
            "CV accuracy is: 0.9941176470588236\n"
          ]
        },
        {
          "output_type": "stream",
          "name": "stderr",
          "text": [
            "\rModel Training: 100% [-----------------------------------------] Time:  0:00:00\n",
            "/content/bagging.py:94: FutureWarning: Unlike other reduction functions (e.g. `skew`, `kurtosis`), the default behavior of `mode` typically preserves the axis it acts along. In SciPy 1.11.0, this behavior will change: the default value of `keepdims` will become False, the `axis` over which the statistic is taken will be eliminated, and the value None will no longer be accepted. Set `keepdims` to True or False to avoid this warning.\n",
            "  return mode(y_preds, axis=1)[0]\n",
            "Model Training: 100% [-----------------------------------------] Time:  0:00:00\n",
            "/content/bagging.py:94: FutureWarning: Unlike other reduction functions (e.g. `skew`, `kurtosis`), the default behavior of `mode` typically preserves the axis it acts along. In SciPy 1.11.0, this behavior will change: the default value of `keepdims` will become False, the `axis` over which the statistic is taken will be eliminated, and the value None will no longer be accepted. Set `keepdims` to True or False to avoid this warning.\n",
            "  return mode(y_preds, axis=1)[0]\n",
            "Model Training: 100% [-----------------------------------------] Time:  0:00:00\n",
            "/content/bagging.py:94: FutureWarning: Unlike other reduction functions (e.g. `skew`, `kurtosis`), the default behavior of `mode` typically preserves the axis it acts along. In SciPy 1.11.0, this behavior will change: the default value of `keepdims` will become False, the `axis` over which the statistic is taken will be eliminated, and the value None will no longer be accepted. Set `keepdims` to True or False to avoid this warning.\n",
            "  return mode(y_preds, axis=1)[0]\n",
            "Model Training: 100% [-----------------------------------------] Time:  0:00:00\n",
            "/content/bagging.py:94: FutureWarning: Unlike other reduction functions (e.g. `skew`, `kurtosis`), the default behavior of `mode` typically preserves the axis it acts along. In SciPy 1.11.0, this behavior will change: the default value of `keepdims` will become False, the `axis` over which the statistic is taken will be eliminated, and the value None will no longer be accepted. Set `keepdims` to True or False to avoid this warning.\n",
            "  return mode(y_preds, axis=1)[0]\n",
            "Model Training: 100% [-----------------------------------------] Time:  0:00:00\n",
            "/content/bagging.py:94: FutureWarning: Unlike other reduction functions (e.g. `skew`, `kurtosis`), the default behavior of `mode` typically preserves the axis it acts along. In SciPy 1.11.0, this behavior will change: the default value of `keepdims` will become False, the `axis` over which the statistic is taken will be eliminated, and the value None will no longer be accepted. Set `keepdims` to True or False to avoid this warning.\n",
            "  return mode(y_preds, axis=1)[0]\n",
            "Model Training: 100% [-----------------------------------------] Time:  0:00:00\n",
            "/content/bagging.py:94: FutureWarning: Unlike other reduction functions (e.g. `skew`, `kurtosis`), the default behavior of `mode` typically preserves the axis it acts along. In SciPy 1.11.0, this behavior will change: the default value of `keepdims` will become False, the `axis` over which the statistic is taken will be eliminated, and the value None will no longer be accepted. Set `keepdims` to True or False to avoid this warning.\n",
            "  return mode(y_preds, axis=1)[0]\n",
            "Model Training: 100% [-----------------------------------------] Time:  0:00:00\n",
            "/content/bagging.py:94: FutureWarning: Unlike other reduction functions (e.g. `skew`, `kurtosis`), the default behavior of `mode` typically preserves the axis it acts along. In SciPy 1.11.0, this behavior will change: the default value of `keepdims` will become False, the `axis` over which the statistic is taken will be eliminated, and the value None will no longer be accepted. Set `keepdims` to True or False to avoid this warning.\n",
            "  return mode(y_preds, axis=1)[0]\n",
            "Model Training: 100% [-----------------------------------------] Time:  0:00:00\n",
            "/content/bagging.py:94: FutureWarning: Unlike other reduction functions (e.g. `skew`, `kurtosis`), the default behavior of `mode` typically preserves the axis it acts along. In SciPy 1.11.0, this behavior will change: the default value of `keepdims` will become False, the `axis` over which the statistic is taken will be eliminated, and the value None will no longer be accepted. Set `keepdims` to True or False to avoid this warning.\n",
            "  return mode(y_preds, axis=1)[0]\n",
            "Model Training: 100% [-----------------------------------------] Time:  0:00:00\n",
            "/content/bagging.py:94: FutureWarning: Unlike other reduction functions (e.g. `skew`, `kurtosis`), the default behavior of `mode` typically preserves the axis it acts along. In SciPy 1.11.0, this behavior will change: the default value of `keepdims` will become False, the `axis` over which the statistic is taken will be eliminated, and the value None will no longer be accepted. Set `keepdims` to True or False to avoid this warning.\n",
            "  return mode(y_preds, axis=1)[0]\n",
            "Model Training:   0% [                                         ] ETA:  --:--:--"
          ]
        },
        {
          "output_type": "stream",
          "name": "stdout",
          "text": [
            "CV accuracy is: 0.9941176470588236\n"
          ]
        },
        {
          "output_type": "stream",
          "name": "stderr",
          "text": [
            "Model Training: 100% [-----------------------------------------] Time:  0:00:00\n",
            "/content/bagging.py:94: FutureWarning: Unlike other reduction functions (e.g. `skew`, `kurtosis`), the default behavior of `mode` typically preserves the axis it acts along. In SciPy 1.11.0, this behavior will change: the default value of `keepdims` will become False, the `axis` over which the statistic is taken will be eliminated, and the value None will no longer be accepted. Set `keepdims` to True or False to avoid this warning.\n",
            "  return mode(y_preds, axis=1)[0]\n",
            "Model Training: 100% [-----------------------------------------] Time:  0:00:00\n",
            "/content/bagging.py:94: FutureWarning: Unlike other reduction functions (e.g. `skew`, `kurtosis`), the default behavior of `mode` typically preserves the axis it acts along. In SciPy 1.11.0, this behavior will change: the default value of `keepdims` will become False, the `axis` over which the statistic is taken will be eliminated, and the value None will no longer be accepted. Set `keepdims` to True or False to avoid this warning.\n",
            "  return mode(y_preds, axis=1)[0]\n",
            "Model Training: 100% [-----------------------------------------] Time:  0:00:00\n",
            "/content/bagging.py:94: FutureWarning: Unlike other reduction functions (e.g. `skew`, `kurtosis`), the default behavior of `mode` typically preserves the axis it acts along. In SciPy 1.11.0, this behavior will change: the default value of `keepdims` will become False, the `axis` over which the statistic is taken will be eliminated, and the value None will no longer be accepted. Set `keepdims` to True or False to avoid this warning.\n",
            "  return mode(y_preds, axis=1)[0]\n",
            "Model Training: 100% [-----------------------------------------] Time:  0:00:00\n",
            "/content/bagging.py:94: FutureWarning: Unlike other reduction functions (e.g. `skew`, `kurtosis`), the default behavior of `mode` typically preserves the axis it acts along. In SciPy 1.11.0, this behavior will change: the default value of `keepdims` will become False, the `axis` over which the statistic is taken will be eliminated, and the value None will no longer be accepted. Set `keepdims` to True or False to avoid this warning.\n",
            "  return mode(y_preds, axis=1)[0]\n",
            "Model Training: 100% [-----------------------------------------] Time:  0:00:00\n",
            "/content/bagging.py:94: FutureWarning: Unlike other reduction functions (e.g. `skew`, `kurtosis`), the default behavior of `mode` typically preserves the axis it acts along. In SciPy 1.11.0, this behavior will change: the default value of `keepdims` will become False, the `axis` over which the statistic is taken will be eliminated, and the value None will no longer be accepted. Set `keepdims` to True or False to avoid this warning.\n",
            "  return mode(y_preds, axis=1)[0]\n",
            "Model Training: 100% [-----------------------------------------] Time:  0:00:00\n",
            "/content/bagging.py:94: FutureWarning: Unlike other reduction functions (e.g. `skew`, `kurtosis`), the default behavior of `mode` typically preserves the axis it acts along. In SciPy 1.11.0, this behavior will change: the default value of `keepdims` will become False, the `axis` over which the statistic is taken will be eliminated, and the value None will no longer be accepted. Set `keepdims` to True or False to avoid this warning.\n",
            "  return mode(y_preds, axis=1)[0]\n",
            "Model Training: 100% [-----------------------------------------] Time:  0:00:00\n",
            "/content/bagging.py:94: FutureWarning: Unlike other reduction functions (e.g. `skew`, `kurtosis`), the default behavior of `mode` typically preserves the axis it acts along. In SciPy 1.11.0, this behavior will change: the default value of `keepdims` will become False, the `axis` over which the statistic is taken will be eliminated, and the value None will no longer be accepted. Set `keepdims` to True or False to avoid this warning.\n",
            "  return mode(y_preds, axis=1)[0]\n",
            "Model Training: 100% [-----------------------------------------] Time:  0:00:00\n",
            "/content/bagging.py:94: FutureWarning: Unlike other reduction functions (e.g. `skew`, `kurtosis`), the default behavior of `mode` typically preserves the axis it acts along. In SciPy 1.11.0, this behavior will change: the default value of `keepdims` will become False, the `axis` over which the statistic is taken will be eliminated, and the value None will no longer be accepted. Set `keepdims` to True or False to avoid this warning.\n",
            "  return mode(y_preds, axis=1)[0]\n",
            "Model Training: 100% [-----------------------------------------] Time:  0:00:00\n",
            "/content/bagging.py:94: FutureWarning: Unlike other reduction functions (e.g. `skew`, `kurtosis`), the default behavior of `mode` typically preserves the axis it acts along. In SciPy 1.11.0, this behavior will change: the default value of `keepdims` will become False, the `axis` over which the statistic is taken will be eliminated, and the value None will no longer be accepted. Set `keepdims` to True or False to avoid this warning.\n",
            "  return mode(y_preds, axis=1)[0]\n",
            "Model Training: 100% [-----------------------------------------] Time:  0:00:00\n",
            "/content/bagging.py:94: FutureWarning: Unlike other reduction functions (e.g. `skew`, `kurtosis`), the default behavior of `mode` typically preserves the axis it acts along. In SciPy 1.11.0, this behavior will change: the default value of `keepdims` will become False, the `axis` over which the statistic is taken will be eliminated, and the value None will no longer be accepted. Set `keepdims` to True or False to avoid this warning.\n",
            "  return mode(y_preds, axis=1)[0]\n",
            "Model Training:   0% [                                         ] ETA:  --:--:--"
          ]
        },
        {
          "output_type": "stream",
          "name": "stdout",
          "text": [
            "CV accuracy is: 0.9911764705882353\n"
          ]
        },
        {
          "output_type": "stream",
          "name": "stderr",
          "text": [
            "\rModel Training: 100% [-----------------------------------------] Time:  0:00:00\n",
            "/content/bagging.py:94: FutureWarning: Unlike other reduction functions (e.g. `skew`, `kurtosis`), the default behavior of `mode` typically preserves the axis it acts along. In SciPy 1.11.0, this behavior will change: the default value of `keepdims` will become False, the `axis` over which the statistic is taken will be eliminated, and the value None will no longer be accepted. Set `keepdims` to True or False to avoid this warning.\n",
            "  return mode(y_preds, axis=1)[0]\n",
            "Model Training: 100% [-----------------------------------------] Time:  0:00:00\n",
            "/content/bagging.py:94: FutureWarning: Unlike other reduction functions (e.g. `skew`, `kurtosis`), the default behavior of `mode` typically preserves the axis it acts along. In SciPy 1.11.0, this behavior will change: the default value of `keepdims` will become False, the `axis` over which the statistic is taken will be eliminated, and the value None will no longer be accepted. Set `keepdims` to True or False to avoid this warning.\n",
            "  return mode(y_preds, axis=1)[0]\n",
            "Model Training: 100% [-----------------------------------------] Time:  0:00:00\n",
            "/content/bagging.py:94: FutureWarning: Unlike other reduction functions (e.g. `skew`, `kurtosis`), the default behavior of `mode` typically preserves the axis it acts along. In SciPy 1.11.0, this behavior will change: the default value of `keepdims` will become False, the `axis` over which the statistic is taken will be eliminated, and the value None will no longer be accepted. Set `keepdims` to True or False to avoid this warning.\n",
            "  return mode(y_preds, axis=1)[0]\n",
            "Model Training: 100% [-----------------------------------------] Time:  0:00:00\n",
            "/content/bagging.py:94: FutureWarning: Unlike other reduction functions (e.g. `skew`, `kurtosis`), the default behavior of `mode` typically preserves the axis it acts along. In SciPy 1.11.0, this behavior will change: the default value of `keepdims` will become False, the `axis` over which the statistic is taken will be eliminated, and the value None will no longer be accepted. Set `keepdims` to True or False to avoid this warning.\n",
            "  return mode(y_preds, axis=1)[0]\n",
            "Model Training: 100% [-----------------------------------------] Time:  0:00:00\n",
            "/content/bagging.py:94: FutureWarning: Unlike other reduction functions (e.g. `skew`, `kurtosis`), the default behavior of `mode` typically preserves the axis it acts along. In SciPy 1.11.0, this behavior will change: the default value of `keepdims` will become False, the `axis` over which the statistic is taken will be eliminated, and the value None will no longer be accepted. Set `keepdims` to True or False to avoid this warning.\n",
            "  return mode(y_preds, axis=1)[0]\n",
            "Model Training: 100% [-----------------------------------------] Time:  0:00:00\n",
            "/content/bagging.py:94: FutureWarning: Unlike other reduction functions (e.g. `skew`, `kurtosis`), the default behavior of `mode` typically preserves the axis it acts along. In SciPy 1.11.0, this behavior will change: the default value of `keepdims` will become False, the `axis` over which the statistic is taken will be eliminated, and the value None will no longer be accepted. Set `keepdims` to True or False to avoid this warning.\n",
            "  return mode(y_preds, axis=1)[0]\n",
            "Model Training: 100% [-----------------------------------------] Time:  0:00:00\n",
            "/content/bagging.py:94: FutureWarning: Unlike other reduction functions (e.g. `skew`, `kurtosis`), the default behavior of `mode` typically preserves the axis it acts along. In SciPy 1.11.0, this behavior will change: the default value of `keepdims` will become False, the `axis` over which the statistic is taken will be eliminated, and the value None will no longer be accepted. Set `keepdims` to True or False to avoid this warning.\n",
            "  return mode(y_preds, axis=1)[0]\n",
            "Model Training: 100% [-----------------------------------------] Time:  0:00:00\n",
            "/content/bagging.py:94: FutureWarning: Unlike other reduction functions (e.g. `skew`, `kurtosis`), the default behavior of `mode` typically preserves the axis it acts along. In SciPy 1.11.0, this behavior will change: the default value of `keepdims` will become False, the `axis` over which the statistic is taken will be eliminated, and the value None will no longer be accepted. Set `keepdims` to True or False to avoid this warning.\n",
            "  return mode(y_preds, axis=1)[0]\n",
            "Model Training: 100% [-----------------------------------------] Time:  0:00:00\n",
            "/content/bagging.py:94: FutureWarning: Unlike other reduction functions (e.g. `skew`, `kurtosis`), the default behavior of `mode` typically preserves the axis it acts along. In SciPy 1.11.0, this behavior will change: the default value of `keepdims` will become False, the `axis` over which the statistic is taken will be eliminated, and the value None will no longer be accepted. Set `keepdims` to True or False to avoid this warning.\n",
            "  return mode(y_preds, axis=1)[0]\n",
            "Model Training: 100% [-----------------------------------------] Time:  0:00:00\n",
            "/content/bagging.py:94: FutureWarning: Unlike other reduction functions (e.g. `skew`, `kurtosis`), the default behavior of `mode` typically preserves the axis it acts along. In SciPy 1.11.0, this behavior will change: the default value of `keepdims` will become False, the `axis` over which the statistic is taken will be eliminated, and the value None will no longer be accepted. Set `keepdims` to True or False to avoid this warning.\n",
            "  return mode(y_preds, axis=1)[0]\n"
          ]
        },
        {
          "output_type": "stream",
          "name": "stdout",
          "text": [
            "CV accuracy is: 0.9882352941176471\n"
          ]
        },
        {
          "output_type": "stream",
          "name": "stderr",
          "text": [
            "Model Training: 100% [-----------------------------------------] Time:  0:00:00\n",
            "/content/bagging.py:94: FutureWarning: Unlike other reduction functions (e.g. `skew`, `kurtosis`), the default behavior of `mode` typically preserves the axis it acts along. In SciPy 1.11.0, this behavior will change: the default value of `keepdims` will become False, the `axis` over which the statistic is taken will be eliminated, and the value None will no longer be accepted. Set `keepdims` to True or False to avoid this warning.\n",
            "  return mode(y_preds, axis=1)[0]\n",
            "Model Training: 100% [-----------------------------------------] Time:  0:00:00\n",
            "/content/bagging.py:94: FutureWarning: Unlike other reduction functions (e.g. `skew`, `kurtosis`), the default behavior of `mode` typically preserves the axis it acts along. In SciPy 1.11.0, this behavior will change: the default value of `keepdims` will become False, the `axis` over which the statistic is taken will be eliminated, and the value None will no longer be accepted. Set `keepdims` to True or False to avoid this warning.\n",
            "  return mode(y_preds, axis=1)[0]\n",
            "Model Training: 100% [-----------------------------------------] Time:  0:00:00\n",
            "/content/bagging.py:94: FutureWarning: Unlike other reduction functions (e.g. `skew`, `kurtosis`), the default behavior of `mode` typically preserves the axis it acts along. In SciPy 1.11.0, this behavior will change: the default value of `keepdims` will become False, the `axis` over which the statistic is taken will be eliminated, and the value None will no longer be accepted. Set `keepdims` to True or False to avoid this warning.\n",
            "  return mode(y_preds, axis=1)[0]\n",
            "Model Training: 100% [-----------------------------------------] Time:  0:00:00\n",
            "/content/bagging.py:94: FutureWarning: Unlike other reduction functions (e.g. `skew`, `kurtosis`), the default behavior of `mode` typically preserves the axis it acts along. In SciPy 1.11.0, this behavior will change: the default value of `keepdims` will become False, the `axis` over which the statistic is taken will be eliminated, and the value None will no longer be accepted. Set `keepdims` to True or False to avoid this warning.\n",
            "  return mode(y_preds, axis=1)[0]\n",
            "Model Training: 100% [-----------------------------------------] Time:  0:00:00\n",
            "/content/bagging.py:94: FutureWarning: Unlike other reduction functions (e.g. `skew`, `kurtosis`), the default behavior of `mode` typically preserves the axis it acts along. In SciPy 1.11.0, this behavior will change: the default value of `keepdims` will become False, the `axis` over which the statistic is taken will be eliminated, and the value None will no longer be accepted. Set `keepdims` to True or False to avoid this warning.\n",
            "  return mode(y_preds, axis=1)[0]\n",
            "Model Training: 100% [-----------------------------------------] Time:  0:00:00\n",
            "/content/bagging.py:94: FutureWarning: Unlike other reduction functions (e.g. `skew`, `kurtosis`), the default behavior of `mode` typically preserves the axis it acts along. In SciPy 1.11.0, this behavior will change: the default value of `keepdims` will become False, the `axis` over which the statistic is taken will be eliminated, and the value None will no longer be accepted. Set `keepdims` to True or False to avoid this warning.\n",
            "  return mode(y_preds, axis=1)[0]\n",
            "Model Training: 100% [-----------------------------------------] Time:  0:00:00\n",
            "/content/bagging.py:94: FutureWarning: Unlike other reduction functions (e.g. `skew`, `kurtosis`), the default behavior of `mode` typically preserves the axis it acts along. In SciPy 1.11.0, this behavior will change: the default value of `keepdims` will become False, the `axis` over which the statistic is taken will be eliminated, and the value None will no longer be accepted. Set `keepdims` to True or False to avoid this warning.\n",
            "  return mode(y_preds, axis=1)[0]\n",
            "Model Training: 100% [-----------------------------------------] Time:  0:00:00\n",
            "/content/bagging.py:94: FutureWarning: Unlike other reduction functions (e.g. `skew`, `kurtosis`), the default behavior of `mode` typically preserves the axis it acts along. In SciPy 1.11.0, this behavior will change: the default value of `keepdims` will become False, the `axis` over which the statistic is taken will be eliminated, and the value None will no longer be accepted. Set `keepdims` to True or False to avoid this warning.\n",
            "  return mode(y_preds, axis=1)[0]\n",
            "Model Training: 100% [-----------------------------------------] Time:  0:00:00\n",
            "/content/bagging.py:94: FutureWarning: Unlike other reduction functions (e.g. `skew`, `kurtosis`), the default behavior of `mode` typically preserves the axis it acts along. In SciPy 1.11.0, this behavior will change: the default value of `keepdims` will become False, the `axis` over which the statistic is taken will be eliminated, and the value None will no longer be accepted. Set `keepdims` to True or False to avoid this warning.\n",
            "  return mode(y_preds, axis=1)[0]\n",
            "Model Training: 100% [-----------------------------------------] Time:  0:00:00\n",
            "/content/bagging.py:94: FutureWarning: Unlike other reduction functions (e.g. `skew`, `kurtosis`), the default behavior of `mode` typically preserves the axis it acts along. In SciPy 1.11.0, this behavior will change: the default value of `keepdims` will become False, the `axis` over which the statistic is taken will be eliminated, and the value None will no longer be accepted. Set `keepdims` to True or False to avoid this warning.\n",
            "  return mode(y_preds, axis=1)[0]\n"
          ]
        },
        {
          "output_type": "stream",
          "name": "stdout",
          "text": [
            "CV accuracy is: 0.9911764705882353\n"
          ]
        },
        {
          "output_type": "stream",
          "name": "stderr",
          "text": [
            "Model Training: 100% [-----------------------------------------] Time:  0:00:00\n",
            "/content/bagging.py:94: FutureWarning: Unlike other reduction functions (e.g. `skew`, `kurtosis`), the default behavior of `mode` typically preserves the axis it acts along. In SciPy 1.11.0, this behavior will change: the default value of `keepdims` will become False, the `axis` over which the statistic is taken will be eliminated, and the value None will no longer be accepted. Set `keepdims` to True or False to avoid this warning.\n",
            "  return mode(y_preds, axis=1)[0]\n",
            "Model Training: 100% [-----------------------------------------] Time:  0:00:00\n",
            "/content/bagging.py:94: FutureWarning: Unlike other reduction functions (e.g. `skew`, `kurtosis`), the default behavior of `mode` typically preserves the axis it acts along. In SciPy 1.11.0, this behavior will change: the default value of `keepdims` will become False, the `axis` over which the statistic is taken will be eliminated, and the value None will no longer be accepted. Set `keepdims` to True or False to avoid this warning.\n",
            "  return mode(y_preds, axis=1)[0]\n",
            "Model Training: 100% [-----------------------------------------] Time:  0:00:00\n",
            "/content/bagging.py:94: FutureWarning: Unlike other reduction functions (e.g. `skew`, `kurtosis`), the default behavior of `mode` typically preserves the axis it acts along. In SciPy 1.11.0, this behavior will change: the default value of `keepdims` will become False, the `axis` over which the statistic is taken will be eliminated, and the value None will no longer be accepted. Set `keepdims` to True or False to avoid this warning.\n",
            "  return mode(y_preds, axis=1)[0]\n",
            "Model Training: 100% [-----------------------------------------] Time:  0:00:00\n",
            "/content/bagging.py:94: FutureWarning: Unlike other reduction functions (e.g. `skew`, `kurtosis`), the default behavior of `mode` typically preserves the axis it acts along. In SciPy 1.11.0, this behavior will change: the default value of `keepdims` will become False, the `axis` over which the statistic is taken will be eliminated, and the value None will no longer be accepted. Set `keepdims` to True or False to avoid this warning.\n",
            "  return mode(y_preds, axis=1)[0]\n",
            "Model Training: 100% [-----------------------------------------] Time:  0:00:00\n",
            "/content/bagging.py:94: FutureWarning: Unlike other reduction functions (e.g. `skew`, `kurtosis`), the default behavior of `mode` typically preserves the axis it acts along. In SciPy 1.11.0, this behavior will change: the default value of `keepdims` will become False, the `axis` over which the statistic is taken will be eliminated, and the value None will no longer be accepted. Set `keepdims` to True or False to avoid this warning.\n",
            "  return mode(y_preds, axis=1)[0]\n",
            "Model Training: 100% [-----------------------------------------] Time:  0:00:00\n",
            "/content/bagging.py:94: FutureWarning: Unlike other reduction functions (e.g. `skew`, `kurtosis`), the default behavior of `mode` typically preserves the axis it acts along. In SciPy 1.11.0, this behavior will change: the default value of `keepdims` will become False, the `axis` over which the statistic is taken will be eliminated, and the value None will no longer be accepted. Set `keepdims` to True or False to avoid this warning.\n",
            "  return mode(y_preds, axis=1)[0]\n",
            "Model Training: 100% [-----------------------------------------] Time:  0:00:00\n",
            "/content/bagging.py:94: FutureWarning: Unlike other reduction functions (e.g. `skew`, `kurtosis`), the default behavior of `mode` typically preserves the axis it acts along. In SciPy 1.11.0, this behavior will change: the default value of `keepdims` will become False, the `axis` over which the statistic is taken will be eliminated, and the value None will no longer be accepted. Set `keepdims` to True or False to avoid this warning.\n",
            "  return mode(y_preds, axis=1)[0]\n",
            "Model Training: 100% [-----------------------------------------] Time:  0:00:00\n",
            "/content/bagging.py:94: FutureWarning: Unlike other reduction functions (e.g. `skew`, `kurtosis`), the default behavior of `mode` typically preserves the axis it acts along. In SciPy 1.11.0, this behavior will change: the default value of `keepdims` will become False, the `axis` over which the statistic is taken will be eliminated, and the value None will no longer be accepted. Set `keepdims` to True or False to avoid this warning.\n",
            "  return mode(y_preds, axis=1)[0]\n",
            "Model Training: 100% [-----------------------------------------] Time:  0:00:00\n",
            "/content/bagging.py:94: FutureWarning: Unlike other reduction functions (e.g. `skew`, `kurtosis`), the default behavior of `mode` typically preserves the axis it acts along. In SciPy 1.11.0, this behavior will change: the default value of `keepdims` will become False, the `axis` over which the statistic is taken will be eliminated, and the value None will no longer be accepted. Set `keepdims` to True or False to avoid this warning.\n",
            "  return mode(y_preds, axis=1)[0]\n",
            "Model Training: 100% [-----------------------------------------] Time:  0:00:00\n",
            "/content/bagging.py:94: FutureWarning: Unlike other reduction functions (e.g. `skew`, `kurtosis`), the default behavior of `mode` typically preserves the axis it acts along. In SciPy 1.11.0, this behavior will change: the default value of `keepdims` will become False, the `axis` over which the statistic is taken will be eliminated, and the value None will no longer be accepted. Set `keepdims` to True or False to avoid this warning.\n",
            "  return mode(y_preds, axis=1)[0]\n"
          ]
        },
        {
          "output_type": "stream",
          "name": "stdout",
          "text": [
            "CV accuracy is: 0.9911764705882353\n"
          ]
        },
        {
          "output_type": "stream",
          "name": "stderr",
          "text": [
            "Model Training: 100% [-----------------------------------------] Time:  0:00:00\n",
            "/content/bagging.py:94: FutureWarning: Unlike other reduction functions (e.g. `skew`, `kurtosis`), the default behavior of `mode` typically preserves the axis it acts along. In SciPy 1.11.0, this behavior will change: the default value of `keepdims` will become False, the `axis` over which the statistic is taken will be eliminated, and the value None will no longer be accepted. Set `keepdims` to True or False to avoid this warning.\n",
            "  return mode(y_preds, axis=1)[0]\n",
            "Model Training: 100% [-----------------------------------------] Time:  0:00:00\n",
            "/content/bagging.py:94: FutureWarning: Unlike other reduction functions (e.g. `skew`, `kurtosis`), the default behavior of `mode` typically preserves the axis it acts along. In SciPy 1.11.0, this behavior will change: the default value of `keepdims` will become False, the `axis` over which the statistic is taken will be eliminated, and the value None will no longer be accepted. Set `keepdims` to True or False to avoid this warning.\n",
            "  return mode(y_preds, axis=1)[0]\n",
            "Model Training: 100% [-----------------------------------------] Time:  0:00:00\n",
            "/content/bagging.py:94: FutureWarning: Unlike other reduction functions (e.g. `skew`, `kurtosis`), the default behavior of `mode` typically preserves the axis it acts along. In SciPy 1.11.0, this behavior will change: the default value of `keepdims` will become False, the `axis` over which the statistic is taken will be eliminated, and the value None will no longer be accepted. Set `keepdims` to True or False to avoid this warning.\n",
            "  return mode(y_preds, axis=1)[0]\n",
            "Model Training: 100% [-----------------------------------------] Time:  0:00:00\n",
            "/content/bagging.py:94: FutureWarning: Unlike other reduction functions (e.g. `skew`, `kurtosis`), the default behavior of `mode` typically preserves the axis it acts along. In SciPy 1.11.0, this behavior will change: the default value of `keepdims` will become False, the `axis` over which the statistic is taken will be eliminated, and the value None will no longer be accepted. Set `keepdims` to True or False to avoid this warning.\n",
            "  return mode(y_preds, axis=1)[0]\n",
            "Model Training: 100% [-----------------------------------------] Time:  0:00:00\n",
            "/content/bagging.py:94: FutureWarning: Unlike other reduction functions (e.g. `skew`, `kurtosis`), the default behavior of `mode` typically preserves the axis it acts along. In SciPy 1.11.0, this behavior will change: the default value of `keepdims` will become False, the `axis` over which the statistic is taken will be eliminated, and the value None will no longer be accepted. Set `keepdims` to True or False to avoid this warning.\n",
            "  return mode(y_preds, axis=1)[0]\n",
            "Model Training: 100% [-----------------------------------------] Time:  0:00:00\n",
            "/content/bagging.py:94: FutureWarning: Unlike other reduction functions (e.g. `skew`, `kurtosis`), the default behavior of `mode` typically preserves the axis it acts along. In SciPy 1.11.0, this behavior will change: the default value of `keepdims` will become False, the `axis` over which the statistic is taken will be eliminated, and the value None will no longer be accepted. Set `keepdims` to True or False to avoid this warning.\n",
            "  return mode(y_preds, axis=1)[0]\n",
            "Model Training: 100% [-----------------------------------------] Time:  0:00:00\n",
            "/content/bagging.py:94: FutureWarning: Unlike other reduction functions (e.g. `skew`, `kurtosis`), the default behavior of `mode` typically preserves the axis it acts along. In SciPy 1.11.0, this behavior will change: the default value of `keepdims` will become False, the `axis` over which the statistic is taken will be eliminated, and the value None will no longer be accepted. Set `keepdims` to True or False to avoid this warning.\n",
            "  return mode(y_preds, axis=1)[0]\n",
            "Model Training: 100% [-----------------------------------------] Time:  0:00:00\n",
            "/content/bagging.py:94: FutureWarning: Unlike other reduction functions (e.g. `skew`, `kurtosis`), the default behavior of `mode` typically preserves the axis it acts along. In SciPy 1.11.0, this behavior will change: the default value of `keepdims` will become False, the `axis` over which the statistic is taken will be eliminated, and the value None will no longer be accepted. Set `keepdims` to True or False to avoid this warning.\n",
            "  return mode(y_preds, axis=1)[0]\n",
            "Model Training: 100% [-----------------------------------------] Time:  0:00:00\n",
            "/content/bagging.py:94: FutureWarning: Unlike other reduction functions (e.g. `skew`, `kurtosis`), the default behavior of `mode` typically preserves the axis it acts along. In SciPy 1.11.0, this behavior will change: the default value of `keepdims` will become False, the `axis` over which the statistic is taken will be eliminated, and the value None will no longer be accepted. Set `keepdims` to True or False to avoid this warning.\n",
            "  return mode(y_preds, axis=1)[0]\n",
            "Model Training:   0% [                                         ] ETA:  --:--:--"
          ]
        },
        {
          "output_type": "stream",
          "name": "stdout",
          "text": [
            "CV accuracy is: 0.9941176470588236\n"
          ]
        },
        {
          "output_type": "stream",
          "name": "stderr",
          "text": [
            "Model Training: 100% [-----------------------------------------] Time:  0:00:00\n",
            "/content/bagging.py:94: FutureWarning: Unlike other reduction functions (e.g. `skew`, `kurtosis`), the default behavior of `mode` typically preserves the axis it acts along. In SciPy 1.11.0, this behavior will change: the default value of `keepdims` will become False, the `axis` over which the statistic is taken will be eliminated, and the value None will no longer be accepted. Set `keepdims` to True or False to avoid this warning.\n",
            "  return mode(y_preds, axis=1)[0]\n",
            "Model Training: 100% [-----------------------------------------] Time:  0:00:00\n",
            "/content/bagging.py:94: FutureWarning: Unlike other reduction functions (e.g. `skew`, `kurtosis`), the default behavior of `mode` typically preserves the axis it acts along. In SciPy 1.11.0, this behavior will change: the default value of `keepdims` will become False, the `axis` over which the statistic is taken will be eliminated, and the value None will no longer be accepted. Set `keepdims` to True or False to avoid this warning.\n",
            "  return mode(y_preds, axis=1)[0]\n",
            "Model Training: 100% [-----------------------------------------] Time:  0:00:00\n",
            "/content/bagging.py:94: FutureWarning: Unlike other reduction functions (e.g. `skew`, `kurtosis`), the default behavior of `mode` typically preserves the axis it acts along. In SciPy 1.11.0, this behavior will change: the default value of `keepdims` will become False, the `axis` over which the statistic is taken will be eliminated, and the value None will no longer be accepted. Set `keepdims` to True or False to avoid this warning.\n",
            "  return mode(y_preds, axis=1)[0]\n",
            "Model Training: 100% [-----------------------------------------] Time:  0:00:00\n",
            "/content/bagging.py:94: FutureWarning: Unlike other reduction functions (e.g. `skew`, `kurtosis`), the default behavior of `mode` typically preserves the axis it acts along. In SciPy 1.11.0, this behavior will change: the default value of `keepdims` will become False, the `axis` over which the statistic is taken will be eliminated, and the value None will no longer be accepted. Set `keepdims` to True or False to avoid this warning.\n",
            "  return mode(y_preds, axis=1)[0]\n",
            "Model Training: 100% [-----------------------------------------] Time:  0:00:00\n",
            "/content/bagging.py:94: FutureWarning: Unlike other reduction functions (e.g. `skew`, `kurtosis`), the default behavior of `mode` typically preserves the axis it acts along. In SciPy 1.11.0, this behavior will change: the default value of `keepdims` will become False, the `axis` over which the statistic is taken will be eliminated, and the value None will no longer be accepted. Set `keepdims` to True or False to avoid this warning.\n",
            "  return mode(y_preds, axis=1)[0]\n",
            "Model Training: 100% [-----------------------------------------] Time:  0:00:00\n",
            "/content/bagging.py:94: FutureWarning: Unlike other reduction functions (e.g. `skew`, `kurtosis`), the default behavior of `mode` typically preserves the axis it acts along. In SciPy 1.11.0, this behavior will change: the default value of `keepdims` will become False, the `axis` over which the statistic is taken will be eliminated, and the value None will no longer be accepted. Set `keepdims` to True or False to avoid this warning.\n",
            "  return mode(y_preds, axis=1)[0]\n",
            "Model Training: 100% [-----------------------------------------] Time:  0:00:00\n",
            "/content/bagging.py:94: FutureWarning: Unlike other reduction functions (e.g. `skew`, `kurtosis`), the default behavior of `mode` typically preserves the axis it acts along. In SciPy 1.11.0, this behavior will change: the default value of `keepdims` will become False, the `axis` over which the statistic is taken will be eliminated, and the value None will no longer be accepted. Set `keepdims` to True or False to avoid this warning.\n",
            "  return mode(y_preds, axis=1)[0]\n",
            "Model Training: 100% [-----------------------------------------] Time:  0:00:00\n",
            "/content/bagging.py:94: FutureWarning: Unlike other reduction functions (e.g. `skew`, `kurtosis`), the default behavior of `mode` typically preserves the axis it acts along. In SciPy 1.11.0, this behavior will change: the default value of `keepdims` will become False, the `axis` over which the statistic is taken will be eliminated, and the value None will no longer be accepted. Set `keepdims` to True or False to avoid this warning.\n",
            "  return mode(y_preds, axis=1)[0]\n",
            "Model Training: 100% [-----------------------------------------] Time:  0:00:00\n",
            "/content/bagging.py:94: FutureWarning: Unlike other reduction functions (e.g. `skew`, `kurtosis`), the default behavior of `mode` typically preserves the axis it acts along. In SciPy 1.11.0, this behavior will change: the default value of `keepdims` will become False, the `axis` over which the statistic is taken will be eliminated, and the value None will no longer be accepted. Set `keepdims` to True or False to avoid this warning.\n",
            "  return mode(y_preds, axis=1)[0]\n",
            "Model Training: 100% [-----------------------------------------] Time:  0:00:00\n",
            "/content/bagging.py:94: FutureWarning: Unlike other reduction functions (e.g. `skew`, `kurtosis`), the default behavior of `mode` typically preserves the axis it acts along. In SciPy 1.11.0, this behavior will change: the default value of `keepdims` will become False, the `axis` over which the statistic is taken will be eliminated, and the value None will no longer be accepted. Set `keepdims` to True or False to avoid this warning.\n",
            "  return mode(y_preds, axis=1)[0]\n",
            "Model Training:   0% [                                         ] ETA:  --:--:--"
          ]
        },
        {
          "output_type": "stream",
          "name": "stdout",
          "text": [
            "CV accuracy is: 0.9911764705882353\n"
          ]
        },
        {
          "output_type": "stream",
          "name": "stderr",
          "text": [
            "\rModel Training: 100% [-----------------------------------------] Time:  0:00:00\n",
            "/content/bagging.py:94: FutureWarning: Unlike other reduction functions (e.g. `skew`, `kurtosis`), the default behavior of `mode` typically preserves the axis it acts along. In SciPy 1.11.0, this behavior will change: the default value of `keepdims` will become False, the `axis` over which the statistic is taken will be eliminated, and the value None will no longer be accepted. Set `keepdims` to True or False to avoid this warning.\n",
            "  return mode(y_preds, axis=1)[0]\n",
            "Model Training: 100% [-----------------------------------------] Time:  0:00:00\n",
            "/content/bagging.py:94: FutureWarning: Unlike other reduction functions (e.g. `skew`, `kurtosis`), the default behavior of `mode` typically preserves the axis it acts along. In SciPy 1.11.0, this behavior will change: the default value of `keepdims` will become False, the `axis` over which the statistic is taken will be eliminated, and the value None will no longer be accepted. Set `keepdims` to True or False to avoid this warning.\n",
            "  return mode(y_preds, axis=1)[0]\n",
            "Model Training: 100% [-----------------------------------------] Time:  0:00:00\n",
            "/content/bagging.py:94: FutureWarning: Unlike other reduction functions (e.g. `skew`, `kurtosis`), the default behavior of `mode` typically preserves the axis it acts along. In SciPy 1.11.0, this behavior will change: the default value of `keepdims` will become False, the `axis` over which the statistic is taken will be eliminated, and the value None will no longer be accepted. Set `keepdims` to True or False to avoid this warning.\n",
            "  return mode(y_preds, axis=1)[0]\n",
            "Model Training: 100% [-----------------------------------------] Time:  0:00:00\n",
            "/content/bagging.py:94: FutureWarning: Unlike other reduction functions (e.g. `skew`, `kurtosis`), the default behavior of `mode` typically preserves the axis it acts along. In SciPy 1.11.0, this behavior will change: the default value of `keepdims` will become False, the `axis` over which the statistic is taken will be eliminated, and the value None will no longer be accepted. Set `keepdims` to True or False to avoid this warning.\n",
            "  return mode(y_preds, axis=1)[0]\n",
            "Model Training: 100% [-----------------------------------------] Time:  0:00:00\n",
            "/content/bagging.py:94: FutureWarning: Unlike other reduction functions (e.g. `skew`, `kurtosis`), the default behavior of `mode` typically preserves the axis it acts along. In SciPy 1.11.0, this behavior will change: the default value of `keepdims` will become False, the `axis` over which the statistic is taken will be eliminated, and the value None will no longer be accepted. Set `keepdims` to True or False to avoid this warning.\n",
            "  return mode(y_preds, axis=1)[0]\n",
            "Model Training: 100% [-----------------------------------------] Time:  0:00:00\n",
            "/content/bagging.py:94: FutureWarning: Unlike other reduction functions (e.g. `skew`, `kurtosis`), the default behavior of `mode` typically preserves the axis it acts along. In SciPy 1.11.0, this behavior will change: the default value of `keepdims` will become False, the `axis` over which the statistic is taken will be eliminated, and the value None will no longer be accepted. Set `keepdims` to True or False to avoid this warning.\n",
            "  return mode(y_preds, axis=1)[0]\n"
          ]
        },
        {
          "output_type": "stream",
          "name": "stdout",
          "text": [
            "CV accuracy is: 0.9911764705882353\n",
            "Best M: 3\n"
          ]
        }
      ],
      "source": [
        "scores = []\n",
        "ks = np.arange(1, 21, 2)\n",
        "\n",
        "for k in ks:\n",
        "  model = Bagging(base_estimator=DecisionTreeClassifier, nr_estimators=k)\n",
        "  cv_acc = do_cross_validation(model, X_train, y_train, k=10, random_state=0)\n",
        "  print('CV accuracy is:', cv_acc)\n",
        "  scores.append(cv_acc)\n",
        "\n",
        "print(f\"Best M: {ks[np.argmax(scores)]}\")"
      ]
    },
    {
      "cell_type": "markdown",
      "metadata": {
        "id": "WjXfTgM6IMKI"
      },
      "source": [
        "**Question** Based on your experiments, what is the best value for the number of models in the ensemble?"
      ]
    },
    {
      "cell_type": "code",
      "source": [
        "plt.plot(ks, scores)"
      ],
      "metadata": {
        "colab": {
          "base_uri": "https://localhost:8080/",
          "height": 546
        },
        "id": "jH0d41mdBBWx",
        "outputId": "19d55cb4-ed44-4f57-af78-ce5075f25bf5"
      },
      "execution_count": 31,
      "outputs": [
        {
          "output_type": "execute_result",
          "data": {
            "text/plain": [
              "[<matplotlib.lines.Line2D at 0x7c745a58df30>]"
            ]
          },
          "metadata": {},
          "execution_count": 31
        },
        {
          "output_type": "display_data",
          "data": {
            "text/plain": [
              "<Figure size 1200x800 with 1 Axes>"
            ],
            "image/png": "[encoded data removed]"
          },
          "metadata": {}
        }
      ]
    },
    {
      "cell_type": "markdown",
      "metadata": {
        "id": "7HgWs8FQRF3B"
      },
      "source": [
        "**Answer**"
      ]
    },
    {
      "cell_type": "markdown",
      "metadata": {
        "id": "-bY6XPqEd_hL"
      },
      "source": [
        "Use the best value of the number of models and train the final model on the whole train dataset and test the model on the train and test sets."
      ]
    },
    {
      "cell_type": "code",
      "execution_count": 32,
      "metadata": {
        "id": "3vnRUuO_d_ud",
        "colab": {
          "base_uri": "https://localhost:8080/"
        },
        "outputId": "4529b08a-4223-411f-a2e8-c51125697f86"
      },
      "outputs": [
        {
          "output_type": "stream",
          "name": "stderr",
          "text": [
            "Model Training: 100% [-----------------------------------------] Time:  0:00:00\n"
          ]
        },
        {
          "output_type": "stream",
          "name": "stdout",
          "text": [
            "Bagging train accuracy: 0.9970588235294118\n",
            "Bagging test accuracy: 1.0\n"
          ]
        },
        {
          "output_type": "stream",
          "name": "stderr",
          "text": [
            "/content/bagging.py:94: FutureWarning: Unlike other reduction functions (e.g. `skew`, `kurtosis`), the default behavior of `mode` typically preserves the axis it acts along. In SciPy 1.11.0, this behavior will change: the default value of `keepdims` will become False, the `axis` over which the statistic is taken will be eliminated, and the value None will no longer be accepted. Set `keepdims` to True or False to avoid this warning.\n",
            "  return mode(y_preds, axis=1)[0]\n",
            "/content/bagging.py:94: FutureWarning: Unlike other reduction functions (e.g. `skew`, `kurtosis`), the default behavior of `mode` typically preserves the axis it acts along. In SciPy 1.11.0, this behavior will change: the default value of `keepdims` will become False, the `axis` over which the statistic is taken will be eliminated, and the value None will no longer be accepted. Set `keepdims` to True or False to avoid this warning.\n",
            "  return mode(y_preds, axis=1)[0]\n"
          ]
        }
      ],
      "source": [
        "model1 = Bagging(base_estimator=DecisionTreeClassifier, nr_estimators=3)\n",
        "model1.fit(X_train, y_train)\n",
        "preds1 = model1.predict(X_train)\n",
        "preds2 = model1.predict(X_test)\n",
        "print('Bagging train accuracy:', accuracy_score(y_train, preds1))\n",
        "print('Bagging test accuracy:', accuracy_score(y_test, preds2))"
      ]
    },
    {
      "cell_type": "markdown",
      "metadata": {
        "id": "Y8bXyfc4eQYc"
      },
      "source": [
        "**Question:** What results did you get? How well did the algorithm learn?"
      ]
    },
    {
      "cell_type": "markdown",
      "metadata": {
        "id": "ZxR7ZDtFglYZ"
      },
      "source": [
        "**Answer:**"
      ]
    },
    {
      "cell_type": "markdown",
      "metadata": {
        "id": "Wy-1rcKsJOEb"
      },
      "source": [
        "# Random Forest\n",
        "\n",
        "Now we will check the implementation for the Random Forest classifier. Make sure you get above 99% CV accuracy."
      ]
    },
    {
      "cell_type": "code",
      "execution_count": 33,
      "metadata": {
        "id": "YJD79Iq9JOKX",
        "colab": {
          "base_uri": "https://localhost:8080/"
        },
        "outputId": "ced377b1-5c81-48df-d395-ac094b2575e3"
      },
      "outputs": [
        {
          "output_type": "stream",
          "name": "stderr",
          "text": [
            "Model Training: 100% [-----------------------------------------] Time:  0:00:00\n",
            "/content/bagging.py:172: FutureWarning: Unlike other reduction functions (e.g. `skew`, `kurtosis`), the default behavior of `mode` typically preserves the axis it acts along. In SciPy 1.11.0, this behavior will change: the default value of `keepdims` will become False, the `axis` over which the statistic is taken will be eliminated, and the value None will no longer be accepted. Set `keepdims` to True or False to avoid this warning.\n",
            "  return mode(y_preds, axis=1)[0]\n",
            "Model Training: 100% [-----------------------------------------] Time:  0:00:00\n",
            "/content/bagging.py:172: FutureWarning: Unlike other reduction functions (e.g. `skew`, `kurtosis`), the default behavior of `mode` typically preserves the axis it acts along. In SciPy 1.11.0, this behavior will change: the default value of `keepdims` will become False, the `axis` over which the statistic is taken will be eliminated, and the value None will no longer be accepted. Set `keepdims` to True or False to avoid this warning.\n",
            "  return mode(y_preds, axis=1)[0]\n",
            "Model Training: 100% [-----------------------------------------] Time:  0:00:00\n",
            "/content/bagging.py:172: FutureWarning: Unlike other reduction functions (e.g. `skew`, `kurtosis`), the default behavior of `mode` typically preserves the axis it acts along. In SciPy 1.11.0, this behavior will change: the default value of `keepdims` will become False, the `axis` over which the statistic is taken will be eliminated, and the value None will no longer be accepted. Set `keepdims` to True or False to avoid this warning.\n",
            "  return mode(y_preds, axis=1)[0]\n",
            "Model Training: 100% [-----------------------------------------] Time:  0:00:00\n",
            "/content/bagging.py:172: FutureWarning: Unlike other reduction functions (e.g. `skew`, `kurtosis`), the default behavior of `mode` typically preserves the axis it acts along. In SciPy 1.11.0, this behavior will change: the default value of `keepdims` will become False, the `axis` over which the statistic is taken will be eliminated, and the value None will no longer be accepted. Set `keepdims` to True or False to avoid this warning.\n",
            "  return mode(y_preds, axis=1)[0]\n",
            "Model Training: 100% [-----------------------------------------] Time:  0:00:00\n",
            "/content/bagging.py:172: FutureWarning: Unlike other reduction functions (e.g. `skew`, `kurtosis`), the default behavior of `mode` typically preserves the axis it acts along. In SciPy 1.11.0, this behavior will change: the default value of `keepdims` will become False, the `axis` over which the statistic is taken will be eliminated, and the value None will no longer be accepted. Set `keepdims` to True or False to avoid this warning.\n",
            "  return mode(y_preds, axis=1)[0]\n",
            "Model Training: 100% [-----------------------------------------] Time:  0:00:00\n",
            "/content/bagging.py:172: FutureWarning: Unlike other reduction functions (e.g. `skew`, `kurtosis`), the default behavior of `mode` typically preserves the axis it acts along. In SciPy 1.11.0, this behavior will change: the default value of `keepdims` will become False, the `axis` over which the statistic is taken will be eliminated, and the value None will no longer be accepted. Set `keepdims` to True or False to avoid this warning.\n",
            "  return mode(y_preds, axis=1)[0]\n",
            "Model Training: 100% [-----------------------------------------] Time:  0:00:00\n",
            "/content/bagging.py:172: FutureWarning: Unlike other reduction functions (e.g. `skew`, `kurtosis`), the default behavior of `mode` typically preserves the axis it acts along. In SciPy 1.11.0, this behavior will change: the default value of `keepdims` will become False, the `axis` over which the statistic is taken will be eliminated, and the value None will no longer be accepted. Set `keepdims` to True or False to avoid this warning.\n",
            "  return mode(y_preds, axis=1)[0]\n",
            "Model Training: 100% [-----------------------------------------] Time:  0:00:00\n",
            "/content/bagging.py:172: FutureWarning: Unlike other reduction functions (e.g. `skew`, `kurtosis`), the default behavior of `mode` typically preserves the axis it acts along. In SciPy 1.11.0, this behavior will change: the default value of `keepdims` will become False, the `axis` over which the statistic is taken will be eliminated, and the value None will no longer be accepted. Set `keepdims` to True or False to avoid this warning.\n",
            "  return mode(y_preds, axis=1)[0]\n",
            "Model Training: 100% [-----------------------------------------] Time:  0:00:00\n",
            "/content/bagging.py:172: FutureWarning: Unlike other reduction functions (e.g. `skew`, `kurtosis`), the default behavior of `mode` typically preserves the axis it acts along. In SciPy 1.11.0, this behavior will change: the default value of `keepdims` will become False, the `axis` over which the statistic is taken will be eliminated, and the value None will no longer be accepted. Set `keepdims` to True or False to avoid this warning.\n",
            "  return mode(y_preds, axis=1)[0]\n",
            "Model Training: 100% [-----------------------------------------] Time:  0:00:00\n"
          ]
        },
        {
          "output_type": "stream",
          "name": "stdout",
          "text": [
            "CV accuracy is: 0.9970588235294118\n"
          ]
        },
        {
          "output_type": "stream",
          "name": "stderr",
          "text": [
            "/content/bagging.py:172: FutureWarning: Unlike other reduction functions (e.g. `skew`, `kurtosis`), the default behavior of `mode` typically preserves the axis it acts along. In SciPy 1.11.0, this behavior will change: the default value of `keepdims` will become False, the `axis` over which the statistic is taken will be eliminated, and the value None will no longer be accepted. Set `keepdims` to True or False to avoid this warning.\n",
            "  return mode(y_preds, axis=1)[0]\n"
          ]
        }
      ],
      "source": [
        "model = RandomForest(10)\n",
        "cv_acc = do_cross_validation(model, X_train, y_train, k=10, random_state=0)\n",
        "print('CV accuracy is:', cv_acc)"
      ]
    },
    {
      "cell_type": "markdown",
      "metadata": {
        "id": "Vn515Qu6b-nJ"
      },
      "source": [
        "Again, choose the best value for the number of models in the ensemble based on 10-fold cross-validation (keep the ``random_seed=0``). Plot a figure to show what happens with the CV accuracy when we change the number of models."
      ]
    },
    {
      "cell_type": "code",
      "execution_count": 34,
      "metadata": {
        "id": "MMFVkqNCg7tV",
        "colab": {
          "base_uri": "https://localhost:8080/"
        },
        "outputId": "4b0ddd8b-d37a-40b3-d12c-d559453d3e0c"
      },
      "outputs": [
        {
          "output_type": "stream",
          "name": "stderr",
          "text": [
            "Model Training: 100% [-----------------------------------------] Time:  0:00:00\n",
            "/content/bagging.py:172: FutureWarning: Unlike other reduction functions (e.g. `skew`, `kurtosis`), the default behavior of `mode` typically preserves the axis it acts along. In SciPy 1.11.0, this behavior will change: the default value of `keepdims` will become False, the `axis` over which the statistic is taken will be eliminated, and the value None will no longer be accepted. Set `keepdims` to True or False to avoid this warning.\n",
            "  return mode(y_preds, axis=1)[0]\n",
            "Model Training: 100% [-----------------------------------------] Time:  0:00:00\n",
            "/content/bagging.py:172: FutureWarning: Unlike other reduction functions (e.g. `skew`, `kurtosis`), the default behavior of `mode` typically preserves the axis it acts along. In SciPy 1.11.0, this behavior will change: the default value of `keepdims` will become False, the `axis` over which the statistic is taken will be eliminated, and the value None will no longer be accepted. Set `keepdims` to True or False to avoid this warning.\n",
            "  return mode(y_preds, axis=1)[0]\n",
            "Model Training: 100% [-----------------------------------------] Time:  0:00:00\n",
            "/content/bagging.py:172: FutureWarning: Unlike other reduction functions (e.g. `skew`, `kurtosis`), the default behavior of `mode` typically preserves the axis it acts along. In SciPy 1.11.0, this behavior will change: the default value of `keepdims` will become False, the `axis` over which the statistic is taken will be eliminated, and the value None will no longer be accepted. Set `keepdims` to True or False to avoid this warning.\n",
            "  return mode(y_preds, axis=1)[0]\n",
            "Model Training: 100% [-----------------------------------------] Time:  0:00:00\n",
            "/content/bagging.py:172: FutureWarning: Unlike other reduction functions (e.g. `skew`, `kurtosis`), the default behavior of `mode` typically preserves the axis it acts along. In SciPy 1.11.0, this behavior will change: the default value of `keepdims` will become False, the `axis` over which the statistic is taken will be eliminated, and the value None will no longer be accepted. Set `keepdims` to True or False to avoid this warning.\n",
            "  return mode(y_preds, axis=1)[0]\n",
            "Model Training: 100% [-----------------------------------------] Time:  0:00:00\n",
            "/content/bagging.py:172: FutureWarning: Unlike other reduction functions (e.g. `skew`, `kurtosis`), the default behavior of `mode` typically preserves the axis it acts along. In SciPy 1.11.0, this behavior will change: the default value of `keepdims` will become False, the `axis` over which the statistic is taken will be eliminated, and the value None will no longer be accepted. Set `keepdims` to True or False to avoid this warning.\n",
            "  return mode(y_preds, axis=1)[0]\n",
            "Model Training: 100% [-----------------------------------------] Time:  0:00:00\n",
            "/content/bagging.py:172: FutureWarning: Unlike other reduction functions (e.g. `skew`, `kurtosis`), the default behavior of `mode` typically preserves the axis it acts along. In SciPy 1.11.0, this behavior will change: the default value of `keepdims` will become False, the `axis` over which the statistic is taken will be eliminated, and the value None will no longer be accepted. Set `keepdims` to True or False to avoid this warning.\n",
            "  return mode(y_preds, axis=1)[0]\n",
            "Model Training: 100% [-----------------------------------------] Time:  0:00:00\n",
            "/content/bagging.py:172: FutureWarning: Unlike other reduction functions (e.g. `skew`, `kurtosis`), the default behavior of `mode` typically preserves the axis it acts along. In SciPy 1.11.0, this behavior will change: the default value of `keepdims` will become False, the `axis` over which the statistic is taken will be eliminated, and the value None will no longer be accepted. Set `keepdims` to True or False to avoid this warning.\n",
            "  return mode(y_preds, axis=1)[0]\n",
            "Model Training: 100% [-----------------------------------------] Time:  0:00:00\n",
            "/content/bagging.py:172: FutureWarning: Unlike other reduction functions (e.g. `skew`, `kurtosis`), the default behavior of `mode` typically preserves the axis it acts along. In SciPy 1.11.0, this behavior will change: the default value of `keepdims` will become False, the `axis` over which the statistic is taken will be eliminated, and the value None will no longer be accepted. Set `keepdims` to True or False to avoid this warning.\n",
            "  return mode(y_preds, axis=1)[0]\n",
            "Model Training: 100% [-----------------------------------------] Time:  0:00:00\n",
            "/content/bagging.py:172: FutureWarning: Unlike other reduction functions (e.g. `skew`, `kurtosis`), the default behavior of `mode` typically preserves the axis it acts along. In SciPy 1.11.0, this behavior will change: the default value of `keepdims` will become False, the `axis` over which the statistic is taken will be eliminated, and the value None will no longer be accepted. Set `keepdims` to True or False to avoid this warning.\n",
            "  return mode(y_preds, axis=1)[0]\n",
            "Model Training: 100% [-----------------------------------------] Time:  0:00:00\n",
            "/content/bagging.py:172: FutureWarning: Unlike other reduction functions (e.g. `skew`, `kurtosis`), the default behavior of `mode` typically preserves the axis it acts along. In SciPy 1.11.0, this behavior will change: the default value of `keepdims` will become False, the `axis` over which the statistic is taken will be eliminated, and the value None will no longer be accepted. Set `keepdims` to True or False to avoid this warning.\n",
            "  return mode(y_preds, axis=1)[0]\n",
            "Model Training: 100% [-----------------------------------------] Time:  0:00:00\n",
            "/content/bagging.py:172: FutureWarning: Unlike other reduction functions (e.g. `skew`, `kurtosis`), the default behavior of `mode` typically preserves the axis it acts along. In SciPy 1.11.0, this behavior will change: the default value of `keepdims` will become False, the `axis` over which the statistic is taken will be eliminated, and the value None will no longer be accepted. Set `keepdims` to True or False to avoid this warning.\n",
            "  return mode(y_preds, axis=1)[0]\n",
            "Model Training: 100% [-----------------------------------------] Time:  0:00:00\n",
            "/content/bagging.py:172: FutureWarning: Unlike other reduction functions (e.g. `skew`, `kurtosis`), the default behavior of `mode` typically preserves the axis it acts along. In SciPy 1.11.0, this behavior will change: the default value of `keepdims` will become False, the `axis` over which the statistic is taken will be eliminated, and the value None will no longer be accepted. Set `keepdims` to True or False to avoid this warning.\n",
            "  return mode(y_preds, axis=1)[0]\n",
            "Model Training: 100% [-----------------------------------------] Time:  0:00:00\n",
            "/content/bagging.py:172: FutureWarning: Unlike other reduction functions (e.g. `skew`, `kurtosis`), the default behavior of `mode` typically preserves the axis it acts along. In SciPy 1.11.0, this behavior will change: the default value of `keepdims` will become False, the `axis` over which the statistic is taken will be eliminated, and the value None will no longer be accepted. Set `keepdims` to True or False to avoid this warning.\n",
            "  return mode(y_preds, axis=1)[0]\n",
            "Model Training: 100% [-----------------------------------------] Time:  0:00:00\n",
            "/content/bagging.py:172: FutureWarning: Unlike other reduction functions (e.g. `skew`, `kurtosis`), the default behavior of `mode` typically preserves the axis it acts along. In SciPy 1.11.0, this behavior will change: the default value of `keepdims` will become False, the `axis` over which the statistic is taken will be eliminated, and the value None will no longer be accepted. Set `keepdims` to True or False to avoid this warning.\n",
            "  return mode(y_preds, axis=1)[0]\n",
            "Model Training: 100% [-----------------------------------------] Time:  0:00:00\n",
            "/content/bagging.py:172: FutureWarning: Unlike other reduction functions (e.g. `skew`, `kurtosis`), the default behavior of `mode` typically preserves the axis it acts along. In SciPy 1.11.0, this behavior will change: the default value of `keepdims` will become False, the `axis` over which the statistic is taken will be eliminated, and the value None will no longer be accepted. Set `keepdims` to True or False to avoid this warning.\n",
            "  return mode(y_preds, axis=1)[0]\n",
            "Model Training: 100% [-----------------------------------------] Time:  0:00:00\n",
            "/content/bagging.py:172: FutureWarning: Unlike other reduction functions (e.g. `skew`, `kurtosis`), the default behavior of `mode` typically preserves the axis it acts along. In SciPy 1.11.0, this behavior will change: the default value of `keepdims` will become False, the `axis` over which the statistic is taken will be eliminated, and the value None will no longer be accepted. Set `keepdims` to True or False to avoid this warning.\n",
            "  return mode(y_preds, axis=1)[0]\n",
            "Model Training: 100% [-----------------------------------------] Time:  0:00:00\n",
            "/content/bagging.py:172: FutureWarning: Unlike other reduction functions (e.g. `skew`, `kurtosis`), the default behavior of `mode` typically preserves the axis it acts along. In SciPy 1.11.0, this behavior will change: the default value of `keepdims` will become False, the `axis` over which the statistic is taken will be eliminated, and the value None will no longer be accepted. Set `keepdims` to True or False to avoid this warning.\n",
            "  return mode(y_preds, axis=1)[0]\n",
            "Model Training:   0% [                                         ] ETA:  --:--:--"
          ]
        },
        {
          "output_type": "stream",
          "name": "stdout",
          "text": [
            "CV accuracy is: 0.9970588235294118\n"
          ]
        },
        {
          "output_type": "stream",
          "name": "stderr",
          "text": [
            "Model Training: 100% [-----------------------------------------] Time:  0:00:00\n",
            "/content/bagging.py:172: FutureWarning: Unlike other reduction functions (e.g. `skew`, `kurtosis`), the default behavior of `mode` typically preserves the axis it acts along. In SciPy 1.11.0, this behavior will change: the default value of `keepdims` will become False, the `axis` over which the statistic is taken will be eliminated, and the value None will no longer be accepted. Set `keepdims` to True or False to avoid this warning.\n",
            "  return mode(y_preds, axis=1)[0]\n",
            "Model Training: 100% [-----------------------------------------] Time:  0:00:00\n",
            "/content/bagging.py:172: FutureWarning: Unlike other reduction functions (e.g. `skew`, `kurtosis`), the default behavior of `mode` typically preserves the axis it acts along. In SciPy 1.11.0, this behavior will change: the default value of `keepdims` will become False, the `axis` over which the statistic is taken will be eliminated, and the value None will no longer be accepted. Set `keepdims` to True or False to avoid this warning.\n",
            "  return mode(y_preds, axis=1)[0]\n",
            "Model Training: 100% [-----------------------------------------] Time:  0:00:00\n",
            "/content/bagging.py:172: FutureWarning: Unlike other reduction functions (e.g. `skew`, `kurtosis`), the default behavior of `mode` typically preserves the axis it acts along. In SciPy 1.11.0, this behavior will change: the default value of `keepdims` will become False, the `axis` over which the statistic is taken will be eliminated, and the value None will no longer be accepted. Set `keepdims` to True or False to avoid this warning.\n",
            "  return mode(y_preds, axis=1)[0]\n",
            "Model Training: 100% [-----------------------------------------] Time:  0:00:00\n",
            "/content/bagging.py:172: FutureWarning: Unlike other reduction functions (e.g. `skew`, `kurtosis`), the default behavior of `mode` typically preserves the axis it acts along. In SciPy 1.11.0, this behavior will change: the default value of `keepdims` will become False, the `axis` over which the statistic is taken will be eliminated, and the value None will no longer be accepted. Set `keepdims` to True or False to avoid this warning.\n",
            "  return mode(y_preds, axis=1)[0]\n",
            "Model Training: 100% [-----------------------------------------] Time:  0:00:00\n",
            "/content/bagging.py:172: FutureWarning: Unlike other reduction functions (e.g. `skew`, `kurtosis`), the default behavior of `mode` typically preserves the axis it acts along. In SciPy 1.11.0, this behavior will change: the default value of `keepdims` will become False, the `axis` over which the statistic is taken will be eliminated, and the value None will no longer be accepted. Set `keepdims` to True or False to avoid this warning.\n",
            "  return mode(y_preds, axis=1)[0]\n",
            "Model Training: 100% [-----------------------------------------] Time:  0:00:00\n",
            "/content/bagging.py:172: FutureWarning: Unlike other reduction functions (e.g. `skew`, `kurtosis`), the default behavior of `mode` typically preserves the axis it acts along. In SciPy 1.11.0, this behavior will change: the default value of `keepdims` will become False, the `axis` over which the statistic is taken will be eliminated, and the value None will no longer be accepted. Set `keepdims` to True or False to avoid this warning.\n",
            "  return mode(y_preds, axis=1)[0]\n",
            "Model Training: 100% [-----------------------------------------] Time:  0:00:00\n",
            "/content/bagging.py:172: FutureWarning: Unlike other reduction functions (e.g. `skew`, `kurtosis`), the default behavior of `mode` typically preserves the axis it acts along. In SciPy 1.11.0, this behavior will change: the default value of `keepdims` will become False, the `axis` over which the statistic is taken will be eliminated, and the value None will no longer be accepted. Set `keepdims` to True or False to avoid this warning.\n",
            "  return mode(y_preds, axis=1)[0]\n",
            "Model Training: 100% [-----------------------------------------] Time:  0:00:00\n",
            "/content/bagging.py:172: FutureWarning: Unlike other reduction functions (e.g. `skew`, `kurtosis`), the default behavior of `mode` typically preserves the axis it acts along. In SciPy 1.11.0, this behavior will change: the default value of `keepdims` will become False, the `axis` over which the statistic is taken will be eliminated, and the value None will no longer be accepted. Set `keepdims` to True or False to avoid this warning.\n",
            "  return mode(y_preds, axis=1)[0]\n",
            "Model Training: 100% [-----------------------------------------] Time:  0:00:00\n",
            "/content/bagging.py:172: FutureWarning: Unlike other reduction functions (e.g. `skew`, `kurtosis`), the default behavior of `mode` typically preserves the axis it acts along. In SciPy 1.11.0, this behavior will change: the default value of `keepdims` will become False, the `axis` over which the statistic is taken will be eliminated, and the value None will no longer be accepted. Set `keepdims` to True or False to avoid this warning.\n",
            "  return mode(y_preds, axis=1)[0]\n",
            "Model Training: 100% [-----------------------------------------] Time:  0:00:00\n",
            "/content/bagging.py:172: FutureWarning: Unlike other reduction functions (e.g. `skew`, `kurtosis`), the default behavior of `mode` typically preserves the axis it acts along. In SciPy 1.11.0, this behavior will change: the default value of `keepdims` will become False, the `axis` over which the statistic is taken will be eliminated, and the value None will no longer be accepted. Set `keepdims` to True or False to avoid this warning.\n",
            "  return mode(y_preds, axis=1)[0]\n",
            "Model Training:   0% [                                         ] ETA:  --:--:--"
          ]
        },
        {
          "output_type": "stream",
          "name": "stdout",
          "text": [
            "CV accuracy is: 0.9970588235294118\n"
          ]
        },
        {
          "output_type": "stream",
          "name": "stderr",
          "text": [
            "\rModel Training: 100% [-----------------------------------------] Time:  0:00:00\n",
            "/content/bagging.py:172: FutureWarning: Unlike other reduction functions (e.g. `skew`, `kurtosis`), the default behavior of `mode` typically preserves the axis it acts along. In SciPy 1.11.0, this behavior will change: the default value of `keepdims` will become False, the `axis` over which the statistic is taken will be eliminated, and the value None will no longer be accepted. Set `keepdims` to True or False to avoid this warning.\n",
            "  return mode(y_preds, axis=1)[0]\n",
            "Model Training: 100% [-----------------------------------------] Time:  0:00:00\n",
            "/content/bagging.py:172: FutureWarning: Unlike other reduction functions (e.g. `skew`, `kurtosis`), the default behavior of `mode` typically preserves the axis it acts along. In SciPy 1.11.0, this behavior will change: the default value of `keepdims` will become False, the `axis` over which the statistic is taken will be eliminated, and the value None will no longer be accepted. Set `keepdims` to True or False to avoid this warning.\n",
            "  return mode(y_preds, axis=1)[0]\n",
            "Model Training: 100% [-----------------------------------------] Time:  0:00:00\n",
            "/content/bagging.py:172: FutureWarning: Unlike other reduction functions (e.g. `skew`, `kurtosis`), the default behavior of `mode` typically preserves the axis it acts along. In SciPy 1.11.0, this behavior will change: the default value of `keepdims` will become False, the `axis` over which the statistic is taken will be eliminated, and the value None will no longer be accepted. Set `keepdims` to True or False to avoid this warning.\n",
            "  return mode(y_preds, axis=1)[0]\n",
            "Model Training: 100% [-----------------------------------------] Time:  0:00:00\n",
            "/content/bagging.py:172: FutureWarning: Unlike other reduction functions (e.g. `skew`, `kurtosis`), the default behavior of `mode` typically preserves the axis it acts along. In SciPy 1.11.0, this behavior will change: the default value of `keepdims` will become False, the `axis` over which the statistic is taken will be eliminated, and the value None will no longer be accepted. Set `keepdims` to True or False to avoid this warning.\n",
            "  return mode(y_preds, axis=1)[0]\n",
            "Model Training: 100% [-----------------------------------------] Time:  0:00:00\n",
            "/content/bagging.py:172: FutureWarning: Unlike other reduction functions (e.g. `skew`, `kurtosis`), the default behavior of `mode` typically preserves the axis it acts along. In SciPy 1.11.0, this behavior will change: the default value of `keepdims` will become False, the `axis` over which the statistic is taken will be eliminated, and the value None will no longer be accepted. Set `keepdims` to True or False to avoid this warning.\n",
            "  return mode(y_preds, axis=1)[0]\n",
            "Model Training: 100% [-----------------------------------------] Time:  0:00:00\n",
            "/content/bagging.py:172: FutureWarning: Unlike other reduction functions (e.g. `skew`, `kurtosis`), the default behavior of `mode` typically preserves the axis it acts along. In SciPy 1.11.0, this behavior will change: the default value of `keepdims` will become False, the `axis` over which the statistic is taken will be eliminated, and the value None will no longer be accepted. Set `keepdims` to True or False to avoid this warning.\n",
            "  return mode(y_preds, axis=1)[0]\n",
            "Model Training: 100% [-----------------------------------------] Time:  0:00:00\n",
            "/content/bagging.py:172: FutureWarning: Unlike other reduction functions (e.g. `skew`, `kurtosis`), the default behavior of `mode` typically preserves the axis it acts along. In SciPy 1.11.0, this behavior will change: the default value of `keepdims` will become False, the `axis` over which the statistic is taken will be eliminated, and the value None will no longer be accepted. Set `keepdims` to True or False to avoid this warning.\n",
            "  return mode(y_preds, axis=1)[0]\n",
            "Model Training: 100% [-----------------------------------------] Time:  0:00:00\n",
            "/content/bagging.py:172: FutureWarning: Unlike other reduction functions (e.g. `skew`, `kurtosis`), the default behavior of `mode` typically preserves the axis it acts along. In SciPy 1.11.0, this behavior will change: the default value of `keepdims` will become False, the `axis` over which the statistic is taken will be eliminated, and the value None will no longer be accepted. Set `keepdims` to True or False to avoid this warning.\n",
            "  return mode(y_preds, axis=1)[0]\n",
            "Model Training: 100% [-----------------------------------------] Time:  0:00:00\n",
            "/content/bagging.py:172: FutureWarning: Unlike other reduction functions (e.g. `skew`, `kurtosis`), the default behavior of `mode` typically preserves the axis it acts along. In SciPy 1.11.0, this behavior will change: the default value of `keepdims` will become False, the `axis` over which the statistic is taken will be eliminated, and the value None will no longer be accepted. Set `keepdims` to True or False to avoid this warning.\n",
            "  return mode(y_preds, axis=1)[0]\n",
            "Model Training: 100% [-----------------------------------------] Time:  0:00:00\n",
            "/content/bagging.py:172: FutureWarning: Unlike other reduction functions (e.g. `skew`, `kurtosis`), the default behavior of `mode` typically preserves the axis it acts along. In SciPy 1.11.0, this behavior will change: the default value of `keepdims` will become False, the `axis` over which the statistic is taken will be eliminated, and the value None will no longer be accepted. Set `keepdims` to True or False to avoid this warning.\n",
            "  return mode(y_preds, axis=1)[0]\n",
            "Model Training:   0% [                                         ] ETA:  --:--:--"
          ]
        },
        {
          "output_type": "stream",
          "name": "stdout",
          "text": [
            "CV accuracy is: 0.9970588235294118\n"
          ]
        },
        {
          "output_type": "stream",
          "name": "stderr",
          "text": [
            "Model Training: 100% [-----------------------------------------] Time:  0:00:00\n",
            "/content/bagging.py:172: FutureWarning: Unlike other reduction functions (e.g. `skew`, `kurtosis`), the default behavior of `mode` typically preserves the axis it acts along. In SciPy 1.11.0, this behavior will change: the default value of `keepdims` will become False, the `axis` over which the statistic is taken will be eliminated, and the value None will no longer be accepted. Set `keepdims` to True or False to avoid this warning.\n",
            "  return mode(y_preds, axis=1)[0]\n",
            "Model Training: 100% [-----------------------------------------] Time:  0:00:00\n",
            "/content/bagging.py:172: FutureWarning: Unlike other reduction functions (e.g. `skew`, `kurtosis`), the default behavior of `mode` typically preserves the axis it acts along. In SciPy 1.11.0, this behavior will change: the default value of `keepdims` will become False, the `axis` over which the statistic is taken will be eliminated, and the value None will no longer be accepted. Set `keepdims` to True or False to avoid this warning.\n",
            "  return mode(y_preds, axis=1)[0]\n",
            "Model Training: 100% [-----------------------------------------] Time:  0:00:00\n",
            "/content/bagging.py:172: FutureWarning: Unlike other reduction functions (e.g. `skew`, `kurtosis`), the default behavior of `mode` typically preserves the axis it acts along. In SciPy 1.11.0, this behavior will change: the default value of `keepdims` will become False, the `axis` over which the statistic is taken will be eliminated, and the value None will no longer be accepted. Set `keepdims` to True or False to avoid this warning.\n",
            "  return mode(y_preds, axis=1)[0]\n",
            "Model Training: 100% [-----------------------------------------] Time:  0:00:00\n",
            "/content/bagging.py:172: FutureWarning: Unlike other reduction functions (e.g. `skew`, `kurtosis`), the default behavior of `mode` typically preserves the axis it acts along. In SciPy 1.11.0, this behavior will change: the default value of `keepdims` will become False, the `axis` over which the statistic is taken will be eliminated, and the value None will no longer be accepted. Set `keepdims` to True or False to avoid this warning.\n",
            "  return mode(y_preds, axis=1)[0]\n",
            "Model Training: 100% [-----------------------------------------] Time:  0:00:00\n",
            "/content/bagging.py:172: FutureWarning: Unlike other reduction functions (e.g. `skew`, `kurtosis`), the default behavior of `mode` typically preserves the axis it acts along. In SciPy 1.11.0, this behavior will change: the default value of `keepdims` will become False, the `axis` over which the statistic is taken will be eliminated, and the value None will no longer be accepted. Set `keepdims` to True or False to avoid this warning.\n",
            "  return mode(y_preds, axis=1)[0]\n",
            "Model Training: 100% [-----------------------------------------] Time:  0:00:00\n",
            "/content/bagging.py:172: FutureWarning: Unlike other reduction functions (e.g. `skew`, `kurtosis`), the default behavior of `mode` typically preserves the axis it acts along. In SciPy 1.11.0, this behavior will change: the default value of `keepdims` will become False, the `axis` over which the statistic is taken will be eliminated, and the value None will no longer be accepted. Set `keepdims` to True or False to avoid this warning.\n",
            "  return mode(y_preds, axis=1)[0]\n",
            "Model Training: 100% [-----------------------------------------] Time:  0:00:00\n",
            "/content/bagging.py:172: FutureWarning: Unlike other reduction functions (e.g. `skew`, `kurtosis`), the default behavior of `mode` typically preserves the axis it acts along. In SciPy 1.11.0, this behavior will change: the default value of `keepdims` will become False, the `axis` over which the statistic is taken will be eliminated, and the value None will no longer be accepted. Set `keepdims` to True or False to avoid this warning.\n",
            "  return mode(y_preds, axis=1)[0]\n",
            "Model Training: 100% [-----------------------------------------] Time:  0:00:00\n",
            "/content/bagging.py:172: FutureWarning: Unlike other reduction functions (e.g. `skew`, `kurtosis`), the default behavior of `mode` typically preserves the axis it acts along. In SciPy 1.11.0, this behavior will change: the default value of `keepdims` will become False, the `axis` over which the statistic is taken will be eliminated, and the value None will no longer be accepted. Set `keepdims` to True or False to avoid this warning.\n",
            "  return mode(y_preds, axis=1)[0]\n",
            "Model Training: 100% [-----------------------------------------] Time:  0:00:00\n",
            "/content/bagging.py:172: FutureWarning: Unlike other reduction functions (e.g. `skew`, `kurtosis`), the default behavior of `mode` typically preserves the axis it acts along. In SciPy 1.11.0, this behavior will change: the default value of `keepdims` will become False, the `axis` over which the statistic is taken will be eliminated, and the value None will no longer be accepted. Set `keepdims` to True or False to avoid this warning.\n",
            "  return mode(y_preds, axis=1)[0]\n",
            "Model Training:   0% [                                         ] ETA:  --:--:--"
          ]
        },
        {
          "output_type": "stream",
          "name": "stdout",
          "text": [
            "CV accuracy is: 0.9970588235294118\n"
          ]
        },
        {
          "output_type": "stream",
          "name": "stderr",
          "text": [
            "\rModel Training: 100% [-----------------------------------------] Time:  0:00:00\n",
            "/content/bagging.py:172: FutureWarning: Unlike other reduction functions (e.g. `skew`, `kurtosis`), the default behavior of `mode` typically preserves the axis it acts along. In SciPy 1.11.0, this behavior will change: the default value of `keepdims` will become False, the `axis` over which the statistic is taken will be eliminated, and the value None will no longer be accepted. Set `keepdims` to True or False to avoid this warning.\n",
            "  return mode(y_preds, axis=1)[0]\n",
            "Model Training: 100% [-----------------------------------------] Time:  0:00:00\n",
            "/content/bagging.py:172: FutureWarning: Unlike other reduction functions (e.g. `skew`, `kurtosis`), the default behavior of `mode` typically preserves the axis it acts along. In SciPy 1.11.0, this behavior will change: the default value of `keepdims` will become False, the `axis` over which the statistic is taken will be eliminated, and the value None will no longer be accepted. Set `keepdims` to True or False to avoid this warning.\n",
            "  return mode(y_preds, axis=1)[0]\n",
            "Model Training: 100% [-----------------------------------------] Time:  0:00:00\n",
            "/content/bagging.py:172: FutureWarning: Unlike other reduction functions (e.g. `skew`, `kurtosis`), the default behavior of `mode` typically preserves the axis it acts along. In SciPy 1.11.0, this behavior will change: the default value of `keepdims` will become False, the `axis` over which the statistic is taken will be eliminated, and the value None will no longer be accepted. Set `keepdims` to True or False to avoid this warning.\n",
            "  return mode(y_preds, axis=1)[0]\n",
            "Model Training: 100% [-----------------------------------------] Time:  0:00:00\n",
            "/content/bagging.py:172: FutureWarning: Unlike other reduction functions (e.g. `skew`, `kurtosis`), the default behavior of `mode` typically preserves the axis it acts along. In SciPy 1.11.0, this behavior will change: the default value of `keepdims` will become False, the `axis` over which the statistic is taken will be eliminated, and the value None will no longer be accepted. Set `keepdims` to True or False to avoid this warning.\n",
            "  return mode(y_preds, axis=1)[0]\n",
            "Model Training: 100% [-----------------------------------------] Time:  0:00:00\n",
            "/content/bagging.py:172: FutureWarning: Unlike other reduction functions (e.g. `skew`, `kurtosis`), the default behavior of `mode` typically preserves the axis it acts along. In SciPy 1.11.0, this behavior will change: the default value of `keepdims` will become False, the `axis` over which the statistic is taken will be eliminated, and the value None will no longer be accepted. Set `keepdims` to True or False to avoid this warning.\n",
            "  return mode(y_preds, axis=1)[0]\n",
            "Model Training: 100% [-----------------------------------------] Time:  0:00:00\n",
            "/content/bagging.py:172: FutureWarning: Unlike other reduction functions (e.g. `skew`, `kurtosis`), the default behavior of `mode` typically preserves the axis it acts along. In SciPy 1.11.0, this behavior will change: the default value of `keepdims` will become False, the `axis` over which the statistic is taken will be eliminated, and the value None will no longer be accepted. Set `keepdims` to True or False to avoid this warning.\n",
            "  return mode(y_preds, axis=1)[0]\n",
            "Model Training: 100% [-----------------------------------------] Time:  0:00:00\n",
            "/content/bagging.py:172: FutureWarning: Unlike other reduction functions (e.g. `skew`, `kurtosis`), the default behavior of `mode` typically preserves the axis it acts along. In SciPy 1.11.0, this behavior will change: the default value of `keepdims` will become False, the `axis` over which the statistic is taken will be eliminated, and the value None will no longer be accepted. Set `keepdims` to True or False to avoid this warning.\n",
            "  return mode(y_preds, axis=1)[0]\n",
            "Model Training: 100% [-----------------------------------------] Time:  0:00:00\n",
            "/content/bagging.py:172: FutureWarning: Unlike other reduction functions (e.g. `skew`, `kurtosis`), the default behavior of `mode` typically preserves the axis it acts along. In SciPy 1.11.0, this behavior will change: the default value of `keepdims` will become False, the `axis` over which the statistic is taken will be eliminated, and the value None will no longer be accepted. Set `keepdims` to True or False to avoid this warning.\n",
            "  return mode(y_preds, axis=1)[0]\n",
            "Model Training: 100% [-----------------------------------------] Time:  0:00:00\n",
            "/content/bagging.py:172: FutureWarning: Unlike other reduction functions (e.g. `skew`, `kurtosis`), the default behavior of `mode` typically preserves the axis it acts along. In SciPy 1.11.0, this behavior will change: the default value of `keepdims` will become False, the `axis` over which the statistic is taken will be eliminated, and the value None will no longer be accepted. Set `keepdims` to True or False to avoid this warning.\n",
            "  return mode(y_preds, axis=1)[0]\n",
            "Model Training: 100% [-----------------------------------------] Time:  0:00:00\n",
            "/content/bagging.py:172: FutureWarning: Unlike other reduction functions (e.g. `skew`, `kurtosis`), the default behavior of `mode` typically preserves the axis it acts along. In SciPy 1.11.0, this behavior will change: the default value of `keepdims` will become False, the `axis` over which the statistic is taken will be eliminated, and the value None will no longer be accepted. Set `keepdims` to True or False to avoid this warning.\n",
            "  return mode(y_preds, axis=1)[0]\n",
            "Model Training:   0% [                                         ] ETA:  --:--:--"
          ]
        },
        {
          "output_type": "stream",
          "name": "stdout",
          "text": [
            "CV accuracy is: 0.9970588235294118\n"
          ]
        },
        {
          "output_type": "stream",
          "name": "stderr",
          "text": [
            "Model Training: 100% [-----------------------------------------] Time:  0:00:00\n",
            "/content/bagging.py:172: FutureWarning: Unlike other reduction functions (e.g. `skew`, `kurtosis`), the default behavior of `mode` typically preserves the axis it acts along. In SciPy 1.11.0, this behavior will change: the default value of `keepdims` will become False, the `axis` over which the statistic is taken will be eliminated, and the value None will no longer be accepted. Set `keepdims` to True or False to avoid this warning.\n",
            "  return mode(y_preds, axis=1)[0]\n",
            "Model Training: 100% [-----------------------------------------] Time:  0:00:00\n",
            "/content/bagging.py:172: FutureWarning: Unlike other reduction functions (e.g. `skew`, `kurtosis`), the default behavior of `mode` typically preserves the axis it acts along. In SciPy 1.11.0, this behavior will change: the default value of `keepdims` will become False, the `axis` over which the statistic is taken will be eliminated, and the value None will no longer be accepted. Set `keepdims` to True or False to avoid this warning.\n",
            "  return mode(y_preds, axis=1)[0]\n",
            "Model Training: 100% [-----------------------------------------] Time:  0:00:00\n",
            "/content/bagging.py:172: FutureWarning: Unlike other reduction functions (e.g. `skew`, `kurtosis`), the default behavior of `mode` typically preserves the axis it acts along. In SciPy 1.11.0, this behavior will change: the default value of `keepdims` will become False, the `axis` over which the statistic is taken will be eliminated, and the value None will no longer be accepted. Set `keepdims` to True or False to avoid this warning.\n",
            "  return mode(y_preds, axis=1)[0]\n",
            "Model Training: 100% [-----------------------------------------] Time:  0:00:00\n",
            "/content/bagging.py:172: FutureWarning: Unlike other reduction functions (e.g. `skew`, `kurtosis`), the default behavior of `mode` typically preserves the axis it acts along. In SciPy 1.11.0, this behavior will change: the default value of `keepdims` will become False, the `axis` over which the statistic is taken will be eliminated, and the value None will no longer be accepted. Set `keepdims` to True or False to avoid this warning.\n",
            "  return mode(y_preds, axis=1)[0]\n",
            "Model Training: 100% [-----------------------------------------] Time:  0:00:00\n",
            "/content/bagging.py:172: FutureWarning: Unlike other reduction functions (e.g. `skew`, `kurtosis`), the default behavior of `mode` typically preserves the axis it acts along. In SciPy 1.11.0, this behavior will change: the default value of `keepdims` will become False, the `axis` over which the statistic is taken will be eliminated, and the value None will no longer be accepted. Set `keepdims` to True or False to avoid this warning.\n",
            "  return mode(y_preds, axis=1)[0]\n",
            "Model Training: 100% [-----------------------------------------] Time:  0:00:00\n",
            "/content/bagging.py:172: FutureWarning: Unlike other reduction functions (e.g. `skew`, `kurtosis`), the default behavior of `mode` typically preserves the axis it acts along. In SciPy 1.11.0, this behavior will change: the default value of `keepdims` will become False, the `axis` over which the statistic is taken will be eliminated, and the value None will no longer be accepted. Set `keepdims` to True or False to avoid this warning.\n",
            "  return mode(y_preds, axis=1)[0]\n",
            "Model Training: 100% [-----------------------------------------] Time:  0:00:00\n",
            "/content/bagging.py:172: FutureWarning: Unlike other reduction functions (e.g. `skew`, `kurtosis`), the default behavior of `mode` typically preserves the axis it acts along. In SciPy 1.11.0, this behavior will change: the default value of `keepdims` will become False, the `axis` over which the statistic is taken will be eliminated, and the value None will no longer be accepted. Set `keepdims` to True or False to avoid this warning.\n",
            "  return mode(y_preds, axis=1)[0]\n",
            "Model Training: 100% [-----------------------------------------] Time:  0:00:00\n",
            "/content/bagging.py:172: FutureWarning: Unlike other reduction functions (e.g. `skew`, `kurtosis`), the default behavior of `mode` typically preserves the axis it acts along. In SciPy 1.11.0, this behavior will change: the default value of `keepdims` will become False, the `axis` over which the statistic is taken will be eliminated, and the value None will no longer be accepted. Set `keepdims` to True or False to avoid this warning.\n",
            "  return mode(y_preds, axis=1)[0]\n",
            "Model Training: 100% [-----------------------------------------] Time:  0:00:00\n",
            "/content/bagging.py:172: FutureWarning: Unlike other reduction functions (e.g. `skew`, `kurtosis`), the default behavior of `mode` typically preserves the axis it acts along. In SciPy 1.11.0, this behavior will change: the default value of `keepdims` will become False, the `axis` over which the statistic is taken will be eliminated, and the value None will no longer be accepted. Set `keepdims` to True or False to avoid this warning.\n",
            "  return mode(y_preds, axis=1)[0]\n",
            "Model Training: 100% [-----------------------------------------] Time:  0:00:00\n",
            "/content/bagging.py:172: FutureWarning: Unlike other reduction functions (e.g. `skew`, `kurtosis`), the default behavior of `mode` typically preserves the axis it acts along. In SciPy 1.11.0, this behavior will change: the default value of `keepdims` will become False, the `axis` over which the statistic is taken will be eliminated, and the value None will no longer be accepted. Set `keepdims` to True or False to avoid this warning.\n",
            "  return mode(y_preds, axis=1)[0]\n",
            "Model Training: 100% [-----------------------------------------] Time:  0:00:00\n",
            "/content/bagging.py:172: FutureWarning: Unlike other reduction functions (e.g. `skew`, `kurtosis`), the default behavior of `mode` typically preserves the axis it acts along. In SciPy 1.11.0, this behavior will change: the default value of `keepdims` will become False, the `axis` over which the statistic is taken will be eliminated, and the value None will no longer be accepted. Set `keepdims` to True or False to avoid this warning.\n",
            "  return mode(y_preds, axis=1)[0]\n",
            "Model Training:   0% [                                         ] ETA:  --:--:--"
          ]
        },
        {
          "output_type": "stream",
          "name": "stdout",
          "text": [
            "CV accuracy is: 0.9970588235294118\n"
          ]
        },
        {
          "output_type": "stream",
          "name": "stderr",
          "text": [
            "\rModel Training: 100% [-----------------------------------------] Time:  0:00:00\n",
            "/content/bagging.py:172: FutureWarning: Unlike other reduction functions (e.g. `skew`, `kurtosis`), the default behavior of `mode` typically preserves the axis it acts along. In SciPy 1.11.0, this behavior will change: the default value of `keepdims` will become False, the `axis` over which the statistic is taken will be eliminated, and the value None will no longer be accepted. Set `keepdims` to True or False to avoid this warning.\n",
            "  return mode(y_preds, axis=1)[0]\n",
            "Model Training: 100% [-----------------------------------------] Time:  0:00:00\n",
            "/content/bagging.py:172: FutureWarning: Unlike other reduction functions (e.g. `skew`, `kurtosis`), the default behavior of `mode` typically preserves the axis it acts along. In SciPy 1.11.0, this behavior will change: the default value of `keepdims` will become False, the `axis` over which the statistic is taken will be eliminated, and the value None will no longer be accepted. Set `keepdims` to True or False to avoid this warning.\n",
            "  return mode(y_preds, axis=1)[0]\n",
            "Model Training: 100% [-----------------------------------------] Time:  0:00:00\n",
            "/content/bagging.py:172: FutureWarning: Unlike other reduction functions (e.g. `skew`, `kurtosis`), the default behavior of `mode` typically preserves the axis it acts along. In SciPy 1.11.0, this behavior will change: the default value of `keepdims` will become False, the `axis` over which the statistic is taken will be eliminated, and the value None will no longer be accepted. Set `keepdims` to True or False to avoid this warning.\n",
            "  return mode(y_preds, axis=1)[0]\n",
            "Model Training: 100% [-----------------------------------------] Time:  0:00:00\n",
            "/content/bagging.py:172: FutureWarning: Unlike other reduction functions (e.g. `skew`, `kurtosis`), the default behavior of `mode` typically preserves the axis it acts along. In SciPy 1.11.0, this behavior will change: the default value of `keepdims` will become False, the `axis` over which the statistic is taken will be eliminated, and the value None will no longer be accepted. Set `keepdims` to True or False to avoid this warning.\n",
            "  return mode(y_preds, axis=1)[0]\n",
            "Model Training: 100% [-----------------------------------------] Time:  0:00:00\n",
            "/content/bagging.py:172: FutureWarning: Unlike other reduction functions (e.g. `skew`, `kurtosis`), the default behavior of `mode` typically preserves the axis it acts along. In SciPy 1.11.0, this behavior will change: the default value of `keepdims` will become False, the `axis` over which the statistic is taken will be eliminated, and the value None will no longer be accepted. Set `keepdims` to True or False to avoid this warning.\n",
            "  return mode(y_preds, axis=1)[0]\n",
            "Model Training: 100% [-----------------------------------------] Time:  0:00:00\n",
            "/content/bagging.py:172: FutureWarning: Unlike other reduction functions (e.g. `skew`, `kurtosis`), the default behavior of `mode` typically preserves the axis it acts along. In SciPy 1.11.0, this behavior will change: the default value of `keepdims` will become False, the `axis` over which the statistic is taken will be eliminated, and the value None will no longer be accepted. Set `keepdims` to True or False to avoid this warning.\n",
            "  return mode(y_preds, axis=1)[0]\n",
            "Model Training: 100% [-----------------------------------------] Time:  0:00:00\n",
            "/content/bagging.py:172: FutureWarning: Unlike other reduction functions (e.g. `skew`, `kurtosis`), the default behavior of `mode` typically preserves the axis it acts along. In SciPy 1.11.0, this behavior will change: the default value of `keepdims` will become False, the `axis` over which the statistic is taken will be eliminated, and the value None will no longer be accepted. Set `keepdims` to True or False to avoid this warning.\n",
            "  return mode(y_preds, axis=1)[0]\n",
            "Model Training: 100% [-----------------------------------------] Time:  0:00:00\n",
            "/content/bagging.py:172: FutureWarning: Unlike other reduction functions (e.g. `skew`, `kurtosis`), the default behavior of `mode` typically preserves the axis it acts along. In SciPy 1.11.0, this behavior will change: the default value of `keepdims` will become False, the `axis` over which the statistic is taken will be eliminated, and the value None will no longer be accepted. Set `keepdims` to True or False to avoid this warning.\n",
            "  return mode(y_preds, axis=1)[0]\n",
            "Model Training: 100% [-----------------------------------------] Time:  0:00:00\n",
            "/content/bagging.py:172: FutureWarning: Unlike other reduction functions (e.g. `skew`, `kurtosis`), the default behavior of `mode` typically preserves the axis it acts along. In SciPy 1.11.0, this behavior will change: the default value of `keepdims` will become False, the `axis` over which the statistic is taken will be eliminated, and the value None will no longer be accepted. Set `keepdims` to True or False to avoid this warning.\n",
            "  return mode(y_preds, axis=1)[0]\n",
            "Model Training: 100% [-----------------------------------------] Time:  0:00:00"
          ]
        },
        {
          "output_type": "stream",
          "name": "stdout",
          "text": [
            "CV accuracy is: 0.9970588235294118\n"
          ]
        },
        {
          "output_type": "stream",
          "name": "stderr",
          "text": [
            "\n",
            "/content/bagging.py:172: FutureWarning: Unlike other reduction functions (e.g. `skew`, `kurtosis`), the default behavior of `mode` typically preserves the axis it acts along. In SciPy 1.11.0, this behavior will change: the default value of `keepdims` will become False, the `axis` over which the statistic is taken will be eliminated, and the value None will no longer be accepted. Set `keepdims` to True or False to avoid this warning.\n",
            "  return mode(y_preds, axis=1)[0]\n",
            "Model Training: 100% [-----------------------------------------] Time:  0:00:00\n",
            "/content/bagging.py:172: FutureWarning: Unlike other reduction functions (e.g. `skew`, `kurtosis`), the default behavior of `mode` typically preserves the axis it acts along. In SciPy 1.11.0, this behavior will change: the default value of `keepdims` will become False, the `axis` over which the statistic is taken will be eliminated, and the value None will no longer be accepted. Set `keepdims` to True or False to avoid this warning.\n",
            "  return mode(y_preds, axis=1)[0]\n",
            "Model Training: 100% [-----------------------------------------] Time:  0:00:00\n",
            "/content/bagging.py:172: FutureWarning: Unlike other reduction functions (e.g. `skew`, `kurtosis`), the default behavior of `mode` typically preserves the axis it acts along. In SciPy 1.11.0, this behavior will change: the default value of `keepdims` will become False, the `axis` over which the statistic is taken will be eliminated, and the value None will no longer be accepted. Set `keepdims` to True or False to avoid this warning.\n",
            "  return mode(y_preds, axis=1)[0]\n",
            "Model Training: 100% [-----------------------------------------] Time:  0:00:00\n",
            "/content/bagging.py:172: FutureWarning: Unlike other reduction functions (e.g. `skew`, `kurtosis`), the default behavior of `mode` typically preserves the axis it acts along. In SciPy 1.11.0, this behavior will change: the default value of `keepdims` will become False, the `axis` over which the statistic is taken will be eliminated, and the value None will no longer be accepted. Set `keepdims` to True or False to avoid this warning.\n",
            "  return mode(y_preds, axis=1)[0]\n",
            "Model Training: 100% [-----------------------------------------] Time:  0:00:00\n",
            "/content/bagging.py:172: FutureWarning: Unlike other reduction functions (e.g. `skew`, `kurtosis`), the default behavior of `mode` typically preserves the axis it acts along. In SciPy 1.11.0, this behavior will change: the default value of `keepdims` will become False, the `axis` over which the statistic is taken will be eliminated, and the value None will no longer be accepted. Set `keepdims` to True or False to avoid this warning.\n",
            "  return mode(y_preds, axis=1)[0]\n",
            "Model Training: 100% [-----------------------------------------] Time:  0:00:00\n",
            "/content/bagging.py:172: FutureWarning: Unlike other reduction functions (e.g. `skew`, `kurtosis`), the default behavior of `mode` typically preserves the axis it acts along. In SciPy 1.11.0, this behavior will change: the default value of `keepdims` will become False, the `axis` over which the statistic is taken will be eliminated, and the value None will no longer be accepted. Set `keepdims` to True or False to avoid this warning.\n",
            "  return mode(y_preds, axis=1)[0]\n",
            "Model Training: 100% [-----------------------------------------] Time:  0:00:00\n",
            "/content/bagging.py:172: FutureWarning: Unlike other reduction functions (e.g. `skew`, `kurtosis`), the default behavior of `mode` typically preserves the axis it acts along. In SciPy 1.11.0, this behavior will change: the default value of `keepdims` will become False, the `axis` over which the statistic is taken will be eliminated, and the value None will no longer be accepted. Set `keepdims` to True or False to avoid this warning.\n",
            "  return mode(y_preds, axis=1)[0]\n",
            "Model Training: 100% [-----------------------------------------] Time:  0:00:00\n",
            "/content/bagging.py:172: FutureWarning: Unlike other reduction functions (e.g. `skew`, `kurtosis`), the default behavior of `mode` typically preserves the axis it acts along. In SciPy 1.11.0, this behavior will change: the default value of `keepdims` will become False, the `axis` over which the statistic is taken will be eliminated, and the value None will no longer be accepted. Set `keepdims` to True or False to avoid this warning.\n",
            "  return mode(y_preds, axis=1)[0]\n",
            "Model Training: 100% [-----------------------------------------] Time:  0:00:00\n",
            "/content/bagging.py:172: FutureWarning: Unlike other reduction functions (e.g. `skew`, `kurtosis`), the default behavior of `mode` typically preserves the axis it acts along. In SciPy 1.11.0, this behavior will change: the default value of `keepdims` will become False, the `axis` over which the statistic is taken will be eliminated, and the value None will no longer be accepted. Set `keepdims` to True or False to avoid this warning.\n",
            "  return mode(y_preds, axis=1)[0]\n",
            "Model Training: 100% [-----------------------------------------] Time:  0:00:00\n"
          ]
        },
        {
          "output_type": "stream",
          "name": "stdout",
          "text": [
            "CV accuracy is: 0.9970588235294118\n"
          ]
        },
        {
          "output_type": "stream",
          "name": "stderr",
          "text": [
            "/content/bagging.py:172: FutureWarning: Unlike other reduction functions (e.g. `skew`, `kurtosis`), the default behavior of `mode` typically preserves the axis it acts along. In SciPy 1.11.0, this behavior will change: the default value of `keepdims` will become False, the `axis` over which the statistic is taken will be eliminated, and the value None will no longer be accepted. Set `keepdims` to True or False to avoid this warning.\n",
            "  return mode(y_preds, axis=1)[0]\n",
            "Model Training: 100% [-----------------------------------------] Time:  0:00:00\n",
            "/content/bagging.py:172: FutureWarning: Unlike other reduction functions (e.g. `skew`, `kurtosis`), the default behavior of `mode` typically preserves the axis it acts along. In SciPy 1.11.0, this behavior will change: the default value of `keepdims` will become False, the `axis` over which the statistic is taken will be eliminated, and the value None will no longer be accepted. Set `keepdims` to True or False to avoid this warning.\n",
            "  return mode(y_preds, axis=1)[0]\n",
            "Model Training: 100% [-----------------------------------------] Time:  0:00:00\n",
            "/content/bagging.py:172: FutureWarning: Unlike other reduction functions (e.g. `skew`, `kurtosis`), the default behavior of `mode` typically preserves the axis it acts along. In SciPy 1.11.0, this behavior will change: the default value of `keepdims` will become False, the `axis` over which the statistic is taken will be eliminated, and the value None will no longer be accepted. Set `keepdims` to True or False to avoid this warning.\n",
            "  return mode(y_preds, axis=1)[0]\n",
            "Model Training: 100% [-----------------------------------------] Time:  0:00:00\n",
            "/content/bagging.py:172: FutureWarning: Unlike other reduction functions (e.g. `skew`, `kurtosis`), the default behavior of `mode` typically preserves the axis it acts along. In SciPy 1.11.0, this behavior will change: the default value of `keepdims` will become False, the `axis` over which the statistic is taken will be eliminated, and the value None will no longer be accepted. Set `keepdims` to True or False to avoid this warning.\n",
            "  return mode(y_preds, axis=1)[0]\n",
            "Model Training: 100% [-----------------------------------------] Time:  0:00:00\n",
            "/content/bagging.py:172: FutureWarning: Unlike other reduction functions (e.g. `skew`, `kurtosis`), the default behavior of `mode` typically preserves the axis it acts along. In SciPy 1.11.0, this behavior will change: the default value of `keepdims` will become False, the `axis` over which the statistic is taken will be eliminated, and the value None will no longer be accepted. Set `keepdims` to True or False to avoid this warning.\n",
            "  return mode(y_preds, axis=1)[0]\n",
            "Model Training: 100% [-----------------------------------------] Time:  0:00:00\n",
            "/content/bagging.py:172: FutureWarning: Unlike other reduction functions (e.g. `skew`, `kurtosis`), the default behavior of `mode` typically preserves the axis it acts along. In SciPy 1.11.0, this behavior will change: the default value of `keepdims` will become False, the `axis` over which the statistic is taken will be eliminated, and the value None will no longer be accepted. Set `keepdims` to True or False to avoid this warning.\n",
            "  return mode(y_preds, axis=1)[0]\n",
            "Model Training: 100% [-----------------------------------------] Time:  0:00:00\n",
            "/content/bagging.py:172: FutureWarning: Unlike other reduction functions (e.g. `skew`, `kurtosis`), the default behavior of `mode` typically preserves the axis it acts along. In SciPy 1.11.0, this behavior will change: the default value of `keepdims` will become False, the `axis` over which the statistic is taken will be eliminated, and the value None will no longer be accepted. Set `keepdims` to True or False to avoid this warning.\n",
            "  return mode(y_preds, axis=1)[0]\n",
            "Model Training: 100% [-----------------------------------------] Time:  0:00:00\n",
            "/content/bagging.py:172: FutureWarning: Unlike other reduction functions (e.g. `skew`, `kurtosis`), the default behavior of `mode` typically preserves the axis it acts along. In SciPy 1.11.0, this behavior will change: the default value of `keepdims` will become False, the `axis` over which the statistic is taken will be eliminated, and the value None will no longer be accepted. Set `keepdims` to True or False to avoid this warning.\n",
            "  return mode(y_preds, axis=1)[0]\n",
            "Model Training: 100% [-----------------------------------------] Time:  0:00:00\n",
            "/content/bagging.py:172: FutureWarning: Unlike other reduction functions (e.g. `skew`, `kurtosis`), the default behavior of `mode` typically preserves the axis it acts along. In SciPy 1.11.0, this behavior will change: the default value of `keepdims` will become False, the `axis` over which the statistic is taken will be eliminated, and the value None will no longer be accepted. Set `keepdims` to True or False to avoid this warning.\n",
            "  return mode(y_preds, axis=1)[0]\n",
            "Model Training: 100% [-----------------------------------------] Time:  0:00:00\n",
            "/content/bagging.py:172: FutureWarning: Unlike other reduction functions (e.g. `skew`, `kurtosis`), the default behavior of `mode` typically preserves the axis it acts along. In SciPy 1.11.0, this behavior will change: the default value of `keepdims` will become False, the `axis` over which the statistic is taken will be eliminated, and the value None will no longer be accepted. Set `keepdims` to True or False to avoid this warning.\n",
            "  return mode(y_preds, axis=1)[0]\n",
            "Model Training: 100% [-----------------------------------------] Time:  0:00:00\n",
            "/content/bagging.py:172: FutureWarning: Unlike other reduction functions (e.g. `skew`, `kurtosis`), the default behavior of `mode` typically preserves the axis it acts along. In SciPy 1.11.0, this behavior will change: the default value of `keepdims` will become False, the `axis` over which the statistic is taken will be eliminated, and the value None will no longer be accepted. Set `keepdims` to True or False to avoid this warning.\n",
            "  return mode(y_preds, axis=1)[0]\n",
            "Model Training:   0% [                                         ] ETA:  --:--:--"
          ]
        },
        {
          "output_type": "stream",
          "name": "stdout",
          "text": [
            "CV accuracy is: 0.9970588235294118\n"
          ]
        },
        {
          "output_type": "stream",
          "name": "stderr",
          "text": [
            "\rModel Training: 100% [-----------------------------------------] Time:  0:00:00\n",
            "/content/bagging.py:172: FutureWarning: Unlike other reduction functions (e.g. `skew`, `kurtosis`), the default behavior of `mode` typically preserves the axis it acts along. In SciPy 1.11.0, this behavior will change: the default value of `keepdims` will become False, the `axis` over which the statistic is taken will be eliminated, and the value None will no longer be accepted. Set `keepdims` to True or False to avoid this warning.\n",
            "  return mode(y_preds, axis=1)[0]\n",
            "Model Training: 100% [-----------------------------------------] Time:  0:00:00\n",
            "/content/bagging.py:172: FutureWarning: Unlike other reduction functions (e.g. `skew`, `kurtosis`), the default behavior of `mode` typically preserves the axis it acts along. In SciPy 1.11.0, this behavior will change: the default value of `keepdims` will become False, the `axis` over which the statistic is taken will be eliminated, and the value None will no longer be accepted. Set `keepdims` to True or False to avoid this warning.\n",
            "  return mode(y_preds, axis=1)[0]\n",
            "Model Training: 100% [-----------------------------------------] Time:  0:00:00\n",
            "/content/bagging.py:172: FutureWarning: Unlike other reduction functions (e.g. `skew`, `kurtosis`), the default behavior of `mode` typically preserves the axis it acts along. In SciPy 1.11.0, this behavior will change: the default value of `keepdims` will become False, the `axis` over which the statistic is taken will be eliminated, and the value None will no longer be accepted. Set `keepdims` to True or False to avoid this warning.\n",
            "  return mode(y_preds, axis=1)[0]\n",
            "Model Training: 100% [-----------------------------------------] Time:  0:00:00\n",
            "/content/bagging.py:172: FutureWarning: Unlike other reduction functions (e.g. `skew`, `kurtosis`), the default behavior of `mode` typically preserves the axis it acts along. In SciPy 1.11.0, this behavior will change: the default value of `keepdims` will become False, the `axis` over which the statistic is taken will be eliminated, and the value None will no longer be accepted. Set `keepdims` to True or False to avoid this warning.\n",
            "  return mode(y_preds, axis=1)[0]\n"
          ]
        },
        {
          "output_type": "stream",
          "name": "stdout",
          "text": [
            "CV accuracy is: 0.9970588235294118\n",
            "Best M: 1\n"
          ]
        }
      ],
      "source": [
        "scores = []\n",
        "ks = np.arange(1, 21, 2)\n",
        "\n",
        "for k in ks:\n",
        "  model = RandomForest(10)\n",
        "  cv_acc = do_cross_validation(model, X_train, y_train, k=10, random_state=0)\n",
        "  print('CV accuracy is:', cv_acc)\n",
        "  scores.append(cv_acc)\n",
        "\n",
        "print(f\"Best M: {ks[np.argmax(scores)]}\")"
      ]
    },
    {
      "cell_type": "code",
      "source": [
        "plt.plot(ks, scores)"
      ],
      "metadata": {
        "colab": {
          "base_uri": "https://localhost:8080/",
          "height": 550
        },
        "id": "0CvLIwVcDB7D",
        "outputId": "92ddac72-c7c0-4344-c094-924bdc129a57"
      },
      "execution_count": 35,
      "outputs": [
        {
          "output_type": "execute_result",
          "data": {
            "text/plain": [
              "[<matplotlib.lines.Line2D at 0x7c7459f3b910>]"
            ]
          },
          "metadata": {},
          "execution_count": 35
        },
        {
          "output_type": "display_data",
          "data": {
            "text/plain": [
              "<Figure size 1200x800 with 1 Axes>"
            ],
            "image/png": "[encoded data removed]"
          },
          "metadata": {}
        }
      ]
    },
    {
      "cell_type": "markdown",
      "metadata": {
        "id": "L0RuwHRCh09e"
      },
      "source": [
        "**Question** Based on your experiments, what is the best value for the number of models in the ensemble?"
      ]
    },
    {
      "cell_type": "markdown",
      "metadata": {
        "id": "-jQ9RXjAh09f"
      },
      "source": [
        "**Answer**"
      ]
    },
    {
      "cell_type": "markdown",
      "metadata": {
        "id": "anAqSZsUh09f"
      },
      "source": [
        "Use the best value of the number of models and train the final model on the whole train dataset and test the model on the train and test sets."
      ]
    },
    {
      "cell_type": "code",
      "execution_count": 36,
      "metadata": {
        "id": "gZeraQNDhJ19",
        "colab": {
          "base_uri": "https://localhost:8080/"
        },
        "outputId": "6782cead-f1d9-442c-8a53-08ced6eb92b8"
      },
      "outputs": [
        {
          "output_type": "stream",
          "name": "stderr",
          "text": [
            "Model Training: 100% [-----------------------------------------] Time:  0:00:00\n"
          ]
        },
        {
          "output_type": "stream",
          "name": "stdout",
          "text": [
            "Bagging train accuracy: 0.9529411764705882\n",
            "Bagging test accuracy: 0.85\n"
          ]
        },
        {
          "output_type": "stream",
          "name": "stderr",
          "text": [
            "/content/bagging.py:172: FutureWarning: Unlike other reduction functions (e.g. `skew`, `kurtosis`), the default behavior of `mode` typically preserves the axis it acts along. In SciPy 1.11.0, this behavior will change: the default value of `keepdims` will become False, the `axis` over which the statistic is taken will be eliminated, and the value None will no longer be accepted. Set `keepdims` to True or False to avoid this warning.\n",
            "  return mode(y_preds, axis=1)[0]\n",
            "/content/bagging.py:172: FutureWarning: Unlike other reduction functions (e.g. `skew`, `kurtosis`), the default behavior of `mode` typically preserves the axis it acts along. In SciPy 1.11.0, this behavior will change: the default value of `keepdims` will become False, the `axis` over which the statistic is taken will be eliminated, and the value None will no longer be accepted. Set `keepdims` to True or False to avoid this warning.\n",
            "  return mode(y_preds, axis=1)[0]\n"
          ]
        }
      ],
      "source": [
        "model2 = RandomForest(1)\n",
        "model2.fit(X_train, y_train)\n",
        "preds_rf1 = model2.predict(X_train)\n",
        "preds_rf2 = model2.predict(X_test)\n",
        "print('Bagging train accuracy:', accuracy_score(y_train, preds_rf1))\n",
        "print('Bagging test accuracy:', accuracy_score(y_test, preds_rf2))"
      ]
    },
    {
      "cell_type": "markdown",
      "metadata": {
        "id": "lxfw8Tkzh5-G"
      },
      "source": [
        "**Question:** What results did you get? How well did the algorithm learn?"
      ]
    },
    {
      "cell_type": "markdown",
      "metadata": {
        "id": "be12WF60h5-H"
      },
      "source": [
        "**Answer:**"
      ]
    },
    {
      "cell_type": "markdown",
      "metadata": {
        "id": "uoMhwmf2b-8m"
      },
      "source": [
        "# Out-of-bag Score"
      ]
    },
    {
      "cell_type": "markdown",
      "metadata": {
        "id": "BgcTeSCKu3t8"
      },
      "source": [
        "Now choose the best number of models in the ensemble based on the OOB score, for both of the algorithms."
      ]
    },
    {
      "cell_type": "code",
      "execution_count": 53,
      "metadata": {
        "id": "FKjHV7LIcB2h",
        "colab": {
          "base_uri": "https://localhost:8080/",
          "height": 393
        },
        "outputId": "85407649-487e-483b-e460-975382ecaf9f"
      },
      "outputs": [
        {
          "output_type": "stream",
          "name": "stderr",
          "text": [
            "Model Training: 100% [-----------------------------------------] Time:  0:00:00\n",
            "/content/bagging.py:74: VisibleDeprecationWarning: Creating an ndarray from ragged nested sequences (which is a list-or-tuple of lists-or-tuples-or ndarrays with different lengths or shapes) is deprecated. If you meant to do this, you must specify 'dtype=object' when creating the ndarray.\n",
            "  print(x_idx in np.array(self.models[i].idx).flatten() )\n"
          ]
        },
        {
          "output_type": "error",
          "ename": "ValueError",
          "evalue": "ignored",
          "traceback": [
            "\u001b[0;31m---------------------------------------------------------------------------\u001b[0m",
            "\u001b[0;31mValueError\u001b[0m                                Traceback (most recent call last)",
            "\u001b[0;32m<ipython-input-53-bcfd35de5860>\u001b[0m in \u001b[0;36m<cell line: 2>\u001b[0;34m()\u001b[0m\n\u001b[1;32m      1\u001b[0m \u001b[0mmodel\u001b[0m \u001b[0;34m=\u001b[0m \u001b[0mBagging\u001b[0m\u001b[0;34m(\u001b[0m\u001b[0mbase_estimator\u001b[0m\u001b[0;34m=\u001b[0m\u001b[0mDecisionTreeClassifier\u001b[0m\u001b[0;34m,\u001b[0m \u001b[0mnr_estimators\u001b[0m\u001b[0;34m=\u001b[0m\u001b[0;36m3\u001b[0m\u001b[0;34m,\u001b[0m \u001b[0moob_score\u001b[0m\u001b[0;34m=\u001b[0m\u001b[0;32mTrue\u001b[0m\u001b[0;34m)\u001b[0m\u001b[0;34m\u001b[0m\u001b[0;34m\u001b[0m\u001b[0m\n\u001b[0;32m----> 2\u001b[0;31m \u001b[0mmodel\u001b[0m\u001b[0;34m.\u001b[0m\u001b[0mfit\u001b[0m\u001b[0;34m(\u001b[0m\u001b[0mX_train\u001b[0m\u001b[0;34m,\u001b[0m \u001b[0my_train\u001b[0m\u001b[0;34m)\u001b[0m\u001b[0;34m\u001b[0m\u001b[0;34m\u001b[0m\u001b[0m\n\u001b[0m\u001b[1;32m      3\u001b[0m \u001b[0mprint\u001b[0m\u001b[0;34m(\u001b[0m\u001b[0mmodel\u001b[0m\u001b[0;34m.\u001b[0m\u001b[0moob_score\u001b[0m\u001b[0;34m)\u001b[0m\u001b[0;34m\u001b[0m\u001b[0;34m\u001b[0m\u001b[0m\n",
            "\u001b[0;32m/content/bagging.py\u001b[0m in \u001b[0;36mfit\u001b[0;34m(self, X, y)\u001b[0m\n\u001b[1;32m     72\u001b[0m         \u001b[0mcounter\u001b[0m  \u001b[0;34m=\u001b[0m \u001b[0;36m0\u001b[0m\u001b[0;34m\u001b[0m\u001b[0;34m\u001b[0m\u001b[0m\n\u001b[1;32m     73\u001b[0m         \u001b[0;32mfor\u001b[0m \u001b[0mi\u001b[0m \u001b[0;32min\u001b[0m \u001b[0mrange\u001b[0m\u001b[0;34m(\u001b[0m\u001b[0mself\u001b[0m\u001b[0;34m.\u001b[0m\u001b[0mnr_estimators\u001b[0m\u001b[0;34m)\u001b[0m\u001b[0;34m:\u001b[0m\u001b[0;34m\u001b[0m\u001b[0;34m\u001b[0m\u001b[0m\n\u001b[0;32m---> 74\u001b[0;31m           \u001b[0mprint\u001b[0m\u001b[0;34m(\u001b[0m\u001b[0mx_idx\u001b[0m \u001b[0;32min\u001b[0m \u001b[0mnp\u001b[0m\u001b[0;34m.\u001b[0m\u001b[0marray\u001b[0m\u001b[0;34m(\u001b[0m\u001b[0mself\u001b[0m\u001b[0;34m.\u001b[0m\u001b[0mmodels\u001b[0m\u001b[0;34m[\u001b[0m\u001b[0mi\u001b[0m\u001b[0;34m]\u001b[0m\u001b[0;34m.\u001b[0m\u001b[0midx\u001b[0m\u001b[0;34m)\u001b[0m\u001b[0;34m.\u001b[0m\u001b[0mreshape\u001b[0m\u001b[0;34m(\u001b[0m\u001b[0;34m-\u001b[0m\u001b[0;36m1\u001b[0m\u001b[0;34m)\u001b[0m \u001b[0;34m)\u001b[0m\u001b[0;34m\u001b[0m\u001b[0;34m\u001b[0m\u001b[0m\n\u001b[0m\u001b[1;32m     75\u001b[0m           \u001b[0mprint\u001b[0m\u001b[0;34m(\u001b[0m\u001b[0mself\u001b[0m\u001b[0;34m.\u001b[0m\u001b[0mmodels\u001b[0m\u001b[0;34m[\u001b[0m\u001b[0mi\u001b[0m\u001b[0;34m]\u001b[0m\u001b[0;34m.\u001b[0m\u001b[0midx\u001b[0m\u001b[0;34m)\u001b[0m\u001b[0;34m\u001b[0m\u001b[0;34m\u001b[0m\u001b[0m\n\u001b[1;32m     76\u001b[0m           \u001b[0;32mif\u001b[0m \u001b[0mx_idx\u001b[0m \u001b[0;32mnot\u001b[0m \u001b[0;32min\u001b[0m \u001b[0mself\u001b[0m\u001b[0;34m.\u001b[0m\u001b[0mmodels\u001b[0m\u001b[0;34m[\u001b[0m\u001b[0mi\u001b[0m\u001b[0;34m]\u001b[0m\u001b[0;34m.\u001b[0m\u001b[0midx\u001b[0m\u001b[0;34m:\u001b[0m\u001b[0;34m\u001b[0m\u001b[0;34m\u001b[0m\u001b[0m\n",
            "\u001b[0;31mValueError\u001b[0m: could not broadcast input array from shape (340,64) into shape (340,)"
          ]
        }
      ],
      "source": [
        "model = Bagging(base_estimator=DecisionTreeClassifier, nr_estimators=3, oob_score=True)\n",
        "model.fit(X_train, y_train)\n",
        "print(model.oob_score)"
      ]
    },
    {
      "cell_type": "code",
      "execution_count": 22,
      "metadata": {
        "id": "A4SxTGJtdSrZ",
        "colab": {
          "base_uri": "https://localhost:8080/",
          "height": 339
        },
        "outputId": "922b150c-2e21-4877-e89e-e60bc6c48fe6"
      },
      "outputs": [
        {
          "output_type": "stream",
          "name": "stderr",
          "text": [
            "Model Training: 100% [-----------------------------------------] Time:  0:00:00\n"
          ]
        },
        {
          "output_type": "error",
          "ename": "AttributeError",
          "evalue": "ignored",
          "traceback": [
            "\u001b[0;31m---------------------------------------------------------------------------\u001b[0m",
            "\u001b[0;31mAttributeError\u001b[0m                            Traceback (most recent call last)",
            "\u001b[0;32m<ipython-input-22-2b4aa950c2d9>\u001b[0m in \u001b[0;36m<cell line: 2>\u001b[0;34m()\u001b[0m\n\u001b[1;32m      1\u001b[0m \u001b[0mmodel\u001b[0m \u001b[0;34m=\u001b[0m \u001b[0mRandomForest\u001b[0m\u001b[0;34m(\u001b[0m\u001b[0;36m1\u001b[0m\u001b[0;34m,\u001b[0m \u001b[0moob_score\u001b[0m\u001b[0;34m=\u001b[0m\u001b[0;32mTrue\u001b[0m\u001b[0;34m)\u001b[0m\u001b[0;34m\u001b[0m\u001b[0;34m\u001b[0m\u001b[0m\n\u001b[0;32m----> 2\u001b[0;31m \u001b[0mmodel\u001b[0m\u001b[0;34m.\u001b[0m\u001b[0mfit\u001b[0m\u001b[0;34m(\u001b[0m\u001b[0mX_train\u001b[0m\u001b[0;34m,\u001b[0m \u001b[0my_train\u001b[0m\u001b[0;34m)\u001b[0m\u001b[0;34m\u001b[0m\u001b[0;34m\u001b[0m\u001b[0m\n\u001b[0m\u001b[1;32m      3\u001b[0m \u001b[0mprint\u001b[0m\u001b[0;34m(\u001b[0m\u001b[0mmodel\u001b[0m\u001b[0;34m.\u001b[0m\u001b[0moob_score\u001b[0m\u001b[0;34m)\u001b[0m\u001b[0;34m\u001b[0m\u001b[0;34m\u001b[0m\u001b[0m\n",
            "\u001b[0;32m/content/bagging.py\u001b[0m in \u001b[0;36mfit\u001b[0;34m(self, X, y)\u001b[0m\n\u001b[1;32m    146\u001b[0m         \u001b[0mcounter\u001b[0m  \u001b[0;34m=\u001b[0m \u001b[0;36m0\u001b[0m\u001b[0;34m\u001b[0m\u001b[0;34m\u001b[0m\u001b[0m\n\u001b[1;32m    147\u001b[0m         \u001b[0;32mfor\u001b[0m \u001b[0mi\u001b[0m \u001b[0;32min\u001b[0m \u001b[0mrange\u001b[0m\u001b[0;34m(\u001b[0m\u001b[0mself\u001b[0m\u001b[0;34m.\u001b[0m\u001b[0mnr_estimators\u001b[0m\u001b[0;34m)\u001b[0m\u001b[0;34m:\u001b[0m\u001b[0;34m\u001b[0m\u001b[0;34m\u001b[0m\u001b[0m\n\u001b[0;32m--> 148\u001b[0;31m           \u001b[0;32mif\u001b[0m \u001b[0mx_idx\u001b[0m \u001b[0;32mnot\u001b[0m \u001b[0;32min\u001b[0m \u001b[0mself\u001b[0m\u001b[0;34m.\u001b[0m\u001b[0mtrees\u001b[0m\u001b[0;34m[\u001b[0m\u001b[0mi\u001b[0m\u001b[0;34m]\u001b[0m\u001b[0;34m.\u001b[0m\u001b[0midx\u001b[0m\u001b[0;34m:\u001b[0m\u001b[0;34m\u001b[0m\u001b[0;34m\u001b[0m\u001b[0m\n\u001b[0m\u001b[1;32m    149\u001b[0m             \u001b[0mcounter\u001b[0m \u001b[0;34m+=\u001b[0m \u001b[0;36m1\u001b[0m\u001b[0;34m\u001b[0m\u001b[0;34m\u001b[0m\u001b[0m\n\u001b[1;32m    150\u001b[0m             \u001b[0msample\u001b[0m \u001b[0;34m=\u001b[0m \u001b[0mX\u001b[0m\u001b[0;34m[\u001b[0m\u001b[0mx_idx\u001b[0m\u001b[0;34m]\u001b[0m\u001b[0;34m.\u001b[0m\u001b[0mreshape\u001b[0m\u001b[0;34m(\u001b[0m\u001b[0;34m-\u001b[0m\u001b[0;36m1\u001b[0m\u001b[0;34m,\u001b[0m \u001b[0;36m1\u001b[0m\u001b[0;34m)\u001b[0m\u001b[0;34m\u001b[0m\u001b[0;34m\u001b[0m\u001b[0m\n",
            "\u001b[0;31mAttributeError\u001b[0m: 'DecisionTreeClassifier' object has no attribute 'idx'"
          ]
        }
      ],
      "source": [
        "model = RandomForest(1, oob_score=True)\n",
        "model.fit(X_train, y_train)\n",
        "print(model.oob_score)"
      ]
    },
    {
      "cell_type": "markdown",
      "metadata": {
        "id": "sPBD4d0ivKJZ"
      },
      "source": [
        "**Question:** Are the numbers (of the models) the same as with the cross-validation (CV) method? Is the overall trend of the both scores (OOB vs CV) the same when changing the number of models?"
      ]
    },
    {
      "cell_type": "markdown",
      "metadata": {
        "id": "nmpA0hzpvJ8a"
      },
      "source": [
        "**Answer:**"
      ]
    },
    {
      "cell_type": "markdown",
      "metadata": {
        "id": "ZNTbeD0hdSwa"
      },
      "source": [
        "**Question:** In this homework, we have not compared the results of our implementation with that of sklearn's. Can you guess why?"
      ]
    },
    {
      "cell_type": "markdown",
      "metadata": {
        "id": "B-L4ZODpdS3b"
      },
      "source": [
        "**Answer:**"
      ]
    },
    {
      "cell_type": "markdown",
      "metadata": {
        "id": "qLDsaF5obCP0"
      },
      "source": [
        "# Mounting Google Drive\n",
        "\n",
        "1. Create a folder named ``ML`` in your drive\n",
        "\n",
        "2. Upload the compressed file ``hw7.zip`` into that folder\n",
        "\n",
        "3. Run the below code snippet and follow the instructions to give access to Colab"
      ]
    },
    {
      "cell_type": "code",
      "execution_count": null,
      "metadata": {
        "id": "SUE2oiKVb1FQ"
      },
      "outputs": [],
      "source": [
        "from google.colab import drive\n",
        "drive.mount('/content/drive')"
      ]
    },
    {
      "cell_type": "markdown",
      "metadata": {
        "id": "rTBAkQWge9pP"
      },
      "source": [
        "4. We will change our current directory, so that it is easier to import the necessary files from our drive. To do so, just run the below code cell"
      ]
    },
    {
      "cell_type": "code",
      "execution_count": null,
      "metadata": {
        "id": "aogm6VrzcWm4"
      },
      "outputs": [],
      "source": [
        "cd drive/MyDrive/ML"
      ]
    },
    {
      "cell_type": "markdown",
      "metadata": {
        "id": "mysjIuuAfRPM"
      },
      "source": [
        "5. Now that we are in the desired location, we can unzip the compressed file.\n",
        "\n",
        "  **Note that this step needs to be done only once**"
      ]
    },
    {
      "cell_type": "code",
      "execution_count": null,
      "metadata": {
        "id": "GI8jHqGwfQMd"
      },
      "outputs": [],
      "source": [
        "!unzip hw7.zip"
      ]
    },
    {
      "cell_type": "markdown",
      "metadata": {
        "id": "LPcIuODgftAX"
      },
      "source": [
        "6. Run the below code snippet to import all the necessary libraries, as well as the module(``bagging.py``), which you will fill in soon."
      ]
    },
    {
      "cell_type": "code",
      "execution_count": 62,
      "metadata": {
        "id": "mQ1GWOx32xBW",
        "colab": {
          "base_uri": "https://localhost:8080/"
        },
        "outputId": "d1910b2d-d701-40c7-ec1c-29facd07d3c2"
      },
      "outputs": [
        {
          "output_type": "stream",
          "name": "stdout",
          "text": [
            "The autoreload extension is already loaded. To reload it, use:\n",
            "  %reload_ext autoreload\n"
          ]
        },
        {
          "output_type": "stream",
          "name": "stderr",
          "text": [
            "<ipython-input-62-2c60067fbcc0>:8: MatplotlibDeprecationWarning: The seaborn styles shipped by Matplotlib are deprecated since 3.6, as they no longer correspond to the styles shipped by seaborn. However, they will remain available as 'seaborn-v0_8-<style>'. Alternatively, directly use the seaborn API instead.\n",
            "  plt.style.use('seaborn-whitegrid') # Plot style\n"
          ]
        }
      ],
      "source": [
        "import pandas as pd\n",
        "import numpy as np\n",
        "import matplotlib.pyplot as plt\n",
        "from sklearn import datasets\n",
        "from sklearn.metrics import accuracy_score\n",
        "from sklearn.model_selection import train_test_split\n",
        "\n",
        "plt.style.use('seaborn-whitegrid') # Plot style\n",
        "\n",
        "%load_ext autoreload\n",
        "%autoreload 2"
      ]
    },
    {
      "cell_type": "code",
      "execution_count": null,
      "metadata": {
        "id": "Xu0XxshYMCX_"
      },
      "outputs": [],
      "source": [
        "!unzip hw7.zip"
      ]
    },
    {
      "cell_type": "markdown",
      "metadata": {
        "id": "QhgBAK2NRTdS"
      },
      "source": [
        "In this homework we will use a variation of the digits data. You can find the [here](https://archive.ics.uci.edu/ml/datasets/Optical+Recognition+of+Handwritten+Digits)."
      ]
    },
    {
      "cell_type": "code",
      "execution_count": 63,
      "metadata": {
        "colab": {
          "base_uri": "https://localhost:8080/"
        },
        "id": "ncE5FTjvRsjY",
        "outputId": "a4f6441d-2d19-41a7-af2f-c5be8bc65c97"
      },
      "outputs": [
        {
          "output_type": "stream",
          "name": "stdout",
          "text": [
            "X shape: (360, 64)\n",
            "y shape: (360,)\n"
          ]
        }
      ],
      "source": [
        "data = datasets.load_digits(n_class=2)\n",
        "X = data.data\n",
        "y = data.target\n",
        "print('X shape:', X.shape)\n",
        "print('y shape:', y.shape)"
      ]
    },
    {
      "cell_type": "markdown",
      "metadata": {
        "id": "e6jRQjyER2Gq"
      },
      "source": [
        "We will set a test set aside for final evaluation."
      ]
    },
    {
      "cell_type": "code",
      "execution_count": 64,
      "metadata": {
        "id": "tPSp5eTnRstH"
      },
      "outputs": [],
      "source": [
        "X_train, X_test, y_train, y_test = train_test_split(X, y,\n",
        "                                                    test_size=20,\n",
        "                                                    random_state=0)\n",
        "\n"
      ]
    },
    {
      "cell_type": "code",
      "execution_count": 65,
      "metadata": {
        "colab": {
          "base_uri": "https://localhost:8080/"
        },
        "id": "KJaqCPqvRsyi",
        "outputId": "914868ac-7316-4946-e2c8-ecf1bb1a8d8e"
      },
      "outputs": [
        {
          "output_type": "stream",
          "name": "stdout",
          "text": [
            "Train: (340,)\n",
            "Test: (20,)\n"
          ]
        }
      ],
      "source": [
        "print('Train:', y_train.shape)\n",
        "print('Test:', y_test.shape)"
      ]
    },
    {
      "cell_type": "markdown",
      "metadata": {
        "id": "r6W0974Uds48"
      },
      "source": [
        "# Adaboost\n",
        "\n",
        "Implement the ``Adaboost`` class inside the ``boosting.py`` script and make sure the model can overfit the data."
      ]
    },
    {
      "cell_type": "code",
      "execution_count": 66,
      "metadata": {
        "id": "5mcmYFx7dvgI"
      },
      "outputs": [],
      "source": [
        "from boosting import Adaboost, GradientBoostingClassifier"
      ]
    },
    {
      "cell_type": "code",
      "execution_count": 67,
      "metadata": {
        "id": "OJbbh7octLvD",
        "colab": {
          "base_uri": "https://localhost:8080/"
        },
        "outputId": "21541f58-2efb-41fc-85fa-f25d034a6fb6"
      },
      "outputs": [
        {
          "output_type": "stream",
          "name": "stdout",
          "text": [
            "Train acc: 0.5117647058823529\n",
            "Test acc: 0.4\n"
          ]
        }
      ],
      "source": [
        "model1 = Adaboost()\n",
        "model1.fit(X_train, y_train)\n",
        "preds_train1 = model1.predict(X_train)\n",
        "preds_test1 = model1.predict(X_test)\n",
        "print('Train acc:', accuracy_score(y_train, preds_train1))\n",
        "print('Test acc:', accuracy_score(y_test, preds_test1))"
      ]
    },
    {
      "cell_type": "markdown",
      "metadata": {
        "id": "nZuaOMEmdv8L"
      },
      "source": [
        "# Gradient Boosting\n",
        "\n",
        "Implement the ``GradientBoostingClassifier`` class (**for binary classification**) inside the ``boosting.py`` script and again make sure the model can overfit the data. Ideally, you should have a base class called ``GradientBoosting`` and 2 child classes ``GradientBoostingRegressor`` and ``GradientBoostingClassifier``, since the Classifier \"depends\" on the Regressor in some sense."
      ]
    },
    {
      "cell_type": "code",
      "execution_count": 76,
      "metadata": {
        "id": "66x-HIDqdyX6",
        "colab": {
          "base_uri": "https://localhost:8080/",
          "height": 376
        },
        "outputId": "32e151d4-4c1b-45e0-9c8e-4c499dfe4bf6"
      },
      "outputs": [
        {
          "output_type": "error",
          "ename": "TypeError",
          "evalue": "ignored",
          "traceback": [
            "\u001b[0;31m---------------------------------------------------------------------------\u001b[0m",
            "\u001b[0;31mTypeError\u001b[0m                                 Traceback (most recent call last)",
            "\u001b[0;32m<ipython-input-76-f433b8515523>\u001b[0m in \u001b[0;36m<cell line: 1>\u001b[0;34m()\u001b[0m\n\u001b[0;32m----> 1\u001b[0;31m \u001b[0mmodel2\u001b[0m \u001b[0;34m=\u001b[0m \u001b[0mGradientBoostingClassifier\u001b[0m\u001b[0;34m(\u001b[0m\u001b[0;34m)\u001b[0m\u001b[0;34m\u001b[0m\u001b[0;34m\u001b[0m\u001b[0m\n\u001b[0m\u001b[1;32m      2\u001b[0m \u001b[0mmodel2\u001b[0m\u001b[0;34m.\u001b[0m\u001b[0mfit\u001b[0m\u001b[0;34m(\u001b[0m\u001b[0mX_train\u001b[0m\u001b[0;34m,\u001b[0m \u001b[0my_train\u001b[0m\u001b[0;34m)\u001b[0m\u001b[0;34m\u001b[0m\u001b[0;34m\u001b[0m\u001b[0m\n\u001b[1;32m      3\u001b[0m \u001b[0mpreds_train2\u001b[0m \u001b[0;34m=\u001b[0m \u001b[0mmodel2\u001b[0m\u001b[0;34m.\u001b[0m\u001b[0mpredict\u001b[0m\u001b[0;34m(\u001b[0m\u001b[0mX_train\u001b[0m\u001b[0;34m)\u001b[0m\u001b[0;34m\u001b[0m\u001b[0;34m\u001b[0m\u001b[0m\n\u001b[1;32m      4\u001b[0m \u001b[0mpreds_test2\u001b[0m \u001b[0;34m=\u001b[0m \u001b[0mmodel2\u001b[0m\u001b[0;34m.\u001b[0m\u001b[0mpredict\u001b[0m\u001b[0;34m(\u001b[0m\u001b[0mX_test\u001b[0m\u001b[0;34m)\u001b[0m\u001b[0;34m\u001b[0m\u001b[0;34m\u001b[0m\u001b[0m\n\u001b[1;32m      5\u001b[0m \u001b[0mprint\u001b[0m\u001b[0;34m(\u001b[0m\u001b[0;34m'Train acc:'\u001b[0m\u001b[0;34m,\u001b[0m \u001b[0maccuracy_score\u001b[0m\u001b[0;34m(\u001b[0m\u001b[0my_train\u001b[0m\u001b[0;34m,\u001b[0m \u001b[0mpreds_train2\u001b[0m\u001b[0;34m)\u001b[0m\u001b[0;34m)\u001b[0m\u001b[0;34m\u001b[0m\u001b[0;34m\u001b[0m\u001b[0m\n",
            "\u001b[0;32m/content/boosting.py\u001b[0m in \u001b[0;36m__init__\u001b[0;34m(self, n_estimators, learning_rate, min_samples_split, min_impurity, max_depth)\u001b[0m\n\u001b[1;32m    197\u001b[0m                 min_impurity=1e-7, max_depth=4):      \n\u001b[1;32m    198\u001b[0m \u001b[0;34m\u001b[0m\u001b[0m\n\u001b[0;32m--> 199\u001b[0;31m     \u001b[0msuper\u001b[0m\u001b[0;34m(\u001b[0m\u001b[0;34m)\u001b[0m\u001b[0;34m.\u001b[0m\u001b[0m__init__\u001b[0m\u001b[0;34m(\u001b[0m\u001b[0mn_estimators\u001b[0m\u001b[0;34m=\u001b[0m\u001b[0mn_estimators\u001b[0m\u001b[0;34m,\u001b[0m\u001b[0mlearning_rate\u001b[0m\u001b[0;34m=\u001b[0m\u001b[0mlearning_rate\u001b[0m\u001b[0;34m,\u001b[0m\u001b[0mmin_samples_split\u001b[0m\u001b[0;34m=\u001b[0m\u001b[0mmin_samples_split\u001b[0m\u001b[0;34m,\u001b[0m\u001b[0mmin_impurity\u001b[0m\u001b[0;34m=\u001b[0m\u001b[0mmin_impurity\u001b[0m\u001b[0;34m,\u001b[0m\u001b[0mmax_depth\u001b[0m\u001b[0;34m=\u001b[0m\u001b[0mmax_depth\u001b[0m\u001b[0;34m,\u001b[0m\u001b[0mregression\u001b[0m\u001b[0;34m=\u001b[0m\u001b[0;32mFalse\u001b[0m\u001b[0;34m)\u001b[0m\u001b[0;34m\u001b[0m\u001b[0;34m\u001b[0m\u001b[0m\n\u001b[0m",
            "\u001b[0;31mTypeError\u001b[0m: object.__init__() takes exactly one argument (the instance to initialize)"
          ]
        }
      ],
      "source": [
        "model2 = GradientBoostingClassifier()\n",
        "model2.fit(X_train, y_train)\n",
        "preds_train2 = model2.predict(X_train)\n",
        "preds_test2 = model2.predict(X_test)\n",
        "print('Train acc:', accuracy_score(y_train, preds_train2))\n",
        "print('Test acc:', accuracy_score(y_test, preds_test2))"
      ]
    }
  ],
  "metadata": {
    "colab": {
      "provenance": []
    },
    "kernelspec": {
      "display_name": "Python 3",
      "language": "python",
      "name": "python3"
    },
    "language_info": {
      "codemirror_mode": {
        "name": "ipython",
        "version": 3
      },
      "file_extension": ".py",
      "mimetype": "text/x-python",
      "name": "python",
      "nbconvert_exporter": "python",
      "pygments_lexer": "ipython3",
      "version": "3.7.4"
    }
  },
  "nbformat": 4,
  "nbformat_minor": 0
}